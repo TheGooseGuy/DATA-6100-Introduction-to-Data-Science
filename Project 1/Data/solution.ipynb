{
  "nbformat": 4,
  "nbformat_minor": 0,
  "metadata": {
    "colab": {
      "provenance": []
    },
    "kernelspec": {
      "name": "python3",
      "display_name": "Python 3"
    },
    "language_info": {
      "name": "python"
    }
  },
  "cells": [
    {
      "cell_type": "markdown",
      "source": [
        "- [ ] use hyperlink to create a table of contents"
      ],
      "metadata": {
        "id": "0ryEMLoNUsJP"
      }
    },
    {
      "cell_type": "code",
      "execution_count": 61,
      "metadata": {
        "colab": {
          "base_uri": "https://localhost:8080/"
        },
        "id": "iyqzUMooHvlH",
        "outputId": "5a28040c-9923-4df6-eedc-b2c1cb39af8f"
      },
      "outputs": [
        {
          "output_type": "stream",
          "name": "stdout",
          "text": [
            "Requirement already satisfied: category_encoders in /usr/local/lib/python3.10/dist-packages (2.6.4)\n",
            "Requirement already satisfied: numpy>=1.14.0 in /usr/local/lib/python3.10/dist-packages (from category_encoders) (1.26.4)\n",
            "Requirement already satisfied: scikit-learn>=0.20.0 in /usr/local/lib/python3.10/dist-packages (from category_encoders) (1.5.2)\n",
            "Requirement already satisfied: scipy>=1.0.0 in /usr/local/lib/python3.10/dist-packages (from category_encoders) (1.13.1)\n",
            "Requirement already satisfied: statsmodels>=0.9.0 in /usr/local/lib/python3.10/dist-packages (from category_encoders) (0.14.4)\n",
            "Requirement already satisfied: pandas>=1.0.5 in /usr/local/lib/python3.10/dist-packages (from category_encoders) (2.2.2)\n",
            "Requirement already satisfied: patsy>=0.5.1 in /usr/local/lib/python3.10/dist-packages (from category_encoders) (0.5.6)\n",
            "Requirement already satisfied: python-dateutil>=2.8.2 in /usr/local/lib/python3.10/dist-packages (from pandas>=1.0.5->category_encoders) (2.8.2)\n",
            "Requirement already satisfied: pytz>=2020.1 in /usr/local/lib/python3.10/dist-packages (from pandas>=1.0.5->category_encoders) (2024.2)\n",
            "Requirement already satisfied: tzdata>=2022.7 in /usr/local/lib/python3.10/dist-packages (from pandas>=1.0.5->category_encoders) (2024.2)\n",
            "Requirement already satisfied: six in /usr/local/lib/python3.10/dist-packages (from patsy>=0.5.1->category_encoders) (1.16.0)\n",
            "Requirement already satisfied: joblib>=1.2.0 in /usr/local/lib/python3.10/dist-packages (from scikit-learn>=0.20.0->category_encoders) (1.4.2)\n",
            "Requirement already satisfied: threadpoolctl>=3.1.0 in /usr/local/lib/python3.10/dist-packages (from scikit-learn>=0.20.0->category_encoders) (3.5.0)\n",
            "Requirement already satisfied: packaging>=21.3 in /usr/local/lib/python3.10/dist-packages (from statsmodels>=0.9.0->category_encoders) (24.1)\n"
          ]
        },
        {
          "output_type": "stream",
          "name": "stderr",
          "text": [
            "<ipython-input-61-72d37e3bd829>:23: MatplotlibDeprecationWarning: The seaborn styles shipped by Matplotlib are deprecated since 3.6, as they no longer correspond to the styles shipped by seaborn. However, they will remain available as 'seaborn-v0_8-<style>'. Alternatively, directly use the seaborn API instead.\n",
            "  plt.style.use('seaborn')\n"
          ]
        }
      ],
      "source": [
        "# Set up packages\n",
        "!pip install category_encoders\n",
        "import numpy as np\n",
        "import pandas as pd\n",
        "import seaborn as sns\n",
        "from math import sqrt\n",
        "\n",
        "import category_encoders as ce\n",
        "from sklearn.preprocessing import LabelEncoder\n",
        "from sklearn.preprocessing import StandardScaler\n",
        "from sklearn.model_selection import train_test_split\n",
        "from sklearn.linear_model import LinearRegression as lr\n",
        "from sklearn.metrics import mean_squared_error\n",
        "from sklearn.metrics import r2_score\n",
        "import matplotlib.pyplot as plt\n",
        "import statsmodels.api as sm\n",
        "from statsmodels.stats.outliers_influence import variance_inflation_factor as vif\n",
        "from statsmodels.tools.tools import add_constant\n",
        "from itertools import chain, combinations\n",
        "\n",
        "pd.set_option('display.max_rows', 10)\n",
        "pd.set_option('display.float_format', '{:20,.2f}'.format) # get rid of scientific notation\n",
        "plt.style.use('seaborn')"
      ]
    },
    {
      "cell_type": "code",
      "source": [
        "data = pd.read_csv('/content/Housing_Data_Train.csv') # Read the training data set."
      ],
      "metadata": {
        "id": "EXOBGAyvJYPn"
      },
      "execution_count": 620,
      "outputs": []
    },
    {
      "cell_type": "markdown",
      "source": [
        "# Data Pre-Processing\n",
        "\n",
        "\n",
        "\n"
      ],
      "metadata": {
        "id": "QMHAqcJVH4ZH"
      }
    },
    {
      "cell_type": "markdown",
      "source": [
        "## `NaN`s"
      ],
      "metadata": {
        "id": "F9RSvNtuknTF"
      }
    },
    {
      "cell_type": "code",
      "source": [
        "# Check the NaN values\n",
        "for column in data:\n",
        "    if data[column].isna().any():\n",
        "        print(f\"Column '{column}' contains NaN values\")"
      ],
      "metadata": {
        "id": "anI1IHN6kcRZ",
        "colab": {
          "base_uri": "https://localhost:8080/"
        },
        "outputId": "4bf6db74-efac-4d3b-a02a-7bc9e58a290c"
      },
      "execution_count": 621,
      "outputs": [
        {
          "output_type": "stream",
          "name": "stdout",
          "text": [
            "Column 'LotFrontage' contains NaN values\n",
            "Column 'Alley' contains NaN values\n",
            "Column 'MasVnrType' contains NaN values\n",
            "Column 'MasVnrArea' contains NaN values\n",
            "Column 'BsmtQual' contains NaN values\n",
            "Column 'BsmtCond' contains NaN values\n",
            "Column 'BsmtExposure' contains NaN values\n",
            "Column 'BsmtFinType1' contains NaN values\n",
            "Column 'BsmtFinType2' contains NaN values\n",
            "Column 'Electrical' contains NaN values\n",
            "Column 'FireplaceQu' contains NaN values\n",
            "Column 'GarageType' contains NaN values\n",
            "Column 'GarageYrBlt' contains NaN values\n",
            "Column 'GarageFinish' contains NaN values\n",
            "Column 'GarageQual' contains NaN values\n",
            "Column 'GarageCond' contains NaN values\n",
            "Column 'PoolQC' contains NaN values\n",
            "Column 'Fence' contains NaN values\n",
            "Column 'MiscFeature' contains NaN values\n"
          ]
        }
      ]
    },
    {
      "cell_type": "code",
      "source": [
        "# Deal with Nan Values\n",
        "data['LotFrontage'] = data['LotFrontage'].fillna(0)\n",
        "data['Alley'] = data['Alley'].fillna(\"NA\")\n",
        "data['MasVnrType'] = data['MasVnrType'].fillna(\"None\")\n",
        "data['MasVnrArea'] = data['MasVnrArea'].fillna(0)\n",
        "data['BsmtQual'] = data['BsmtQual'].fillna(\"NA\")\n",
        "data['BsmtCond'] = data['BsmtCond'].fillna(\"NA\")\n",
        "data['BsmtExposure'] = data['BsmtExposure'].fillna(\"NA\")\n",
        "data['BsmtFinType1'] = data['BsmtFinType1'].fillna(\"NA\")\n",
        "data['BsmtFinType2'] = data['BsmtFinType2'].fillna(\"NA\")\n",
        "data['Electrical'] = data['Electrical'].fillna(\"Mix\")\n",
        "data['FireplaceQu'] = data['FireplaceQu'].fillna(\"NA\")\n",
        "data['GarageType'] = data['GarageType'].fillna(\"NA\")\n",
        "data['GarageYrBlt'] = data['GarageYrBlt'].fillna(data['GarageYrBlt'].mean())\n",
        "data['GarageFinish'] = data['GarageFinish'].fillna(\"NA\")\n",
        "data['GarageQual'] = data['GarageQual'].fillna(\"NA\")\n",
        "data['GarageCond'] = data['GarageCond'].fillna(\"NA\")\n",
        "data['PoolQC'] = data['PoolQC'].fillna(\"NA\")\n",
        "data['Fence'] = data['Fence'].fillna(\"NA\")\n",
        "data['MiscFeature'] = data['MiscFeature'].fillna(\"NA\")"
      ],
      "metadata": {
        "id": "QMp9PXNekpeB"
      },
      "execution_count": 622,
      "outputs": []
    },
    {
      "cell_type": "code",
      "source": [
        "transformed_data = data # Create a copy of the data set."
      ],
      "metadata": {
        "id": "DUtM1M6WnWKo"
      },
      "execution_count": 623,
      "outputs": []
    },
    {
      "cell_type": "markdown",
      "source": [
        "The data shows that the scale of different columns vary a lot. Some of them are even categorical.\n",
        "\n",
        "Data trasformation is needed to include the most information to the model."
      ],
      "metadata": {
        "id": "1W5raSEvUhXc"
      }
    },
    {
      "cell_type": "markdown",
      "source": [
        "## Data-Transformation"
      ],
      "metadata": {
        "id": "bB9sUx3bbrLa"
      }
    },
    {
      "cell_type": "code",
      "source": [
        "scaler = StandardScaler() # For standardization"
      ],
      "metadata": {
        "id": "uBl-dCypIw61"
      },
      "execution_count": 624,
      "outputs": []
    },
    {
      "cell_type": "code",
      "source": [
        "# MSSubClass - Binary Encoding\n",
        "MSSubClass = transformed_data[\"MSSubClass\"]\n",
        "\n",
        "encoder = ce.BinaryEncoder(cols=['MSSubClass'])\n",
        "encoded_MSSubClass = encoder.fit_transform(MSSubClass)\n",
        "transformed_data[\"MSSubClass_0\"] = encoded_MSSubClass['MSSubClass_0']\n",
        "transformed_data[\"MSSubClass_1\"] = encoded_MSSubClass['MSSubClass_1']\n",
        "transformed_data[\"MSSubClass_2\"] = encoded_MSSubClass['MSSubClass_2']\n",
        "transformed_data[\"MSSubClass_3\"] = encoded_MSSubClass['MSSubClass_3']\n",
        "\n",
        "transformed_data = transformed_data.drop(['MSSubClass'], axis=1)"
      ],
      "metadata": {
        "collapsed": true,
        "id": "E2uzxudobgX9"
      },
      "execution_count": 625,
      "outputs": []
    },
    {
      "cell_type": "code",
      "source": [
        "# MSZoing - Binary Encoding\n",
        "MSZoning = transformed_data[\"MSZoning\"]\n",
        "\n",
        "encoder = ce.BinaryEncoder(cols=['MSZoning'])\n",
        "encoded_MSZoning = encoder.fit_transform(MSZoning)\n",
        "transformed_data[\"MSZoning_0\"] = encoded_MSZoning['MSZoning_0']\n",
        "transformed_data[\"MSZoning_1\"] = encoded_MSZoning['MSZoning_1']\n",
        "transformed_data[\"MSZoning_2\"] = encoded_MSZoning['MSZoning_2']\n",
        "transformed_data = transformed_data.drop(['MSZoning'], axis=1)"
      ],
      "metadata": {
        "id": "zh2ba2SlhMAf"
      },
      "execution_count": 626,
      "outputs": []
    },
    {
      "cell_type": "code",
      "source": [
        "# Street - Binary Encoding\n",
        "Street = transformed_data[\"Street\"]\n",
        "\n",
        "encoder = ce.BinaryEncoder(cols=['Street'])\n",
        "encoded_Street = encoder.fit_transform(Street)\n",
        "transformed_data[\"Street_0\"] = encoded_Street['Street_0']\n",
        "transformed_data[\"Street_1\"] = encoded_Street['Street_1']\n",
        "\n",
        "transformed_data = transformed_data.drop(['Street'], axis=1)"
      ],
      "metadata": {
        "id": "UHE9ruBB52Xm"
      },
      "execution_count": 627,
      "outputs": []
    },
    {
      "cell_type": "code",
      "source": [
        "# Alley - Binary Encoding\n",
        "transformed_data[\"Alley\"] = transformed_data[\"Alley\"].fillna(0) # Replace all the \"NAN\" with 0\n",
        "Alley = data[\"Alley\"]\n",
        "\n",
        "encoder = ce.BinaryEncoder(cols=['Alley'])\n",
        "encoded_Alley = encoder.fit_transform(Alley)\n",
        "transformed_data[\"Alley_0\"] = encoded_Alley['Alley_0']\n",
        "transformed_data[\"Alley_1\"] = encoded_Alley['Alley_1']\n",
        "\n",
        "transformed_data = transformed_data.drop(['Alley'], axis=1)"
      ],
      "metadata": {
        "id": "BTo8sc1u8j2y"
      },
      "execution_count": 628,
      "outputs": []
    },
    {
      "cell_type": "code",
      "source": [
        "# LotShape - Label Encoding\n",
        "LotShape = transformed_data[\"LotShape\"]\n",
        "\n",
        "transformed_data['encoded_LotShape'] = transformed_data['LotShape'].map({\n",
        "    \"Reg\": 0,\n",
        "    \"IR1\": 1,\n",
        "    \"IR2\": 2,\n",
        "    \"IR3\": 3\n",
        "})\n",
        "\n",
        "transformed_data = transformed_data.drop(['LotShape'], axis=1)"
      ],
      "metadata": {
        "id": "79rPl3vz-pL1"
      },
      "execution_count": 629,
      "outputs": []
    },
    {
      "cell_type": "code",
      "source": [
        "# LandContour - Label Encoding\n",
        "LandContour = transformed_data[\"LandContour\"]\n",
        "\n",
        "transformed_data['encoded_LandContour'] = transformed_data['LandContour'].map({\n",
        "    \"Low\": 1,\n",
        "    \"HLS\": 2,\n",
        "    \"Bnk\": 3,\n",
        "    \"Lvl\": 4})\n",
        "\n",
        "transformed_data = transformed_data.drop(['LandContour'], axis=1)"
      ],
      "metadata": {
        "id": "5g_jvTs9COh5"
      },
      "execution_count": 630,
      "outputs": []
    },
    {
      "cell_type": "code",
      "source": [
        "# Utilities - Label Encoding\n",
        "Utilities = transformed_data[\"Utilities\"]\n",
        "\n",
        "transformed_data['encoded_Utilities'] = transformed_data['Utilities'].map({\n",
        "    \"ELO\": 0,\n",
        "    \"NoSeWa\": 1,\n",
        "    \"NoSewr\": 2,\n",
        "    \"AllPub\": 3})\n",
        "\n",
        "transformed_data = transformed_data.drop(['Utilities'], axis=1)"
      ],
      "metadata": {
        "id": "vVxiU6vyCz6d"
      },
      "execution_count": 631,
      "outputs": []
    },
    {
      "cell_type": "code",
      "source": [
        "# LotConfig - Binary Encoding\n",
        "LotConfig = transformed_data[\"LotConfig\"]\n",
        "\n",
        "encoder = ce.BinaryEncoder(cols=['LotConfig'])\n",
        "encoded_LotConfig = encoder.fit_transform(LotConfig)\n",
        "transformed_data[\"LotConfig_0\"] = encoded_LotConfig['LotConfig_0']\n",
        "transformed_data[\"LotConfig_1\"] = encoded_LotConfig['LotConfig_1']\n",
        "transformed_data[\"LotConfig_2\"] = encoded_LotConfig['LotConfig_2']\n",
        "\n",
        "transformed_data = transformed_data.drop(['LotConfig'], axis=1)"
      ],
      "metadata": {
        "id": "eiG1RFoxDUJ-"
      },
      "execution_count": 632,
      "outputs": []
    },
    {
      "cell_type": "code",
      "source": [
        "# LandSlope - Label Encoding\n",
        "LandSlope = transformed_data[\"LandSlope\"]\n",
        "\n",
        "transformed_data['encoded_LandSlope'] = transformed_data['LandSlope'].map({\n",
        "    \"Gtl\": 2,\n",
        "    \"Mod\": 1,\n",
        "    \"Sev\": 0})\n",
        "\n",
        "transformed_data = transformed_data.drop(['LandSlope'], axis=1)"
      ],
      "metadata": {
        "id": "jg4mBNVpErgj"
      },
      "execution_count": 633,
      "outputs": []
    },
    {
      "cell_type": "code",
      "source": [
        "# Neighborhood - Binary Encoding\n",
        "Neighborhood = transformed_data[\"Neighborhood\"]\n",
        "\n",
        "encoder = ce.BinaryEncoder(cols=['Neighborhood'])\n",
        "encoded_Neighborhood = encoder.fit_transform(Neighborhood)\n",
        "\n",
        "transformed_data[\"Neighborhood_0\"] = encoded_Neighborhood['Neighborhood_0']\n",
        "transformed_data[\"Neighborhood_1\"] = encoded_Neighborhood['Neighborhood_1']\n",
        "transformed_data[\"Neighborhood_2\"] = encoded_Neighborhood['Neighborhood_2']\n",
        "transformed_data[\"Neighborhood_3\"] = encoded_Neighborhood['Neighborhood_3']\n",
        "transformed_data[\"Neighborhood_4\"] = encoded_Neighborhood['Neighborhood_4']\n",
        "\n",
        "transformed_data = transformed_data.drop(['Neighborhood'], axis=1)"
      ],
      "metadata": {
        "id": "EbRTiIYgGc-X"
      },
      "execution_count": 634,
      "outputs": []
    },
    {
      "cell_type": "code",
      "source": [
        "# Condition1 - Binary Encoding\n",
        "Condition1 = transformed_data[\"Condition1\"]\n",
        "\n",
        "encoder = ce.BinaryEncoder(cols=['Condition1'])\n",
        "encoded_Condition1 = encoder.fit_transform(Condition1)\n",
        "transformed_data[\"Condition1_0\"] = encoded_Condition1['Condition1_0']\n",
        "transformed_data[\"Condition1_1\"] = encoded_Condition1['Condition1_1']\n",
        "transformed_data[\"Condition1_2\"] = encoded_Condition1['Condition1_2']\n",
        "transformed_data[\"Condition1_3\"] = encoded_Condition1['Condition1_3']\n",
        "\n",
        "transformed_data = transformed_data.drop(['Condition1'], axis=1)"
      ],
      "metadata": {
        "id": "0EF_5bNdHKjF"
      },
      "execution_count": 635,
      "outputs": []
    },
    {
      "cell_type": "code",
      "source": [
        "# Condition2 - Binary Encoding\n",
        "Condition2 = transformed_data[\"Condition2\"]\n",
        "\n",
        "encoder = ce.BinaryEncoder(cols=['Condition2'])\n",
        "encoded_Condition2 = encoder.fit_transform(Condition2)\n",
        "transformed_data[\"Condition2_0\"] = encoded_Condition2['Condition2_0']\n",
        "transformed_data[\"Condition2_1\"] = encoded_Condition2['Condition2_1']\n",
        "transformed_data[\"Condition2_2\"] = encoded_Condition2['Condition2_2']\n",
        "\n",
        "transformed_data = transformed_data.drop(['Condition2'], axis=1)"
      ],
      "metadata": {
        "id": "oMRA_PFOISfd"
      },
      "execution_count": 636,
      "outputs": []
    },
    {
      "cell_type": "code",
      "source": [
        "# BldgType - Binary Encoding\n",
        "BldgType = transformed_data[\"BldgType\"]\n",
        "\n",
        "encoder = ce.BinaryEncoder(cols=['BldgType'])\n",
        "encoded_BldgType = encoder.fit_transform(BldgType)\n",
        "transformed_data[\"BldgType_0\"] = encoded_BldgType['BldgType_0']\n",
        "transformed_data[\"BldgType_1\"] = encoded_BldgType['BldgType_1']\n",
        "transformed_data[\"BldgType_2\"] = encoded_BldgType['BldgType_2']\n",
        "\n",
        "transformed_data = transformed_data.drop(['BldgType'], axis=1)"
      ],
      "metadata": {
        "id": "9C9orqNYI9oY"
      },
      "execution_count": 637,
      "outputs": []
    },
    {
      "cell_type": "code",
      "source": [
        "# HouseStyle - Label Encoding\n",
        "HouseStyle = transformed_data[\"HouseStyle\"]\n",
        "\n",
        "transformed_data['encoded_HouseStyle'] = transformed_data['HouseStyle'].map({\n",
        "    \"1Story\": 1,\n",
        "    \"1.5Fin\": 1.75,\n",
        "    \"1.5Unf\": 1.5,\n",
        "    \"2Story\": 2,\n",
        "    \"2.5Fin\": 2.75,\n",
        "    \"2.5Unf\": 2.5,\n",
        "    \"SFoyer\": 3,\n",
        "    \"SLvl\"  : 3.25\n",
        "    })\n",
        "\n",
        "transformed_data = transformed_data.drop(['HouseStyle'], axis=1)\n"
      ],
      "metadata": {
        "id": "vXMoxEV2Jfpw"
      },
      "execution_count": 638,
      "outputs": []
    },
    {
      "cell_type": "code",
      "source": [
        "# RoofStyle - Binary Encoding\n",
        "RoofStyle = transformed_data[\"RoofStyle\"]\n",
        "\n",
        "encoder = ce.BinaryEncoder(cols=['RoofStyle'])\n",
        "encoded_RoofStyle = encoder.fit_transform(RoofStyle)\n",
        "transformed_data[\"RoofStyle_0\"] = encoded_RoofStyle['RoofStyle_0']\n",
        "transformed_data[\"RoofStyle_1\"] = encoded_RoofStyle['RoofStyle_1']\n",
        "transformed_data[\"RoofStyle_2\"] = encoded_RoofStyle['RoofStyle_2']\n",
        "\n",
        "transformed_data = transformed_data.drop(['RoofStyle'], axis=1)"
      ],
      "metadata": {
        "id": "BSYoSUU5KoyB"
      },
      "execution_count": 639,
      "outputs": []
    },
    {
      "cell_type": "code",
      "source": [
        "# Roof Material - Binary Encoding\n",
        "RoofMatl = transformed_data[\"RoofMatl\"]\n",
        "\n",
        "encoder = ce.BinaryEncoder(cols=['RoofMatl'])\n",
        "encoded_RoofMatl = encoder.fit_transform(RoofMatl)\n",
        "transformed_data[\"RoofMatl_0\"] = encoded_RoofMatl['RoofMatl_0']\n",
        "transformed_data[\"RoofMatl_1\"] = encoded_RoofMatl['RoofMatl_1']\n",
        "transformed_data[\"RoofMatl_2\"] = encoded_RoofMatl['RoofMatl_2']\n",
        "\n",
        "\n",
        "transformed_data = transformed_data.drop(['RoofMatl'], axis=1)"
      ],
      "metadata": {
        "id": "jItDH_3cL1xF"
      },
      "execution_count": 640,
      "outputs": []
    },
    {
      "cell_type": "code",
      "source": [
        "# Exterior1st - Binary Encoding\n",
        "Exterior1st = transformed_data[\"Exterior1st\"]\n",
        "\n",
        "encoder = ce.BinaryEncoder(cols=['Exterior1st'])\n",
        "encoded_Exterior1st = encoder.fit_transform(Exterior1st)\n",
        "transformed_data[\"Exterior1st_0\"] = encoded_Exterior1st['Exterior1st_0']\n",
        "transformed_data[\"Exterior1st_1\"] = encoded_Exterior1st['Exterior1st_1']\n",
        "transformed_data[\"Exterior1st_2\"] = encoded_Exterior1st['Exterior1st_2']\n",
        "transformed_data[\"Exterior1st_3\"] = encoded_Exterior1st['Exterior1st_3']\n",
        "\n",
        "transformed_data = transformed_data.drop(['Exterior1st'], axis=1)"
      ],
      "metadata": {
        "id": "URNAtXX7MUYa"
      },
      "execution_count": 641,
      "outputs": []
    },
    {
      "cell_type": "code",
      "source": [
        "# Exterior2nd - Binary Encoding\n",
        "Exterior2nd = transformed_data[\"Exterior2nd\"]\n",
        "\n",
        "encoder = ce.BinaryEncoder(cols=['Exterior2nd'])\n",
        "encoded_Exterior2nd = encoder.fit_transform(Exterior2nd)\n",
        "transformed_data[\"Exterior2nd_0\"] = encoded_Exterior2nd['Exterior2nd_0']\n",
        "transformed_data[\"Exterior2nd_1\"] = encoded_Exterior2nd['Exterior2nd_1']\n",
        "transformed_data[\"Exterior2nd_2\"] = encoded_Exterior2nd['Exterior2nd_2']\n",
        "transformed_data[\"Exterior2nd_3\"] = encoded_Exterior2nd['Exterior2nd_3']\n",
        "\n",
        "transformed_data = transformed_data.drop(['Exterior2nd'], axis=1)"
      ],
      "metadata": {
        "id": "maD01p0fM5ng"
      },
      "execution_count": 642,
      "outputs": []
    },
    {
      "cell_type": "code",
      "source": [
        "# MasVnrType - Binary Encoding\n",
        "MasVnrType = transformed_data[\"MasVnrType\"]\n",
        "\n",
        "encoder = ce.BinaryEncoder(cols=['MasVnrType'])\n",
        "encoded_MasVnrType = encoder.fit_transform(MasVnrType)\n",
        "transformed_data[\"MasVnrType_0\"] = encoded_MasVnrType['MasVnrType_0']\n",
        "transformed_data[\"MasVnrType_1\"] = encoded_MasVnrType['MasVnrType_1']\n",
        "transformed_data[\"MasVnrType_2\"] = encoded_MasVnrType['MasVnrType_2']\n",
        "\n",
        "transformed_data = transformed_data.drop(['MasVnrType'], axis=1)"
      ],
      "metadata": {
        "id": "ewusJEn2N9hg"
      },
      "execution_count": 643,
      "outputs": []
    },
    {
      "cell_type": "code",
      "source": [
        "# ExterQual - Label Encoding\n",
        "ExterQual = transformed_data[\"ExterQual\"]\n",
        "\n",
        "transformed_data['encoded_ExterQual'] = transformed_data['ExterQual'].map({\n",
        "    \"Poor\": 0,\n",
        "    \"Fa\": 1,\n",
        "    \"TA\": 2,\n",
        "    \"Gd\": 3,\n",
        "    \"Ex\": 4})\n",
        "\n",
        "transformed_data = transformed_data.drop(['ExterQual'], axis=1)"
      ],
      "metadata": {
        "id": "PH0j4Bk1OavW"
      },
      "execution_count": 644,
      "outputs": []
    },
    {
      "cell_type": "code",
      "source": [
        "# ExterCond - Label Encoding\n",
        "ExterCond = transformed_data[\"ExterCond\"]\n",
        "\n",
        "transformed_data['encoded_ExterCond'] = transformed_data['ExterCond'].map({\n",
        "    \"Po\": 0,\n",
        "    \"Fa\": 1,\n",
        "    \"TA\": 2,\n",
        "    \"Gd\": 3,\n",
        "    \"Ex\": 4})\n",
        "\n",
        "transformed_data = transformed_data.drop(['ExterCond'], axis=1)"
      ],
      "metadata": {
        "id": "yVJQ7PfQO6RZ"
      },
      "execution_count": 645,
      "outputs": []
    },
    {
      "cell_type": "code",
      "source": [
        "# Foundation - Binary Encoding\n",
        "Foundation = transformed_data[\"Foundation\"]\n",
        "\n",
        "encoder = ce.BinaryEncoder(cols=['Foundation'])\n",
        "encoded_Foundation = encoder.fit_transform(Foundation)\n",
        "transformed_data[\"Foundation_0\"] = encoded_Foundation['Foundation_0']\n",
        "transformed_data[\"Foundation_1\"] = encoded_Foundation['Foundation_1']\n",
        "transformed_data[\"Foundation_2\"] = encoded_Foundation['Foundation_2']\n",
        "\n",
        "transformed_data = transformed_data.drop(['Foundation'], axis=1)"
      ],
      "metadata": {
        "id": "9CJYDQTbPHFn"
      },
      "execution_count": 646,
      "outputs": []
    },
    {
      "cell_type": "code",
      "source": [
        "# BsmtQual - Label Encoding\n",
        "BsmtQual = transformed_data[\"BsmtQual\"]\n",
        "\n",
        "transformed_data['encoded_BsmtQual'] = transformed_data['BsmtQual'].map({\n",
        "    \"NA\": -1,\n",
        "    \"Po\": 0,\n",
        "    \"Fa\": 1,\n",
        "    \"TA\": 2,\n",
        "    \"Gd\": 3,\n",
        "    \"Ex\": 4\n",
        "    })\n",
        "\n",
        "transformed_data = transformed_data.drop(['BsmtQual'], axis=1)"
      ],
      "metadata": {
        "id": "pcW9AeNuPak5"
      },
      "execution_count": 647,
      "outputs": []
    },
    {
      "cell_type": "code",
      "source": [
        "# BsmtCond - Label Encoding\n",
        "BsmtCond = transformed_data[\"BsmtCond\"]\n",
        "\n",
        "transformed_data['encoded_BsmtCond'] = transformed_data['BsmtCond'].map({\n",
        "    \"NA\": -1,\n",
        "    \"Po\": 0,\n",
        "    \"Fa\": 1,\n",
        "    \"TA\": 2,\n",
        "    \"Gd\": 3,\n",
        "    \"Ex\": 4\n",
        "    })\n",
        "\n",
        "transformed_data = transformed_data.drop(['BsmtCond'], axis=1)"
      ],
      "metadata": {
        "id": "co9Cns61Pxc2"
      },
      "execution_count": 648,
      "outputs": []
    },
    {
      "cell_type": "code",
      "source": [
        "# BsmtExposure - Label Encoding\n",
        "BsmtExposure = transformed_data[\"BsmtExposure\"]\n",
        "\n",
        "transformed_data['encoded_BsmtExposure'] = transformed_data['BsmtExposure'].map({\n",
        "    \"NA\": -1,\n",
        "    \"No\": 0,\n",
        "    \"Mn\": 1,\n",
        "    \"Av\": 2,\n",
        "    \"Gd\": 3,\n",
        "    })\n",
        "\n",
        "transformed_data = transformed_data.drop(['BsmtExposure'], axis=1)"
      ],
      "metadata": {
        "id": "52z9-XHNQOW_"
      },
      "execution_count": 649,
      "outputs": []
    },
    {
      "cell_type": "code",
      "source": [
        "# BsmtFinType1 - Label Encoding\n",
        "BsmtFinType1 = transformed_data[\"BsmtFinType1\"]\n",
        "\n",
        "transformed_data['encoded_BsmtFinType1'] = transformed_data['BsmtFinType1'].map({\n",
        "    \"NA\" : -2,\n",
        "    \"Unf\": -1,\n",
        "    \"LwQ\": 0,\n",
        "    \"Rec\": 1,\n",
        "    \"BLQ\": 2,\n",
        "    \"ALQ\": 3,\n",
        "    \"GLQ\": 4\n",
        "    })\n",
        "\n",
        "transformed_data = transformed_data.drop(['BsmtFinType1'], axis=1)"
      ],
      "metadata": {
        "id": "FOZFMAzGQi9W"
      },
      "execution_count": 650,
      "outputs": []
    },
    {
      "cell_type": "code",
      "source": [
        "# BsmtFinType2 - Label Encoding\n",
        "BsmtFinType2 = transformed_data[\"BsmtFinType2\"]\n",
        "\n",
        "transformed_data['encoded_BsmtFinType2'] = transformed_data['BsmtFinType2'].map({\n",
        "    \"NA\" : -2,\n",
        "    \"Unf\": -1,\n",
        "    \"LwQ\": 0,\n",
        "    \"Rec\": 1,\n",
        "    \"BLQ\": 2,\n",
        "    \"ALQ\": 3,\n",
        "    \"GLQ\": 4\n",
        "    })\n",
        "\n",
        "transformed_data = transformed_data.drop(['BsmtFinType2'], axis=1)"
      ],
      "metadata": {
        "id": "MVM1bHbzRp9A"
      },
      "execution_count": 651,
      "outputs": []
    },
    {
      "cell_type": "code",
      "source": [
        "# Heating - Binary Encoding\n",
        "Heating = transformed_data[\"Heating\"]\n",
        "\n",
        "encoder = ce.BinaryEncoder(cols=['Heating'])\n",
        "encoded_Heating = encoder.fit_transform(Heating)\n",
        "transformed_data[\"Heating_0\"] = encoded_Heating['Heating_0']\n",
        "transformed_data[\"Heating_1\"] = encoded_Heating['Heating_1']\n",
        "transformed_data[\"Heating_2\"] = encoded_Heating['Heating_2']\n",
        "\n",
        "transformed_data = transformed_data.drop(['Heating'], axis=1)"
      ],
      "metadata": {
        "id": "qbFbaZ5ASAUy"
      },
      "execution_count": 652,
      "outputs": []
    },
    {
      "cell_type": "code",
      "source": [
        "# HeatingQC - Label Encoding\n",
        "HeatingQC = transformed_data[\"HeatingQC\"]\n",
        "\n",
        "transformed_data['encoded_HeatingQC'] = transformed_data['HeatingQC'].map({\n",
        "    \"Po\" : -1,\n",
        "    \"Fa\": 0,\n",
        "    \"TA\": 1,\n",
        "    \"Gd\": 2,\n",
        "    \"Ex\": 3\n",
        "    })\n",
        "\n",
        "transformed_data = transformed_data.drop(['HeatingQC'], axis=1)"
      ],
      "metadata": {
        "id": "cdfi_u5OSdTA"
      },
      "execution_count": 653,
      "outputs": []
    },
    {
      "cell_type": "code",
      "source": [
        "# CentralAir - Label Encoding\n",
        "CentralAir = transformed_data[\"CentralAir\"]\n",
        "\n",
        "transformed_data['encoded_CentralAir'] = transformed_data['CentralAir'].map({\n",
        "   \"Y\": 1,\n",
        "   \"N\": 0\n",
        "    })\n",
        "\n",
        "transformed_data = transformed_data.drop(['CentralAir'], axis=1)"
      ],
      "metadata": {
        "id": "yjhVqolDSxFM"
      },
      "execution_count": 654,
      "outputs": []
    },
    {
      "cell_type": "code",
      "source": [
        "# Electrical - Label Encoding\n",
        "Electrical = transformed_data[\"Electrical\"]\n",
        "\n",
        "transformed_data['encoded_Electrical'] = transformed_data['Electrical'].map({\n",
        "   \"Mix\": -1,\n",
        "   \"FuseP\": 0,\n",
        "   \"FuseF\": 1,\n",
        "   \"FuseA\": 2,\n",
        "   \"SBrkr\": 3\n",
        "    })\n",
        "\n",
        "transformed_data = transformed_data.drop(['Electrical'], axis=1)"
      ],
      "metadata": {
        "id": "ZATQeERGTDfb"
      },
      "execution_count": 655,
      "outputs": []
    },
    {
      "cell_type": "code",
      "source": [
        "# KitchenQual - Label Encoding\n",
        "KitchenQual = transformed_data[\"KitchenQual\"]\n",
        "\n",
        "transformed_data['encoded_KitchenQual'] = transformed_data['KitchenQual'].map({\n",
        "   \"Ex\": 3,\n",
        "   \"Gd\": 2,\n",
        "   \"TA\": 1,\n",
        "   \"Fa\": -1,\n",
        "   \"Po\": -2\n",
        "    })\n",
        "\n",
        "transformed_data = transformed_data.drop(['KitchenQual'], axis=1)"
      ],
      "metadata": {
        "id": "GqRozOZNTia8"
      },
      "execution_count": 656,
      "outputs": []
    },
    {
      "cell_type": "code",
      "source": [
        "# Functional - Label Encoding\n",
        "Functional = transformed_data[\"Functional\"]\n",
        "\n",
        "transformed_data['encoded_Functional'] = transformed_data['Functional'].map({\n",
        "   \"Typ\": 1,\n",
        "   \"Min1\": -1,\n",
        "   \"Min2\": -2,\n",
        "   \"Mod\": -3,\n",
        "   \"Maj1\": -4,\n",
        "   \"Maj2\": -5,\n",
        "   \"Sev\": -6,\n",
        "   \"Sal\": -7\n",
        "    })\n",
        "\n",
        "transformed_data = transformed_data.drop(['Functional'], axis=1)"
      ],
      "metadata": {
        "id": "8flvStn9T68Q"
      },
      "execution_count": 657,
      "outputs": []
    },
    {
      "cell_type": "code",
      "source": [
        "# FireplaceQu - Label Encoding\n",
        "FireplaceQu = transformed_data[\"FireplaceQu\"]\n",
        "\n",
        "transformed_data['encoded_FireplaceQu'] = transformed_data['FireplaceQu'].map({\n",
        "    \"NA\" : -2,\n",
        "    \"Po\": -1,\n",
        "    \"Fa\": 0,\n",
        "    \"TA\": 1,\n",
        "    \"Gd\": 2,\n",
        "    \"Ex\": 3\n",
        "    })\n",
        "\n",
        "transformed_data = transformed_data.drop(['FireplaceQu'], axis=1)"
      ],
      "metadata": {
        "id": "OMZTd0tBUaFb"
      },
      "execution_count": 658,
      "outputs": []
    },
    {
      "cell_type": "code",
      "source": [
        "# GarageType - Label Encoding\n",
        "GarageType = transformed_data[\"GarageType\"]\n",
        "\n",
        "transformed_data['encoded_GarageType'] = transformed_data['GarageType'].map({\n",
        "    \"NA\" : -1,\n",
        "    \"Detchd\": 1,\n",
        "    \"CarPort\": 2,\n",
        "    \"BuiltIn\": 3,\n",
        "    \"Basment\": 4,\n",
        "    \"Attchd\": 5,\n",
        "    \"2Types\": 6\n",
        "    })\n",
        "\n",
        "transformed_data = transformed_data.drop(['GarageType'], axis=1)"
      ],
      "metadata": {
        "id": "bVUxd6w-U0H6"
      },
      "execution_count": 659,
      "outputs": []
    },
    {
      "cell_type": "code",
      "source": [
        "# GarageFinish - Label Encoding\n",
        "\n",
        "GarageFinish = transformed_data[\"GarageFinish\"]\n",
        "\n",
        "transformed_data['encoded_GarageFinish'] = transformed_data['GarageFinish'].map({\n",
        "    \"NA\" : -1,\n",
        "    \"Unf\": 0,\n",
        "    \"RFn\": 1,\n",
        "    \"Fin\": 2\n",
        "    })\n",
        "\n",
        "transformed_data = transformed_data.drop(['GarageFinish'], axis=1)"
      ],
      "metadata": {
        "id": "pos8q9_lVOtX"
      },
      "execution_count": 660,
      "outputs": []
    },
    {
      "cell_type": "code",
      "source": [
        "# GarageQual - Label Encoding\n",
        "GarageQual = transformed_data[\"GarageQual\"]\n",
        "\n",
        "transformed_data['encoded_GarageQual'] = transformed_data['GarageQual'].map({\n",
        "    \"NA\": -1,\n",
        "    \"Po\": 0,\n",
        "    \"Fa\": 1,\n",
        "    \"TA\": 2,\n",
        "    \"Gd\": 3,\n",
        "    \"Ex\": 4\n",
        "    })\n",
        "\n",
        "transformed_data = transformed_data.drop(['GarageQual'], axis=1)"
      ],
      "metadata": {
        "id": "MeDieSF5Vg9v"
      },
      "execution_count": 661,
      "outputs": []
    },
    {
      "cell_type": "code",
      "source": [
        "# GarageCond - Label Encoding\n",
        "GarageCond = transformed_data[\"GarageCond\"]\n",
        "\n",
        "transformed_data['encoded_GarageCond'] = transformed_data['GarageCond'].map({\n",
        "    \"NA\": -1,\n",
        "    \"Po\": 0,\n",
        "    \"Fa\": 1,\n",
        "    \"TA\": 2,\n",
        "    \"Gd\": 3,\n",
        "    \"Ex\": 4\n",
        "    })\n",
        "\n",
        "transformed_data = transformed_data.drop(['GarageCond'], axis=1)"
      ],
      "metadata": {
        "id": "emk8OMJoVyYH"
      },
      "execution_count": 662,
      "outputs": []
    },
    {
      "cell_type": "code",
      "source": [
        "# PavedDrive - Label Encoding\n",
        "PavedDrive = transformed_data[\"PavedDrive\"]\n",
        "\n",
        "transformed_data['encoded_PavedDrive'] = transformed_data['PavedDrive'].map({\n",
        "    \"N\": 0,\n",
        "    \"P\": 1,\n",
        "    \"Y\": 2,\n",
        "    })\n",
        "\n",
        "transformed_data = transformed_data.drop(['PavedDrive'], axis=1)"
      ],
      "metadata": {
        "id": "CPL8DTBBV8Dx"
      },
      "execution_count": 663,
      "outputs": []
    },
    {
      "cell_type": "code",
      "source": [
        "# PoolQC - Label Encoding\n",
        "PoolQC = transformed_data[\"PoolQC\"]\n",
        "\n",
        "transformed_data['encoded_PoolQC'] = transformed_data['PoolQC'].map({\n",
        "    \"NA\": 0,\n",
        "    \"Fa\": 2,\n",
        "    \"TA\": 3,\n",
        "    \"Gd\": 4,\n",
        "    \"Ex\": 5\n",
        "    })\n",
        "\n",
        "transformed_data = transformed_data.drop(['PoolQC'], axis=1)"
      ],
      "metadata": {
        "id": "aFkk6NqTWSDE"
      },
      "execution_count": 664,
      "outputs": []
    },
    {
      "cell_type": "code",
      "source": [
        "# Fence - Label Encoding\n",
        "Fence = transformed_data[\"Fence\"]\n",
        "\n",
        "transformed_data['encoded_Fence'] = transformed_data['Fence'].map({\n",
        "    \"NA\": 0,\n",
        "    \"MnWw\": 2,\n",
        "    \"GdWo\": 3,\n",
        "    \"MnPrv\": 4,\n",
        "    \"GdPrv\": 5\n",
        "    })\n",
        "\n",
        "transformed_data = transformed_data.drop(['Fence'], axis=1)"
      ],
      "metadata": {
        "id": "I2G_3VryWnWw"
      },
      "execution_count": 665,
      "outputs": []
    },
    {
      "cell_type": "code",
      "source": [
        "# MiscFeature - Binary Encoding\n",
        "\n",
        "MiscFeature = transformed_data[\"MiscFeature\"]\n",
        "\n",
        "encoder = ce.BinaryEncoder(cols=['MiscFeature'])\n",
        "encoded_MiscFeature = encoder.fit_transform(MiscFeature)\n",
        "transformed_data[\"MiscFeature_0\"] = encoded_MiscFeature['MiscFeature_0']\n",
        "transformed_data[\"MiscFeature_1\"] = encoded_MiscFeature['MiscFeature_1']\n",
        "transformed_data[\"MiscFeature_2\"] = encoded_MiscFeature['MiscFeature_2']\n",
        "\n",
        "transformed_data = transformed_data.drop(['MiscFeature'], axis=1)"
      ],
      "metadata": {
        "id": "C35MM2qDW7No"
      },
      "execution_count": 666,
      "outputs": []
    },
    {
      "cell_type": "code",
      "source": [
        "# SaleType - Binary Encoding\n",
        "SaleType = transformed_data[\"SaleType\"]\n",
        "\n",
        "encoder = ce.BinaryEncoder(cols=['SaleType'])\n",
        "encoded_SaleType = encoder.fit_transform(SaleType)\n",
        "transformed_data[\"SaleType_0\"] = encoded_SaleType['SaleType_0']\n",
        "transformed_data[\"SaleType_1\"] = encoded_SaleType['SaleType_1']\n",
        "transformed_data[\"SaleType_2\"] = encoded_SaleType['SaleType_2']\n",
        "transformed_data[\"SaleType_3\"] = encoded_SaleType['SaleType_3']\n",
        "\n",
        "\n",
        "transformed_data = transformed_data.drop(['SaleType'], axis=1)"
      ],
      "metadata": {
        "id": "VqoFTCVVXfde"
      },
      "execution_count": 667,
      "outputs": []
    },
    {
      "cell_type": "code",
      "source": [
        "# SaleCondition - Binary Encoding\n",
        "SaleCondition = transformed_data[\"SaleCondition\"]\n",
        "\n",
        "encoder = ce.BinaryEncoder(cols=['SaleCondition'])\n",
        "encoded_SaleCondition = encoder.fit_transform(SaleCondition)\n",
        "transformed_data[\"SaleCondition_0\"] = encoded_SaleCondition[\"SaleCondition_0\"]\n",
        "transformed_data[\"SaleCondition_1\"] = encoded_SaleCondition[\"SaleCondition_1\"]\n",
        "transformed_data[\"SaleCondition_2\"] = encoded_SaleCondition[\"SaleCondition_2\"]\n",
        "\n",
        "transformed_data = transformed_data.drop(['SaleCondition'], axis=1)"
      ],
      "metadata": {
        "id": "S8x0DZO3YBDs"
      },
      "execution_count": 668,
      "outputs": []
    },
    {
      "cell_type": "markdown",
      "source": [
        "# Modelling and Model Tuning\n"
      ],
      "metadata": {
        "id": "KdkAG83ej5au"
      }
    },
    {
      "cell_type": "markdown",
      "source": [
        "## Standard Linear Regression"
      ],
      "metadata": {
        "id": "I4BL1__t2Ab-"
      }
    },
    {
      "cell_type": "code",
      "source": [
        "# Split data set\n",
        "def split_data(X, Y):\n",
        "    global X_train, X_test, Y_train, Y_test\n",
        "    return train_test_split(X, Y, test_size=0.2, random_state=64)"
      ],
      "metadata": {
        "id": "Cub3w-xmhlrW"
      },
      "execution_count": 669,
      "outputs": []
    },
    {
      "cell_type": "code",
      "source": [
        "# OLS\n",
        "def run(X_train, X_test, Y_train, Y_test):\n",
        "    # Fit OLS model with intercept\n",
        "    ols_sm = sm.OLS(Y_train, sm.add_constant(X_train))\n",
        "    ols_sm_results = ols_sm.fit()\n",
        "    print(ols_sm_results.summary())\n",
        "\n",
        "    # Make predictions\n",
        "    Y_train_pred = ols_sm_results.predict(sm.add_constant(X_train))\n",
        "    train_mse = mean_squared_error(Y_train, Y_train_pred)\n",
        "    train_r2 = r2_score(Y_train, Y_train_pred)\n",
        "\n",
        "    Y_test_pred = ols_sm_results.predict(sm.add_constant(X_test))\n",
        "    test_mse = mean_squared_error(Y_test, Y_test_pred)\n",
        "    test_r2 = r2_score(Y_test, Y_test_pred)\n",
        "\n",
        "    # Print results\n",
        "    print(f\"Train Mean Squared Error MSE: {train_mse:.4f}\")\n",
        "    print(f\"Train R-squared             : {train_r2:.4f}\")\n",
        "    print(f\"Test Mean Squared Error MSE : {test_mse:.4f}\")\n",
        "    print(f\"Test R-squared              : {test_r2:.4f}\")\n",
        "\n",
        "    return train_mse, train_r2, test_mse, test_r2"
      ],
      "metadata": {
        "id": "AE9f2hi86Evt"
      },
      "execution_count": 670,
      "outputs": []
    },
    {
      "cell_type": "code",
      "source": [
        "X = transformed_data.drop(columns=['SalePrice'])\n",
        "Y = transformed_data[\"SalePrice\"]\n",
        "X_train, X_test, Y_train, Y_test = split_data(X, Y)\n",
        "\n",
        "run(X_train, X_test, Y_train, Y_test)\n"
      ],
      "metadata": {
        "colab": {
          "base_uri": "https://localhost:8080/"
        },
        "id": "NkoHomiQ7Nfg",
        "outputId": "94e3586e-3ce1-412a-f2e8-9446f43bdbc8"
      },
      "execution_count": 671,
      "outputs": [
        {
          "output_type": "stream",
          "name": "stdout",
          "text": [
            "                            OLS Regression Results                            \n",
            "==============================================================================\n",
            "Dep. Variable:              SalePrice   R-squared:                       0.924\n",
            "Model:                            OLS   Adj. R-squared:                  0.911\n",
            "Method:                 Least Squares   F-statistic:                     69.40\n",
            "Date:                Tue, 08 Oct 2024   Prob (F-statistic):          3.58e-312\n",
            "Time:                        02:22:29   Log-Likelihood:                -9035.7\n",
            "No. Observations:                 800   AIC:                         1.831e+04\n",
            "Df Residuals:                     680   BIC:                         1.887e+04\n",
            "Df Model:                         119                                         \n",
            "Covariance Type:            nonrobust                                         \n",
            "========================================================================================\n",
            "                           coef    std err          t      P>|t|      [0.025      0.975]\n",
            "----------------------------------------------------------------------------------------\n",
            "Unnamed: 0              -0.4535      2.806     -0.162      0.872      -5.963       5.056\n",
            "Id                       0.0502      1.944      0.026      0.979      -3.767       3.867\n",
            "LotFrontage             65.3874     26.837      2.436      0.015      12.693     118.081\n",
            "LotArea                  0.3471      0.089      3.898      0.000       0.172       0.522\n",
            "OverallQual           1.074e+04   1180.129      9.099      0.000    8420.981    1.31e+04\n",
            "OverallCond           6315.3136   1041.798      6.062      0.000    4269.787    8360.841\n",
            "YearBuilt              301.2611     86.892      3.467      0.001     130.651     471.871\n",
            "YearRemodAdd           -47.0424     67.056     -0.702      0.483    -178.704      84.619\n",
            "MasVnrArea              19.2243      7.549      2.547      0.011       4.403      34.046\n",
            "BsmtFinSF1              16.6222      3.227      5.151      0.000      10.287      22.958\n",
            "BsmtFinSF2               7.6344      5.870      1.301      0.194      -3.892      19.160\n",
            "BsmtUnfSF               -4.8861      2.828     -1.728      0.084     -10.439       0.666\n",
            "TotalBsmtSF             19.3705      4.011      4.830      0.000      11.496      27.245\n",
            "1stFlrSF                22.2381      6.901      3.222      0.001       8.687      35.789\n",
            "2ndFlrSF                31.0259      5.890      5.267      0.000      19.461      42.591\n",
            "LowQualFinSF           -27.3773     15.375     -1.781      0.075     -57.566       2.812\n",
            "GrLivArea               25.8868      5.975      4.333      0.000      14.155      37.618\n",
            "BsmtFullBath          1256.6570   2409.878      0.521      0.602   -3475.040    5988.354\n",
            "BsmtHalfBath         -1030.0667   3990.832     -0.258      0.796   -8865.901    6805.767\n",
            "FullBath             -3359.9608   2742.079     -1.225      0.221   -8743.920    2023.998\n",
            "HalfBath              1774.6159   2593.454      0.684      0.494   -3317.524    6866.756\n",
            "BedroomAbvGr         -4662.2715   1724.331     -2.704      0.007   -8047.924   -1276.619\n",
            "KitchenAbvGr         -1.399e+04   8201.352     -1.706      0.088   -3.01e+04    2110.090\n",
            "TotRmsAbvGrd          2510.1354   1194.716      2.101      0.036     164.360    4855.911\n",
            "Fireplaces            2823.2348   2824.520      1.000      0.318   -2722.593    8369.063\n",
            "GarageYrBlt             98.2568     70.290      1.398      0.163     -39.755     236.269\n",
            "GarageCars            7136.7789   2623.015      2.721      0.007    1986.598    1.23e+04\n",
            "GarageArea              11.0282      9.275      1.189      0.235      -7.183      29.239\n",
            "WoodDeckSF              20.8643      7.343      2.841      0.005       6.447      35.281\n",
            "OpenPorchSF             43.2007     15.073      2.866      0.004      13.606      72.796\n",
            "EnclosedPorch            3.8620     14.846      0.260      0.795     -25.287      33.011\n",
            "3SsnPorch               15.0709     29.470      0.511      0.609     -42.793      72.935\n",
            "ScreenPorch             36.7114     16.498      2.225      0.026       4.319      69.104\n",
            "PoolArea               285.3126    396.280      0.720      0.472    -492.767    1063.392\n",
            "MiscVal                 11.9883     12.340      0.972      0.332     -12.240      36.217\n",
            "MoSold                -134.4456    299.283     -0.449      0.653    -722.075     453.184\n",
            "YrSold                -474.7624    622.809     -0.762      0.446   -1697.623     748.098\n",
            "MSSubClass_0         -4068.1236   3774.365     -1.078      0.281   -1.15e+04    3342.687\n",
            "MSSubClass_1         -1638.4831   4138.103     -0.396      0.692   -9763.477    6486.511\n",
            "MSSubClass_2         -9744.0905   4780.936     -2.038      0.042   -1.91e+04    -356.919\n",
            "MSSubClass_3         -4884.2552   3619.031     -1.350      0.178    -1.2e+04    2221.564\n",
            "MSZoning_0           -4239.5492   7736.300     -0.548      0.584   -1.94e+04     1.1e+04\n",
            "MSZoning_1            1649.2696   5148.713      0.320      0.749   -8460.016    1.18e+04\n",
            "MSZoning_2            4245.0034   5538.384      0.766      0.444   -6629.385    1.51e+04\n",
            "Street_0              1.239e+04   6.67e+04      0.186      0.853   -1.19e+05    1.43e+05\n",
            "Street_1              3.451e+04   6.65e+04      0.519      0.604   -9.61e+04    1.65e+05\n",
            "Alley_0              -6328.9201   5695.320     -1.111      0.267   -1.75e+04    4853.605\n",
            "Alley_1              -5170.5398   7180.549     -0.720      0.472   -1.93e+04    8928.172\n",
            "encoded_LotShape       401.6254   1644.245      0.244      0.807   -2826.781    3630.032\n",
            "encoded_LandContour  -2411.1904   1914.237     -1.260      0.208   -6169.715    1347.334\n",
            "encoded_Utilities     1.407e+05   3.98e+05      0.354      0.724   -6.41e+05    9.22e+05\n",
            "LotConfig_0           4412.3986   5691.514      0.775      0.438   -6762.654    1.56e+04\n",
            "LotConfig_1          -3262.9737   4322.213     -0.755      0.451   -1.17e+04    5223.513\n",
            "LotConfig_2          -1790.4194   4617.297     -0.388      0.698   -1.09e+04    7275.453\n",
            "encoded_LandSlope     3138.0727   4310.945      0.728      0.467   -5326.291    1.16e+04\n",
            "Neighborhood_0        1.424e+04   2855.613      4.987      0.000    8633.810    1.98e+04\n",
            "Neighborhood_1        4966.6211   2016.400      2.463      0.014    1007.504    8925.739\n",
            "Neighborhood_2         664.1483   2033.286      0.327      0.744   -3328.125    4656.421\n",
            "Neighborhood_3        -939.1966   2178.681     -0.431      0.667   -5216.946    3338.553\n",
            "Neighborhood_4       -2016.1904   2590.400     -0.778      0.437   -7102.333    3069.953\n",
            "Condition1_0         -3.487e+04   1.01e+04     -3.460      0.001   -5.47e+04   -1.51e+04\n",
            "Condition1_1         -1.594e+04   4481.926     -3.556      0.000   -2.47e+04   -7138.206\n",
            "Condition1_2         -9037.8301   3394.665     -2.662      0.008   -1.57e+04   -2372.545\n",
            "Condition1_3         -1.254e+04   5763.670     -2.175      0.030   -2.39e+04   -1221.040\n",
            "Condition2_0          1.079e+04    4.1e+04      0.263      0.793   -6.98e+04    9.14e+04\n",
            "Condition2_1          -1.43e+04   2.31e+04     -0.619      0.536   -5.96e+04     3.1e+04\n",
            "Condition2_2         -3.057e+04   3.25e+04     -0.942      0.347   -9.43e+04    3.32e+04\n",
            "BldgType_0            1804.4538   8976.054      0.201      0.841   -1.58e+04    1.94e+04\n",
            "BldgType_1            -1.76e+04   5167.928     -3.405      0.001   -2.77e+04   -7449.991\n",
            "BldgType_2            1474.4204   5241.880      0.281      0.779   -8817.795    1.18e+04\n",
            "encoded_HouseStyle   -2584.0143   2624.230     -0.985      0.325   -7736.582    2568.554\n",
            "RoofStyle_0           1.339e+04   1.15e+04      1.163      0.245   -9212.743     3.6e+04\n",
            "RoofStyle_1           1.331e+04   1.11e+04      1.194      0.233   -8580.252    3.52e+04\n",
            "RoofStyle_2            1.02e+04   1.12e+04      0.914      0.361   -1.17e+04    3.21e+04\n",
            "RoofMatl_0           -3667.7961   2.47e+04     -0.148      0.882   -5.22e+04    4.49e+04\n",
            "RoofMatl_1            5115.6250   1.22e+04      0.419      0.675   -1.89e+04    2.91e+04\n",
            "RoofMatl_2           -1.581e+04   1.26e+04     -1.260      0.208   -4.05e+04    8835.610\n",
            "Exterior1st_0         8112.9209   5415.063      1.498      0.135   -2519.331    1.87e+04\n",
            "Exterior1st_1        -4125.3231   4218.620     -0.978      0.328   -1.24e+04    4157.763\n",
            "Exterior1st_2        -2296.0759   3157.244     -0.727      0.467   -8495.194    3903.043\n",
            "Exterior1st_3        -8070.6261   2283.951     -3.534      0.000   -1.26e+04   -3586.183\n",
            "Exterior2nd_0         5836.1238   2.51e+04      0.232      0.817   -4.35e+04    5.52e+04\n",
            "Exterior2nd_1        -3722.5433   4533.473     -0.821      0.412   -1.26e+04    5178.743\n",
            "Exterior2nd_2        -1356.8518   3470.214     -0.391      0.696   -8170.474    5456.771\n",
            "Exterior2nd_3          292.3529   2615.011      0.112      0.911   -4842.112    5426.818\n",
            "MasVnrType_0          1.437e+04   9634.752      1.491      0.136   -4550.662    3.33e+04\n",
            "MasVnrType_1          2342.1969   2675.424      0.875      0.382   -2910.887    7595.281\n",
            "MasVnrType_2          1.059e+04   8943.591      1.184      0.237   -6972.776    2.81e+04\n",
            "encoded_ExterQual     9421.8873   2594.354      3.632      0.000    4327.980    1.45e+04\n",
            "encoded_ExterCond    -6046.8614   2812.313     -2.150      0.032   -1.16e+04    -525.000\n",
            "Foundation_0          4551.5103   9117.324      0.499      0.618   -1.33e+04    2.25e+04\n",
            "Foundation_1         -7700.7580   4226.777     -1.822      0.069    -1.6e+04     598.344\n",
            "Foundation_2         -5351.9049   3691.303     -1.450      0.148   -1.26e+04    1895.816\n",
            "encoded_BsmtQual      2798.2697   2006.136      1.395      0.164   -1140.695    6737.234\n",
            "encoded_BsmtCond     -6248.1689   2578.289     -2.423      0.016   -1.13e+04   -1185.804\n",
            "encoded_BsmtExposure  5460.0210   1002.547      5.446      0.000    3491.560    7428.481\n",
            "encoded_BsmtFinType1    -5.0884    618.966     -0.008      0.993   -1220.402    1210.226\n",
            "encoded_BsmtFinType2   422.3543   1523.054      0.277      0.782   -2568.100    3412.808\n",
            "Heating_0             1.187e+04   1.07e+04      1.112      0.267   -9089.064    3.28e+04\n",
            "Heating_1            -1.724e+04   1.65e+04     -1.045      0.296   -4.96e+04    1.51e+04\n",
            "Heating_2            -8705.2236   1.66e+04     -0.525      0.600   -4.13e+04    2.39e+04\n",
            "encoded_HeatingQC     -107.7866   1146.827     -0.094      0.925   -2359.534    2143.960\n",
            "encoded_CentralAir    -265.1083   4990.172     -0.053      0.958   -1.01e+04    9532.888\n",
            "encoded_Electrical   -3581.3923   2321.186     -1.543      0.123   -8138.946     976.162\n",
            "encoded_KitchenQual   5485.1121   1778.402      3.084      0.002    1993.292    8976.932\n",
            "encoded_Functional    4846.4105   1029.299      4.708      0.000    2825.425    6867.396\n",
            "encoded_FireplaceQu   -194.5370   1014.694     -0.192      0.848   -2186.847    1797.773\n",
            "encoded_GarageType   -1402.0774    618.315     -2.268      0.024   -2616.114    -188.041\n",
            "encoded_GarageFinish  -623.0890   1434.545     -0.434      0.664   -3439.760    2193.582\n",
            "encoded_GarageQual   -3298.6930   4499.062     -0.733      0.464   -1.21e+04    5535.030\n",
            "encoded_GarageCond     435.2467   4646.900      0.094      0.925   -8688.749    9559.242\n",
            "encoded_PavedDrive     -24.9491   2064.821     -0.012      0.990   -4079.140    4029.242\n",
            "encoded_PoolQC           1.0995      1.527      0.720      0.472      -1.899       4.098\n",
            "encoded_Fence         -122.1067    579.838     -0.211      0.833   -1260.595    1016.382\n",
            "MiscFeature_0         -2.12e+05   2.28e+05     -0.928      0.354   -6.61e+05    2.37e+05\n",
            "MiscFeature_1         -1.83e+05   1.92e+05     -0.953      0.341    -5.6e+05    1.94e+05\n",
            "MiscFeature_2         -1.79e+05   1.84e+05     -0.971      0.332   -5.41e+05    1.83e+05\n",
            "SaleType_0            1.144e+04   1.15e+04      0.999      0.318    -1.1e+04    3.39e+04\n",
            "SaleType_1           -7853.0561   6948.911     -1.130      0.259   -2.15e+04    5790.845\n",
            "SaleType_2            1.206e+04   6296.585      1.915      0.056    -303.546    2.44e+04\n",
            "SaleType_3           -7766.6485   6668.613     -1.165      0.245   -2.09e+04    5326.899\n",
            "SaleCondition_0      -2294.0622   8466.069     -0.271      0.786   -1.89e+04    1.43e+04\n",
            "SaleCondition_1       1569.5344   7591.412      0.207      0.836   -1.33e+04    1.65e+04\n",
            "SaleCondition_2       1.218e+04   8740.595      1.393      0.164   -4983.639    2.93e+04\n",
            "==============================================================================\n",
            "Omnibus:                      111.471   Durbin-Watson:                   1.922\n",
            "Prob(Omnibus):                  0.000   Jarque-Bera (JB):             1096.636\n",
            "Skew:                          -0.208   Prob(JB):                    7.39e-239\n",
            "Kurtosis:                       8.721   Cond. No.                     1.30e+16\n",
            "==============================================================================\n",
            "\n",
            "Notes:\n",
            "[1] Standard Errors assume that the covariance matrix of the errors is correctly specified.\n",
            "[2] The smallest eigenvalue is 1.34e-21. This might indicate that there are\n",
            "strong multicollinearity problems or that the design matrix is singular.\n",
            "Train Mean Squared Error MSE: 378376654.6606\n",
            "Train R-squared             : 0.9239\n",
            "Test Mean Squared Error MSE : 4892764706.6539\n",
            "Test R-squared              : 0.1299\n"
          ]
        },
        {
          "output_type": "execute_result",
          "data": {
            "text/plain": [
              "(378376654.66057044, 0.9239273016380819, 4892764706.653936, 0.1299084743328719)"
            ]
          },
          "metadata": {},
          "execution_count": 671
        }
      ]
    },
    {
      "cell_type": "markdown",
      "source": [
        "This means we are having an overfitting problem. First we check the collinearity using VIF"
      ],
      "metadata": {
        "id": "0glJIqPD64Hv"
      }
    },
    {
      "cell_type": "markdown",
      "source": [
        "### Collinearity"
      ],
      "metadata": {
        "id": "e5KGWryyxv0M"
      }
    },
    {
      "cell_type": "code",
      "source": [
        "collinearity = sm.add_constant(transformed_data.drop('SalePrice', axis=1))\n",
        "\n",
        "# Calculate and print VIF for each feature\n",
        "for i, col in enumerate(collinearity.columns):\n",
        "    if col == 'const':\n",
        "        continue  # Skip the constant term\n",
        "    # Calculate VIF\n",
        "    vif_value = vif(collinearity.values, i)\n",
        "    print(f\"{col} : {vif_value:.2f}\")\n"
      ],
      "metadata": {
        "colab": {
          "base_uri": "https://localhost:8080/"
        },
        "id": "rueCMOSbxhvU",
        "outputId": "9da366b1-5b8c-45d3-9661-3fe1df7b3ee7"
      },
      "execution_count": 672,
      "outputs": [
        {
          "output_type": "stream",
          "name": "stdout",
          "text": [
            "Unnamed: 0 : 1.14\n",
            "Id : 1.15\n",
            "LotFrontage : 1.52\n",
            "LotArea : 2.09\n",
            "OverallQual : 4.55\n",
            "OverallCond : 2.38\n",
            "YearBuilt : 12.24\n",
            "YearRemodAdd : 3.15\n",
            "MasVnrArea : 2.94\n",
            "BsmtFinSF1 : inf\n"
          ]
        },
        {
          "output_type": "stream",
          "name": "stderr",
          "text": [
            "/usr/local/lib/python3.10/dist-packages/statsmodels/stats/outliers_influence.py:197: RuntimeWarning: divide by zero encountered in scalar divide\n",
            "  vif = 1. / (1. - r_squared_i)\n"
          ]
        },
        {
          "output_type": "stream",
          "name": "stdout",
          "text": [
            "BsmtFinSF2 : inf\n",
            "BsmtUnfSF : inf\n",
            "TotalBsmtSF : inf\n",
            "1stFlrSF : inf\n",
            "2ndFlrSF : inf\n",
            "LowQualFinSF : inf\n",
            "GrLivArea : inf\n",
            "BsmtFullBath : 2.79\n",
            "BsmtHalfBath : 1.42\n",
            "FullBath : 3.63\n",
            "HalfBath : 2.79\n",
            "BedroomAbvGr : 3.10\n",
            "KitchenAbvGr : 4.09\n",
            "TotRmsAbvGrd : 5.86\n",
            "Fireplaces : 5.30\n",
            "GarageYrBlt : 4.49\n",
            "GarageCars : 7.15\n",
            "GarageArea : 6.93\n",
            "WoodDeckSF : 1.45\n",
            "OpenPorchSF : 1.56\n",
            "EnclosedPorch : 1.51\n",
            "3SsnPorch : 1.11\n",
            "ScreenPorch : 1.31\n",
            "PoolArea : 9.85\n",
            "MiscVal : 3.95\n",
            "MoSold : 1.17\n",
            "YrSold : 1.20\n",
            "MSSubClass_0 : 3.60\n",
            "MSSubClass_1 : 4.98\n",
            "MSSubClass_2 : 9.23\n",
            "MSSubClass_3 : 5.26\n",
            "MSZoning_0 : 1.41\n",
            "MSZoning_1 : 7.43\n",
            "MSZoning_2 : 7.16\n",
            "Street_0 : inf\n",
            "Street_1 : inf\n",
            "Alley_0 : 3.71\n",
            "Alley_1 : 3.47\n",
            "encoded_LotShape : 1.58\n",
            "encoded_LandContour : 2.22\n",
            "encoded_Utilities : 1.23\n",
            "LotConfig_0 : 3.24\n",
            "LotConfig_1 : 5.70\n",
            "LotConfig_2 : 6.90\n",
            "encoded_LandSlope : 2.57\n",
            "Neighborhood_0 : 1.86\n",
            "Neighborhood_1 : 1.67\n",
            "Neighborhood_2 : 1.72\n",
            "Neighborhood_3 : 1.98\n",
            "Neighborhood_4 : 2.88\n",
            "Condition1_0 : 1.10\n",
            "Condition1_1 : 1.62\n",
            "Condition1_2 : 1.56\n",
            "Condition1_3 : 1.87\n",
            "Condition2_0 : 3.11\n",
            "Condition2_1 : 4.56\n",
            "Condition2_2 : 6.14\n",
            "BldgType_0 : 5.97\n",
            "BldgType_1 : 5.21\n",
            "BldgType_2 : 2.93\n",
            "encoded_HouseStyle : 4.67\n",
            "RoofStyle_0 : 1.66\n",
            "RoofStyle_1 : 29.34\n",
            "RoofStyle_2 : 29.08\n",
            "RoofMatl_0 : 1.24\n",
            "RoofMatl_1 : 1.48\n",
            "RoofMatl_2 : 2.20\n",
            "Exterior1st_0 : 3.46\n",
            "Exterior1st_1 : 6.71\n",
            "Exterior1st_2 : 3.43\n",
            "Exterior1st_3 : 2.09\n",
            "Exterior2nd_0 : 1.31\n",
            "Exterior2nd_1 : 2.96\n",
            "Exterior2nd_2 : 4.78\n",
            "Exterior2nd_3 : 2.78\n",
            "MasVnrType_0 : 13.45\n",
            "MasVnrType_1 : 3.06\n",
            "MasVnrType_2 : 12.82\n",
            "encoded_ExterQual : 3.74\n",
            "encoded_ExterCond : 1.54\n",
            "Foundation_0 : 2.20\n",
            "Foundation_1 : 6.97\n",
            "Foundation_2 : 5.39\n",
            "encoded_BsmtQual : 5.24\n",
            "encoded_BsmtCond : 3.26\n",
            "encoded_BsmtExposure : 1.99\n",
            "encoded_BsmtFinType1 : 2.88\n",
            "encoded_BsmtFinType2 : 3.40\n",
            "Heating_0 : 1.79\n",
            "Heating_1 : 8.04\n",
            "Heating_2 : 8.59\n",
            "encoded_HeatingQC : 2.18\n",
            "encoded_CentralAir : 2.32\n",
            "encoded_Electrical : 1.58\n",
            "encoded_KitchenQual : 2.87\n",
            "encoded_Functional : 1.43\n",
            "encoded_FireplaceQu : 5.31\n",
            "encoded_GarageType : 2.86\n",
            "encoded_GarageFinish : 2.89\n",
            "encoded_GarageQual : 17.66\n",
            "encoded_GarageCond : 18.68\n",
            "encoded_PavedDrive : 1.78\n",
            "encoded_PoolQC : 9.83\n",
            "encoded_Fence : 1.34\n",
            "MiscFeature_0 : 4.06\n",
            "MiscFeature_1 : 84.13\n",
            "MiscFeature_2 : 77.29\n",
            "SaleType_0 : 1.35\n",
            "SaleType_1 : 3.50\n",
            "SaleType_2 : 5.59\n",
            "SaleType_3 : 8.18\n",
            "SaleCondition_0 : 8.70\n",
            "SaleCondition_1 : 9.47\n",
            "SaleCondition_2 : 10.92\n"
          ]
        }
      ]
    },
    {
      "cell_type": "markdown",
      "source": [
        "This shows that the data has severe multicollinearity. First we deal with the `inf` ones,  which is Perfect Multicollinearity.\n",
        "\n",
        "TotalBsmtSF = BsmtFinSF1 + BsmtFinSF2 + BsmtUnfSF2\n",
        "\n",
        "GrLivArea = 1stFlrSF + 2ndFlrSF + LowQualFinSF"
      ],
      "metadata": {
        "id": "oAa2AsIMW0eO"
      }
    },
    {
      "cell_type": "code",
      "source": [
        "# Perfect Multicollinearity\n",
        "transformed_data = transformed_data.drop(['BsmtFinSF1', 'BsmtFinSF2', 'BsmtUnfSF', '1stFlrSF', '2ndFlrSF', 'LowQualFinSF', 'Street_0'], axis=1)"
      ],
      "metadata": {
        "id": "ifov2SZ879bO"
      },
      "execution_count": 673,
      "outputs": []
    },
    {
      "cell_type": "code",
      "source": [
        "transformed_data = transformed_data.drop(['RoofStyle_2', 'MasVnrType_0', 'Heating_2', 'encoded_GarageCond', 'MiscFeature_1', 'SaleCondition_1', 'Unnamed: 0' , 'Id', 'FullBath', '3SsnPorch', 'MiscVal', 'MoSold', 'MSSubClass_1', 'MSZoning_0', 'MSZoning_1', 'encoded_LotShape', 'LotConfig_1', 'LotConfig_2', 'encoded_LandSlope', 'Neighborhood_3', 'Condition2_0', 'Condition2_1', 'BldgType_0', 'BldgType_2', 'RoofMatl_0', 'RoofMatl_1', 'Exterior1st_2', 'Exterior1st_3', 'Exterior2nd_0', 'Exterior2nd_2', 'Foundation_0', 'encoded_BsmtFinType2', 'encoded_HeatingQC', 'encoded_CentralAir', 'encoded_GarageFinish', 'encoded_PavedDrive', 'encoded_Fence', 'MiscFeature_0', 'MiscFeature_2', 'SaleCondition_0'], axis=1)"
      ],
      "metadata": {
        "id": "slcdb4AO-vUT"
      },
      "execution_count": 674,
      "outputs": []
    },
    {
      "cell_type": "markdown",
      "source": [
        "### Result"
      ],
      "metadata": {
        "id": "8QyRZ7t7x4Kt"
      }
    },
    {
      "cell_type": "code",
      "source": [
        "# Run the standard linear regression again\n",
        "X = transformed_data.drop(columns=['SalePrice'])\n",
        "Y = transformed_data['SalePrice']\n",
        "X_train, X_test, Y_train, Y_test = split_data(X, Y)\n",
        "\n",
        "run(X_train, X_test, Y_train, Y_test)"
      ],
      "metadata": {
        "colab": {
          "base_uri": "https://localhost:8080/"
        },
        "id": "tAogji--qdUq",
        "outputId": "ab86032f-a804-4c7e-c2e1-e497a1208708"
      },
      "execution_count": 675,
      "outputs": [
        {
          "output_type": "stream",
          "name": "stdout",
          "text": [
            "                            OLS Regression Results                            \n",
            "==============================================================================\n",
            "Dep. Variable:              SalePrice   R-squared:                       0.916\n",
            "Model:                            OLS   Adj. R-squared:                  0.907\n",
            "Method:                 Least Squares   F-statistic:                     104.8\n",
            "Date:                Tue, 08 Oct 2024   Prob (F-statistic):               0.00\n",
            "Time:                        02:22:34   Log-Likelihood:                -9076.9\n",
            "No. Observations:                 800   AIC:                         1.831e+04\n",
            "Df Residuals:                     724   BIC:                         1.866e+04\n",
            "Df Model:                          75                                         \n",
            "Covariance Type:            nonrobust                                         \n",
            "========================================================================================\n",
            "                           coef    std err          t      P>|t|      [0.025      0.975]\n",
            "----------------------------------------------------------------------------------------\n",
            "LotFrontage             69.3806     26.071      2.661      0.008      18.196     120.565\n",
            "LotArea                  0.3186      0.080      3.981      0.000       0.162       0.476\n",
            "OverallQual           1.063e+04   1141.219      9.317      0.000    8391.768    1.29e+04\n",
            "OverallCond           6395.0803   1024.983      6.239      0.000    4382.787    8407.374\n",
            "YearBuilt              251.8882     76.951      3.273      0.001     100.814     402.962\n",
            "YearRemodAdd           -81.9328     65.960     -1.242      0.215    -211.428      47.563\n",
            "MasVnrArea              17.4883      7.130      2.453      0.014       3.490      31.486\n",
            "TotalBsmtSF             17.5157      3.975      4.407      0.000       9.712      25.319\n",
            "GrLivArea               51.3493      4.544     11.299      0.000      42.427      60.271\n",
            "BsmtFullBath          8506.9550   2082.351      4.085      0.000    4418.787    1.26e+04\n",
            "BsmtHalfBath          3892.5527   3768.480      1.033      0.302   -3505.901    1.13e+04\n",
            "HalfBath              3955.6666   2216.176      1.785      0.075    -395.231    8306.564\n",
            "BedroomAbvGr         -6113.5211   1621.390     -3.771      0.000   -9296.709   -2930.334\n",
            "KitchenAbvGr          -1.58e+04   4960.761     -3.185      0.002   -2.55e+04   -6058.655\n",
            "TotRmsAbvGrd          2651.6802   1160.697      2.285      0.023     372.946    4930.415\n",
            "Fireplaces            4662.0427   2711.871      1.719      0.086    -662.026    9986.112\n",
            "GarageYrBlt             62.5595     66.038      0.947      0.344     -67.089     192.208\n",
            "GarageCars            7012.1908   2568.361      2.730      0.006    1969.866    1.21e+04\n",
            "GarageArea              10.1126      8.996      1.124      0.261      -7.548      27.773\n",
            "WoodDeckSF              18.5453      7.153      2.593      0.010       4.502      32.589\n",
            "OpenPorchSF             35.4073     14.675      2.413      0.016       6.597      64.217\n",
            "EnclosedPorch           12.3412     14.412      0.856      0.392     -15.954      40.636\n",
            "ScreenPorch             53.3667     16.237      3.287      0.001      21.490      85.244\n",
            "PoolArea               -80.2254     45.541     -1.762      0.079    -169.633       9.183\n",
            "YrSold                -818.8476    612.098     -1.338      0.181   -2020.547     382.852\n",
            "MSSubClass_0         -3466.3687   2929.415     -1.183      0.237   -9217.530    2284.793\n",
            "MSSubClass_2         -5797.1075   2836.045     -2.044      0.041   -1.14e+04    -229.254\n",
            "MSSubClass_3         -3727.3101   2950.841     -1.263      0.207   -9520.536    2065.916\n",
            "MSZoning_2            3271.7235   2870.828      1.140      0.255   -2364.417    8907.864\n",
            "Street_1              1.997e+04    1.2e+04      1.668      0.096   -3527.543    4.35e+04\n",
            "Alley_0              -5269.9886   5062.531     -1.041      0.298   -1.52e+04    4669.005\n",
            "Alley_1              -4927.7695   6757.772     -0.729      0.466   -1.82e+04    8339.400\n",
            "encoded_LandContour  -2033.9911   1568.655     -1.297      0.195   -5113.647    1045.665\n",
            "encoded_Utilities     3.943e+05    4.1e+05      0.962      0.336    -4.1e+05     1.2e+06\n",
            "LotConfig_0           8256.0343   3515.644      2.348      0.019    1353.961    1.52e+04\n",
            "Neighborhood_0        1.374e+04   2766.270      4.967      0.000    8309.941    1.92e+04\n",
            "Neighborhood_1        5024.1184   1913.276      2.626      0.009    1267.887    8780.350\n",
            "Neighborhood_2        1422.6513   1921.214      0.740      0.459   -2349.165    5194.468\n",
            "Neighborhood_4       -3274.1643   2180.320     -1.502      0.134   -7554.669    1006.341\n",
            "Condition1_0         -3.373e+04   1.01e+04     -3.340      0.001   -5.36e+04   -1.39e+04\n",
            "Condition1_1         -1.329e+04   4196.060     -3.166      0.002   -2.15e+04   -5047.737\n",
            "Condition1_2         -1.086e+04   3252.806     -3.339      0.001   -1.72e+04   -4474.684\n",
            "Condition1_3         -1.118e+04   5438.470     -2.055      0.040   -2.19e+04    -501.460\n",
            "Condition2_2         -2.504e+04   1.63e+04     -1.533      0.126   -5.71e+04    7032.486\n",
            "BldgType_1           -1.834e+04   4057.123     -4.521      0.000   -2.63e+04   -1.04e+04\n",
            "encoded_HouseStyle   -4063.1226   1876.016     -2.166      0.031   -7746.202    -380.043\n",
            "RoofStyle_0           4973.5134   8928.111      0.557      0.578   -1.26e+04    2.25e+04\n",
            "RoofStyle_1           4152.5883   2179.251      1.906      0.057    -125.818    8430.995\n",
            "RoofMatl_2           -1.125e+04   8604.652     -1.308      0.191   -2.81e+04    5638.935\n",
            "Exterior1st_0         9056.4059   4352.055      2.081      0.038     512.252    1.76e+04\n",
            "Exterior1st_1        -2540.1197   1847.139     -1.375      0.170   -6166.507    1086.268\n",
            "Exterior2nd_1        -5814.1407   3963.805     -1.467      0.143   -1.36e+04    1967.784\n",
            "Exterior2nd_3          -40.1640   1817.635     -0.022      0.982   -3608.628    3528.300\n",
            "MasVnrType_1          2913.1158   2513.379      1.159      0.247   -2021.265    7847.497\n",
            "MasVnrType_2         -2578.3639   3068.846     -0.840      0.401   -8603.263    3446.535\n",
            "encoded_ExterQual     9669.6220   2482.766      3.895      0.000    4795.342    1.45e+04\n",
            "encoded_ExterCond    -4790.4175   2725.127     -1.758      0.079   -1.01e+04     559.678\n",
            "Foundation_1         -1.024e+04   3738.125     -2.740      0.006   -1.76e+04   -2903.060\n",
            "Foundation_2         -8607.7239   3272.624     -2.630      0.009    -1.5e+04   -2182.757\n",
            "encoded_BsmtQual      3418.6824   1923.390      1.777      0.076    -357.404    7194.769\n",
            "encoded_BsmtCond     -8095.2360   2346.975     -3.449      0.001   -1.27e+04   -3487.546\n",
            "encoded_BsmtExposure  5508.5821    967.681      5.693      0.000    3608.785    7408.379\n",
            "encoded_BsmtFinType1  1699.7246    525.866      3.232      0.001     667.320    2732.129\n",
            "Heating_0             1.463e+04   9052.637      1.616      0.106   -3139.833    3.24e+04\n",
            "Heating_1            -5759.5859   6892.966     -0.836      0.404   -1.93e+04    7773.002\n",
            "encoded_Electrical   -3281.0045   2165.437     -1.515      0.130   -7532.291     970.282\n",
            "encoded_KitchenQual   6020.6018   1771.477      3.399      0.001    2542.757    9498.447\n",
            "encoded_Functional    5092.2255    988.603      5.151      0.000    3151.354    7033.097\n",
            "encoded_FireplaceQu   -670.5777    987.329     -0.679      0.497   -2608.948    1267.793\n",
            "encoded_GarageType   -1636.2273    592.279     -2.763      0.006   -2799.017    -473.437\n",
            "encoded_GarageQual   -1730.9856   1685.954     -1.027      0.305   -5040.928    1578.956\n",
            "encoded_PoolQC          -0.3092      0.175     -1.762      0.079      -0.654       0.035\n",
            "SaleType_0            1.709e+04    1.1e+04      1.560      0.119   -4415.564    3.86e+04\n",
            "SaleType_1           -1.102e+04   5417.588     -2.034      0.042   -2.17e+04    -384.419\n",
            "SaleType_2            1.454e+04   5208.172      2.791      0.005    4311.489    2.48e+04\n",
            "SaleType_3           -7657.9499   5295.683     -1.446      0.149   -1.81e+04    2738.778\n",
            "SaleCondition_2       1.423e+04   3138.405      4.535      0.000    8069.766    2.04e+04\n",
            "==============================================================================\n",
            "Omnibus:                      104.403   Durbin-Watson:                   1.900\n",
            "Prob(Omnibus):                  0.000   Jarque-Bera (JB):              956.359\n",
            "Skew:                          -0.170   Prob(JB):                    2.13e-208\n",
            "Kurtosis:                       8.346   Cond. No.                     1.30e+16\n",
            "==============================================================================\n",
            "\n",
            "Notes:\n",
            "[1] Standard Errors assume that the covariance matrix of the errors is correctly specified.\n",
            "[2] The smallest eigenvalue is 1.33e-21. This might indicate that there are\n",
            "strong multicollinearity problems or that the design matrix is singular.\n",
            "Train Mean Squared Error MSE: 419400393.5296\n",
            "Train R-squared             : 0.9157\n",
            "Test Mean Squared Error MSE : 5547304983.9841\n",
            "Test R-squared              : 0.0135\n"
          ]
        },
        {
          "output_type": "execute_result",
          "data": {
            "text/plain": [
              "(419400393.5295885,\n",
              " 0.9156794711384427,\n",
              " 5547304983.984147,\n",
              " 0.013510081469564894)"
            ]
          },
          "metadata": {},
          "execution_count": 675
        }
      ]
    },
    {
      "cell_type": "markdown",
      "source": [
        "We get a better result without losing much training R-Squared."
      ],
      "metadata": {
        "id": "nuN0zetNrKfd"
      }
    },
    {
      "cell_type": "markdown",
      "source": [
        "## Forward Selection"
      ],
      "metadata": {
        "id": "OYR7bIFDQOwd"
      }
    },
    {
      "cell_type": "code",
      "source": [
        "def processSubset(feature_set):\n",
        "    # Fit model on feature_set and calculate RSS\n",
        "    model = sm.OLS(Y,X[list(feature_set)])\n",
        "    regr = model.fit()\n",
        "    RSS = regr.ssr\n",
        "    return {'model': regr, 'RSS': RSS}\n",
        "\n",
        "def forward(predictors):\n",
        "\n",
        "    # Pull out predictors we still need to process\n",
        "    remaining_predictors = [p for p in X.columns if p not in predictors]\n",
        "\n",
        "    results = []\n",
        "\n",
        "    for p in remaining_predictors:\n",
        "        results.append(processSubset(predictors+[p]))\n",
        "\n",
        "    # Wrap everything up in a nice dataframe\n",
        "    models = pd.DataFrame(results)\n",
        "\n",
        "    # Choose the model with the highest RSS\n",
        "    best_model = models.loc[models['RSS'].argmin()]\n",
        "\n",
        "    # Return the best model, along with some other useful information about the model\n",
        "    return best_model"
      ],
      "metadata": {
        "id": "_tPPexURs9qj"
      },
      "execution_count": 676,
      "outputs": []
    },
    {
      "cell_type": "code",
      "source": [
        "# Forward Selection\n",
        "X = transformed_data.drop(columns=['SalePrice'])\n",
        "X_train, X_test, Y_train, Y_test = split_data(X, Y)\n",
        "models2 = pd.DataFrame(columns=['RSS', 'model'])\n",
        "\n",
        "predictors = []\n",
        "\n",
        "for i in range(1,len(X.columns)+1):\n",
        "    models2.loc[i] = forward(predictors)\n",
        "    predictors = models2.loc[i]['model'].model.exog_names\n",
        "\n",
        "bic_f = [m.bic for m in models2.model]\n",
        "\n",
        "# Find the index of the model with the lowest BIC\n",
        "best_model_index = np.array(bic_f).argmin()\n",
        "\n",
        "# Extract the best model\n",
        "best_model = models2.loc[best_model_index]['model']\n",
        "\n",
        "# Get the selected predictors (excluding 'const' if necessary)\n",
        "selected_predictors = [p for p in best_model.model.exog_names if p != 'const']\n",
        "\n",
        "# Print the selected predictors\n",
        "print(\"Selected predictors in the final model:\")\n",
        "for predictor in selected_predictors:\n",
        "    print(predictor)"
      ],
      "metadata": {
        "colab": {
          "base_uri": "https://localhost:8080/"
        },
        "id": "XqZHpEA2dOtW",
        "outputId": "7cc457f7-4e6a-43e7-e79a-092acc4d515a"
      },
      "execution_count": 677,
      "outputs": [
        {
          "output_type": "stream",
          "name": "stdout",
          "text": [
            "Selected predictors in the final model:\n",
            "OverallQual\n",
            "GarageCars\n",
            "encoded_LandContour\n",
            "GrLivArea\n",
            "encoded_BsmtFinType1\n",
            "encoded_KitchenQual\n",
            "MSSubClass_3\n",
            "SaleType_2\n",
            "encoded_FireplaceQu\n",
            "encoded_PoolQC\n",
            "encoded_HouseStyle\n",
            "encoded_BsmtExposure\n",
            "Neighborhood_0\n",
            "KitchenAbvGr\n",
            "BsmtFullBath\n",
            "encoded_ExterQual\n",
            "BldgType_1\n",
            "Condition1_1\n",
            "encoded_Functional\n",
            "WoodDeckSF\n",
            "ScreenPorch\n",
            "Exterior1st_1\n",
            "RoofMatl_2\n",
            "SaleCondition_2\n",
            "encoded_GarageQual\n",
            "MasVnrArea\n",
            "LotConfig_0\n",
            "Condition1_2\n",
            "Condition1_0\n",
            "Neighborhood_1\n",
            "YrSold\n",
            "OverallCond\n",
            "YearBuilt\n",
            "LotArea\n"
          ]
        }
      ]
    },
    {
      "cell_type": "code",
      "source": [
        "X = transformed_data[selected_predictors]\n",
        "Y = transformed_data[\"SalePrice\"]\n",
        "X_train, X_test, Y_train, Y_test = split_data(X, Y)\n",
        "\n",
        "run(X_train, X_test, Y_train, Y_test)"
      ],
      "metadata": {
        "colab": {
          "base_uri": "https://localhost:8080/"
        },
        "id": "LrY2PpQlhII7",
        "outputId": "c6382527-3729-4b3e-845a-2f1e49d4a03c"
      },
      "execution_count": 678,
      "outputs": [
        {
          "output_type": "stream",
          "name": "stdout",
          "text": [
            "                            OLS Regression Results                            \n",
            "==============================================================================\n",
            "Dep. Variable:              SalePrice   R-squared:                       0.897\n",
            "Model:                            OLS   Adj. R-squared:                  0.893\n",
            "Method:                 Least Squares   F-statistic:                     196.3\n",
            "Date:                Tue, 08 Oct 2024   Prob (F-statistic):               0.00\n",
            "Time:                        02:23:25   Log-Likelihood:                -9156.2\n",
            "No. Observations:                 800   AIC:                         1.838e+04\n",
            "Df Residuals:                     765   BIC:                         1.855e+04\n",
            "Df Model:                          34                                         \n",
            "Covariance Type:            nonrobust                                         \n",
            "========================================================================================\n",
            "                           coef    std err          t      P>|t|      [0.025      0.975]\n",
            "----------------------------------------------------------------------------------------\n",
            "const                  1.17e+06   1.28e+06      0.915      0.360   -1.34e+06    3.68e+06\n",
            "OverallQual           1.253e+04   1133.595     11.052      0.000    1.03e+04    1.48e+04\n",
            "GarageCars            1.094e+04   1831.036      5.976      0.000    7347.070    1.45e+04\n",
            "encoded_LandContour  -2005.9326   1625.108     -1.234      0.217   -5196.134    1184.268\n",
            "GrLivArea               53.1147      2.909     18.260      0.000      47.404      58.825\n",
            "encoded_BsmtFinType1  1768.2502    530.022      3.336      0.001     727.780    2808.720\n",
            "encoded_KitchenQual   6015.4646   1743.799      3.450      0.001    2592.265    9438.665\n",
            "MSSubClass_3          2123.2637   2643.280      0.803      0.422   -3065.680    7312.207\n",
            "SaleType_2            2.357e+04   3229.468      7.298      0.000    1.72e+04    2.99e+04\n",
            "encoded_FireplaceQu   1056.8745    571.341      1.850      0.065     -64.707    2178.456\n",
            "encoded_PoolQC       -1.478e+04   1.23e+04     -1.200      0.230   -3.89e+04    9388.001\n",
            "encoded_HouseStyle   -1.165e+04   1446.978     -8.052      0.000   -1.45e+04   -8810.226\n",
            "encoded_BsmtExposure  7169.5330    944.777      7.589      0.000    5314.870    9024.196\n",
            "Neighborhood_0        1.436e+04   2696.994      5.325      0.000    9066.724    1.97e+04\n",
            "KitchenAbvGr         -1.253e+04   4376.120     -2.862      0.004   -2.11e+04   -3935.038\n",
            "BsmtFullBath          1.048e+04   2061.118      5.087      0.000    6437.830    1.45e+04\n",
            "encoded_ExterQual     1.144e+04   2522.477      4.534      0.000    6486.192    1.64e+04\n",
            "BldgType_1           -1.996e+04   3655.460     -5.460      0.000   -2.71e+04   -1.28e+04\n",
            "Condition1_1         -9199.2579   3954.242     -2.326      0.020    -1.7e+04   -1436.804\n",
            "encoded_Functional    4306.0449   1003.961      4.289      0.000    2335.200    6276.890\n",
            "WoodDeckSF              17.4792      7.395      2.364      0.018       2.962      31.996\n",
            "ScreenPorch             57.5340     16.632      3.459      0.001      24.884      90.184\n",
            "Exterior1st_1        -4238.0040   1817.552     -2.332      0.020   -7805.986    -670.022\n",
            "RoofMatl_2           -2704.5048   8723.865     -0.310      0.757   -1.98e+04    1.44e+04\n",
            "SaleCondition_2        1.47e+04   3121.771      4.708      0.000    8567.783    2.08e+04\n",
            "encoded_GarageQual   -3757.8701   1450.647     -2.590      0.010   -6605.591    -910.149\n",
            "MasVnrArea              22.2169      5.655      3.929      0.000      11.116      33.318\n",
            "LotConfig_0           6238.5731   3559.314      1.753      0.080    -748.609    1.32e+04\n",
            "Condition1_2         -6876.7675   3121.656     -2.203      0.028    -1.3e+04    -748.739\n",
            "Condition1_0         -3.413e+04   1.06e+04     -3.232      0.001   -5.49e+04   -1.34e+04\n",
            "Neighborhood_1        5503.8415   1938.576      2.839      0.005    1698.282    9309.401\n",
            "YrSold                -833.7004    635.348     -1.312      0.190   -2080.933     413.532\n",
            "OverallCond           4160.9925    895.550      4.646      0.000    2402.964    5919.021\n",
            "YearBuilt              230.7223     54.725      4.216      0.000     123.293     338.152\n",
            "LotArea                  0.3318      0.078      4.271      0.000       0.179       0.484\n",
            "==============================================================================\n",
            "Omnibus:                       85.446   Durbin-Watson:                   1.895\n",
            "Prob(Omnibus):                  0.000   Jarque-Bera (JB):              595.765\n",
            "Skew:                           0.123   Prob(JB):                    4.28e-130\n",
            "Kurtosis:                       7.221   Cond. No.                     2.61e+07\n",
            "==============================================================================\n",
            "\n",
            "Notes:\n",
            "[1] Standard Errors assume that the covariance matrix of the errors is correctly specified.\n",
            "[2] The condition number is large, 2.61e+07. This might indicate that there are\n",
            "strong multicollinearity or other numerical problems.\n",
            "Train Mean Squared Error MSE: 511410319.9859\n",
            "Train R-squared             : 0.8972\n",
            "Test Mean Squared Error MSE : 1972835730.4824\n",
            "Test R-squared              : 0.6492\n"
          ]
        },
        {
          "output_type": "execute_result",
          "data": {
            "text/plain": [
              "(511410319.9858504, 0.897180857930161, 1972835730.482428, 0.6491661149591657)"
            ]
          },
          "metadata": {},
          "execution_count": 678
        }
      ]
    },
    {
      "cell_type": "code",
      "source": [
        "X = transformed_data.drop(columns=['SalePrice'])\n",
        "Y = transformed_data[\"SalePrice\"]\n",
        "X_train, X_test, y_train, y_test = split_data(X, Y)\n",
        "\n",
        "def processSubset(feature_set, X_train, y_train, X_test, y_test):\n",
        "    model = sm.OLS(y_train, X_train[list(feature_set)])\n",
        "    regr = model.fit()\n",
        "\n",
        "    train_predictions = regr.predict(X_train[list(feature_set)])\n",
        "    train_mse = ((train_predictions - y_train) ** 2).mean()\n",
        "\n",
        "    test_predictions = regr.predict(X_test[list(feature_set)])\n",
        "    test_mse = ((test_predictions - y_test) ** 2).mean()\n",
        "\n",
        "    return {'model': regr, 'train_mse': train_mse, 'test_mse': test_mse}\n",
        "\n",
        "def forward(predictors, X_train, y_train, X_test, y_test):\n",
        "    remaining_predictors = [p for p in X_train.columns if p not in predictors]\n",
        "\n",
        "    results = []\n",
        "\n",
        "    for p in remaining_predictors:\n",
        "        results.append(processSubset(predictors + [p], X_train, y_train, X_test, y_test))\n",
        "\n",
        "    models = pd.DataFrame(results)\n",
        "\n",
        "    best_model = models.loc[models['test_mse'].argmin()]\n",
        "\n",
        "    return best_model\n",
        "\n",
        "models_train = pd.DataFrame(columns=['train_mse', 'test_mse', 'model'])\n",
        "\n",
        "predictors = []\n",
        "\n",
        "# Forward selection loop\n",
        "for i in range(1, len(X.columns) + 1):\n",
        "    best_model = forward(predictors, X_train, y_train, X_test, y_test)\n",
        "    models_train.loc[i] = best_model\n",
        "    predictors = best_model['model'].model.exog_names\n",
        "\n",
        "plt.figure(figsize=(10, 6))\n",
        "plt.plot(models_train['train_mse'], label='Training MSE', marker='o')\n",
        "plt.plot(models_train['test_mse'], label='Test MSE', marker='o')\n",
        "\n",
        "min_index = models_train['test_mse'].argmin()\n",
        "min_test_mse = models_train['test_mse'].min()\n",
        "\n",
        "plt.plot(min_index, min_test_mse, 'ro', markersize=10, label='Lowest Test MSE')\n",
        "\n",
        "plt.xlabel('# Predictors')\n",
        "plt.ylabel('MSE')\n",
        "plt.title('Forward Selection: Training and Test MSE')\n",
        "plt.legend()\n",
        "plt.grid()\n",
        "plt.show()"
      ],
      "metadata": {
        "colab": {
          "base_uri": "https://localhost:8080/",
          "height": 580
        },
        "id": "PcnFdr28uEzA",
        "outputId": "bfbe42d9-65b1-4e30-e515-8f1960d89a99"
      },
      "execution_count": 679,
      "outputs": [
        {
          "output_type": "display_data",
          "data": {
            "text/plain": [
              "<Figure size 1000x600 with 1 Axes>"
            ],
            "image/png": "[encoded data removed]"
          },
          "metadata": {}
        }
      ]
    },
    {
      "cell_type": "code",
      "source": [
        "# Run the model on the whole data set\n",
        "X = transformed_data[selected_predictors]\n",
        "Y = transformed_data[\"SalePrice\"]\n",
        "\n",
        "ols_sm = sm.OLS(Y, sm.add_constant(X))\n",
        "ols_sm_results = ols_sm.fit()\n",
        "print(ols_sm_results.summary())\n",
        "\n",
        "Y_pred = ols_sm_results.predict(sm.add_constant(X))\n",
        "MSE = mean_squared_error(Y, Y_pred)\n",
        "R2 = r2_score(Y, Y_pred)\n",
        "print(f\"Mean Squared Error MSE: {MSE:.4f}\")\n",
        "print(f\"R-squared             : {R2:.4f}\")"
      ],
      "metadata": {
        "colab": {
          "base_uri": "https://localhost:8080/"
        },
        "id": "E90YPm_6xNgp",
        "outputId": "4cf51190-0215-4927-b61b-e8c35fc02f55"
      },
      "execution_count": 680,
      "outputs": [
        {
          "output_type": "stream",
          "name": "stdout",
          "text": [
            "                            OLS Regression Results                            \n",
            "==============================================================================\n",
            "Dep. Variable:              SalePrice   R-squared:                       0.853\n",
            "Model:                            OLS   Adj. R-squared:                  0.848\n",
            "Method:                 Least Squares   F-statistic:                     164.3\n",
            "Date:                Tue, 08 Oct 2024   Prob (F-statistic):               0.00\n",
            "Time:                        02:24:03   Log-Likelihood:                -11638.\n",
            "No. Observations:                1000   AIC:                         2.335e+04\n",
            "Df Residuals:                     965   BIC:                         2.352e+04\n",
            "Df Model:                          34                                         \n",
            "Covariance Type:            nonrobust                                         \n",
            "========================================================================================\n",
            "                           coef    std err          t      P>|t|      [0.025      0.975]\n",
            "----------------------------------------------------------------------------------------\n",
            "const                 1.301e+06   1.37e+06      0.951      0.342   -1.38e+06    3.98e+06\n",
            "OverallQual           1.343e+04   1213.682     11.069      0.000    1.11e+04    1.58e+04\n",
            "GarageCars            1.439e+04   1963.182      7.327      0.000    1.05e+04    1.82e+04\n",
            "encoded_LandContour  -1895.8878   1712.389     -1.107      0.269   -5256.323    1464.548\n",
            "GrLivArea               42.4490      2.943     14.426      0.000      36.674      48.224\n",
            "encoded_BsmtFinType1  1733.9375    570.610      3.039      0.002     614.157    2853.718\n",
            "encoded_KitchenQual   6558.7308   1828.609      3.587      0.000    2970.221    1.01e+04\n",
            "MSSubClass_3          3422.6783   2877.408      1.190      0.235   -2224.021    9069.377\n",
            "SaleType_2            1.714e+04   3455.058      4.961      0.000    1.04e+04    2.39e+04\n",
            "encoded_FireplaceQu   2048.1141    602.447      3.400      0.001     865.856    3230.372\n",
            "encoded_PoolQC       -2.179e+04   3667.029     -5.942      0.000    -2.9e+04   -1.46e+04\n",
            "encoded_HouseStyle   -8554.8518   1562.773     -5.474      0.000   -1.16e+04   -5488.027\n",
            "encoded_BsmtExposure  5119.7494   1023.359      5.003      0.000    3111.483    7128.016\n",
            "Neighborhood_0        1.771e+04   2827.511      6.263      0.000    1.22e+04    2.33e+04\n",
            "KitchenAbvGr         -9303.8639   4323.949     -2.152      0.032   -1.78e+04    -818.437\n",
            "BsmtFullBath          1.036e+04   2219.356      4.670      0.000    6008.749    1.47e+04\n",
            "encoded_ExterQual     1.021e+04   2721.137      3.752      0.000    4869.915    1.55e+04\n",
            "BldgType_1           -2.189e+04   4034.619     -5.425      0.000   -2.98e+04    -1.4e+04\n",
            "Condition1_1         -1.109e+04   4144.203     -2.677      0.008   -1.92e+04   -2960.001\n",
            "encoded_Functional    3321.4537   1085.365      3.060      0.002    1191.506    5451.401\n",
            "WoodDeckSF              23.4139      7.851      2.982      0.003       8.007      38.820\n",
            "ScreenPorch             75.2823     16.656      4.520      0.000      42.597     107.968\n",
            "Exterior1st_1        -5519.9070   1963.261     -2.812      0.005   -9372.661   -1667.153\n",
            "RoofMatl_2           -2.785e+04   8941.224     -3.114      0.002   -4.54e+04   -1.03e+04\n",
            "SaleCondition_2       1.062e+04   3138.030      3.384      0.001    4460.431    1.68e+04\n",
            "encoded_GarageQual   -4500.1989   1565.763     -2.874      0.004   -7572.891   -1427.507\n",
            "MasVnrArea              15.9633      6.090      2.621      0.009       4.012      27.914\n",
            "LotConfig_0           8605.5086   3849.298      2.236      0.026    1051.548    1.62e+04\n",
            "Condition1_2         -9363.6863   3361.000     -2.786      0.005    -1.6e+04   -2767.976\n",
            "Condition1_0         -3.568e+04   1.27e+04     -2.815      0.005   -6.06e+04   -1.08e+04\n",
            "Neighborhood_1        5261.4987   2086.083      2.522      0.012    1167.717    9355.281\n",
            "YrSold                -854.8450    679.396     -1.258      0.209   -2188.109     478.419\n",
            "OverallCond           4050.9349    979.516      4.136      0.000    2128.708    5973.162\n",
            "YearBuilt              188.7233     58.727      3.214      0.001      73.476     303.971\n",
            "LotArea                  0.2895      0.091      3.191      0.001       0.111       0.468\n",
            "==============================================================================\n",
            "Omnibus:                      408.239   Durbin-Watson:                   2.122\n",
            "Prob(Omnibus):                  0.000   Jarque-Bera (JB):            16741.889\n",
            "Skew:                          -1.148   Prob(JB):                         0.00\n",
            "Kurtosis:                      22.913   Cond. No.                     2.48e+07\n",
            "==============================================================================\n",
            "\n",
            "Notes:\n",
            "[1] Standard Errors assume that the covariance matrix of the errors is correctly specified.\n",
            "[2] The condition number is large, 2.48e+07. This might indicate that there are\n",
            "strong multicollinearity or other numerical problems.\n",
            "Mean Squared Error MSE: 751645826.6142\n",
            "R-squared             : 0.8527\n"
          ]
        }
      ]
    }
  ]
}