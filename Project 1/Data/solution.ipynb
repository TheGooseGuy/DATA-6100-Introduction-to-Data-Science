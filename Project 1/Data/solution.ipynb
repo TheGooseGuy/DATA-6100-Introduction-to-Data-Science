{
  "nbformat": 4,
  "nbformat_minor": 0,
  "metadata": {
    "colab": {
      "provenance": [],
      "collapsed_sections": [
        "QMHAqcJVH4ZH",
        "F9RSvNtuknTF",
        "bB9sUx3bbrLa"
      ]
    },
    "kernelspec": {
      "name": "python3",
      "display_name": "Python 3"
    },
    "language_info": {
      "name": "python"
    }
  },
  "cells": [
    {
      "cell_type": "code",
      "execution_count": 301,
      "metadata": {
        "colab": {
          "base_uri": "https://localhost:8080/"
        },
        "id": "iyqzUMooHvlH",
        "outputId": "6764f663-4c84-4b4d-dc2e-c980f816b174"
      },
      "outputs": [
        {
          "output_type": "stream",
          "name": "stdout",
          "text": [
            "Requirement already satisfied: category_encoders in /usr/local/lib/python3.10/dist-packages (2.6.4)\n",
            "Requirement already satisfied: numpy>=1.14.0 in /usr/local/lib/python3.10/dist-packages (from category_encoders) (1.26.4)\n",
            "Requirement already satisfied: scikit-learn>=0.20.0 in /usr/local/lib/python3.10/dist-packages (from category_encoders) (1.5.2)\n",
            "Requirement already satisfied: scipy>=1.0.0 in /usr/local/lib/python3.10/dist-packages (from category_encoders) (1.13.1)\n",
            "Requirement already satisfied: statsmodels>=0.9.0 in /usr/local/lib/python3.10/dist-packages (from category_encoders) (0.14.4)\n",
            "Requirement already satisfied: pandas>=1.0.5 in /usr/local/lib/python3.10/dist-packages (from category_encoders) (2.2.2)\n",
            "Requirement already satisfied: patsy>=0.5.1 in /usr/local/lib/python3.10/dist-packages (from category_encoders) (0.5.6)\n",
            "Requirement already satisfied: python-dateutil>=2.8.2 in /usr/local/lib/python3.10/dist-packages (from pandas>=1.0.5->category_encoders) (2.8.2)\n",
            "Requirement already satisfied: pytz>=2020.1 in /usr/local/lib/python3.10/dist-packages (from pandas>=1.0.5->category_encoders) (2024.2)\n",
            "Requirement already satisfied: tzdata>=2022.7 in /usr/local/lib/python3.10/dist-packages (from pandas>=1.0.5->category_encoders) (2024.2)\n",
            "Requirement already satisfied: six in /usr/local/lib/python3.10/dist-packages (from patsy>=0.5.1->category_encoders) (1.16.0)\n",
            "Requirement already satisfied: joblib>=1.2.0 in /usr/local/lib/python3.10/dist-packages (from scikit-learn>=0.20.0->category_encoders) (1.4.2)\n",
            "Requirement already satisfied: threadpoolctl>=3.1.0 in /usr/local/lib/python3.10/dist-packages (from scikit-learn>=0.20.0->category_encoders) (3.5.0)\n",
            "Requirement already satisfied: packaging>=21.3 in /usr/local/lib/python3.10/dist-packages (from statsmodels>=0.9.0->category_encoders) (24.1)\n"
          ]
        },
        {
          "output_type": "stream",
          "name": "stderr",
          "text": [
            "<ipython-input-301-2396966af1ed>:24: MatplotlibDeprecationWarning: The seaborn styles shipped by Matplotlib are deprecated since 3.6, as they no longer correspond to the styles shipped by seaborn. However, they will remain available as 'seaborn-v0_8-<style>'. Alternatively, directly use the seaborn API instead.\n",
            "  plt.style.use('seaborn')\n"
          ]
        }
      ],
      "source": [
        "# Set up packages\n",
        "!pip install category_encoders\n",
        "import numpy as np\n",
        "import pandas as pd\n",
        "import seaborn as sns\n",
        "from math import sqrt\n",
        "\n",
        "import category_encoders as ce\n",
        "from sklearn.preprocessing import LabelEncoder\n",
        "from sklearn.preprocessing import StandardScaler\n",
        "from sklearn.model_selection import train_test_split\n",
        "from sklearn.linear_model import LinearRegression as lr\n",
        "from sklearn.metrics import mean_squared_error\n",
        "from sklearn.metrics import r2_score\n",
        "import matplotlib.pyplot as plt\n",
        "import statsmodels.api as sm\n",
        "from statsmodels.stats.outliers_influence import variance_inflation_factor as vif\n",
        "from statsmodels.tools.tools import add_constant\n",
        "from itertools import chain, combinations\n",
        "\n",
        "pd.set_option('display.max_rows', 10)\n",
        "pd.set_option('display.float_format', '{:20,.2f}'.format) # get rid of scientific notation\n",
        "plt.style.use('seaborn')"
      ]
    },
    {
      "cell_type": "code",
      "source": [
        "data = pd.read_csv('/content/Housing_Data_Train.csv') # Read the training data set."
      ],
      "metadata": {
        "id": "EXOBGAyvJYPn"
      },
      "execution_count": 1972,
      "outputs": []
    },
    {
      "cell_type": "markdown",
      "source": [
        "# Data Pre-Processing\n",
        "\n",
        "\n",
        "\n"
      ],
      "metadata": {
        "id": "QMHAqcJVH4ZH"
      }
    },
    {
      "cell_type": "markdown",
      "source": [
        "## `NaN`s"
      ],
      "metadata": {
        "id": "F9RSvNtuknTF"
      }
    },
    {
      "cell_type": "code",
      "source": [
        "# Check the NaN values\n",
        "for column in data:\n",
        "    if data[column].isna().any():\n",
        "        print(f\"Column '{column}' contains NaN values\")"
      ],
      "metadata": {
        "id": "anI1IHN6kcRZ",
        "colab": {
          "base_uri": "https://localhost:8080/"
        },
        "outputId": "f9c21746-4fd1-4ad6-b421-5ec990fd7da9"
      },
      "execution_count": 1973,
      "outputs": [
        {
          "output_type": "stream",
          "name": "stdout",
          "text": [
            "Column 'LotFrontage' contains NaN values\n",
            "Column 'Alley' contains NaN values\n",
            "Column 'MasVnrType' contains NaN values\n",
            "Column 'MasVnrArea' contains NaN values\n",
            "Column 'BsmtQual' contains NaN values\n",
            "Column 'BsmtCond' contains NaN values\n",
            "Column 'BsmtExposure' contains NaN values\n",
            "Column 'BsmtFinType1' contains NaN values\n",
            "Column 'BsmtFinType2' contains NaN values\n",
            "Column 'FireplaceQu' contains NaN values\n",
            "Column 'GarageType' contains NaN values\n",
            "Column 'GarageYrBlt' contains NaN values\n",
            "Column 'GarageFinish' contains NaN values\n",
            "Column 'GarageQual' contains NaN values\n",
            "Column 'GarageCond' contains NaN values\n",
            "Column 'PoolQC' contains NaN values\n",
            "Column 'Fence' contains NaN values\n",
            "Column 'MiscFeature' contains NaN values\n"
          ]
        }
      ]
    },
    {
      "cell_type": "code",
      "source": [
        "# Transform Nan Values based on column attribute\n",
        "data['LotFrontage'] = data['LotFrontage'].fillna(0)\n",
        "data['Alley'] = data['Alley'].fillna(\"NA\")\n",
        "data['MasVnrType'] = data['MasVnrType'].fillna(\"None\")\n",
        "data['MasVnrArea'] = data['MasVnrArea'].fillna(0)\n",
        "data['BsmtQual'] = data['BsmtQual'].fillna(\"NA\")\n",
        "data['BsmtCond'] = data['BsmtCond'].fillna(\"NA\")\n",
        "data['BsmtExposure'] = data['BsmtExposure'].fillna(\"NA\")\n",
        "data['BsmtFinType1'] = data['BsmtFinType1'].fillna(\"NA\")\n",
        "data['BsmtFinType2'] = data['BsmtFinType2'].fillna(\"NA\")\n",
        "data['Electrical'] = data['Electrical'].fillna(\"Mix\")\n",
        "data['FireplaceQu'] = data['FireplaceQu'].fillna(\"NA\")\n",
        "data['GarageType'] = data['GarageType'].fillna(\"NA\")\n",
        "data['GarageYrBlt'] = data['GarageYrBlt'].fillna(data['GarageYrBlt'].mean())\n",
        "data['GarageFinish'] = data['GarageFinish'].fillna(\"NA\")\n",
        "data['GarageQual'] = data['GarageQual'].fillna(\"NA\")\n",
        "data['GarageCond'] = data['GarageCond'].fillna(\"NA\")\n",
        "data['PoolQC'] = data['PoolQC'].fillna(\"NA\")\n",
        "data['Fence'] = data['Fence'].fillna(\"NA\")\n",
        "data['MiscFeature'] = data['MiscFeature'].fillna(\"NA\")"
      ],
      "metadata": {
        "id": "QMp9PXNekpeB"
      },
      "execution_count": 1974,
      "outputs": []
    },
    {
      "cell_type": "code",
      "source": [
        "transformed_data = data # Create a copy of the data set."
      ],
      "metadata": {
        "id": "DUtM1M6WnWKo"
      },
      "execution_count": 1975,
      "outputs": []
    },
    {
      "cell_type": "markdown",
      "source": [
        "The data shows that the scale of different columns vary a lot. Some of them are categorical.\n",
        "\n",
        "Data trasformation is needed to include the most information to the model."
      ],
      "metadata": {
        "id": "1W5raSEvUhXc"
      }
    },
    {
      "cell_type": "markdown",
      "source": [
        "## Data-Transformation"
      ],
      "metadata": {
        "id": "bB9sUx3bbrLa"
      }
    },
    {
      "cell_type": "markdown",
      "source": [
        "Use Binary-Encoding and Label-Encoding to transform categorical variables."
      ],
      "metadata": {
        "id": "FwtpoN1Q-cyS"
      }
    },
    {
      "cell_type": "code",
      "source": [
        "# MSSubClass - Binary Encoding\n",
        "MSSubClass = transformed_data[\"MSSubClass\"]\n",
        "\n",
        "encoder = ce.BinaryEncoder(cols=['MSSubClass'])\n",
        "encoded_MSSubClass = encoder.fit_transform(MSSubClass)\n",
        "transformed_data[\"MSSubClass_0\"] = encoded_MSSubClass['MSSubClass_0']\n",
        "transformed_data[\"MSSubClass_1\"] = encoded_MSSubClass['MSSubClass_1']\n",
        "transformed_data[\"MSSubClass_2\"] = encoded_MSSubClass['MSSubClass_2']\n",
        "transformed_data[\"MSSubClass_3\"] = encoded_MSSubClass['MSSubClass_3']\n",
        "\n",
        "transformed_data = transformed_data.drop(['MSSubClass'], axis=1)"
      ],
      "metadata": {
        "collapsed": true,
        "id": "E2uzxudobgX9"
      },
      "execution_count": 1976,
      "outputs": []
    },
    {
      "cell_type": "code",
      "source": [
        "# MSZoing - Binary Encoding\n",
        "MSZoning = transformed_data[\"MSZoning\"]\n",
        "\n",
        "encoder = ce.BinaryEncoder(cols=['MSZoning'])\n",
        "encoded_MSZoning = encoder.fit_transform(MSZoning)\n",
        "transformed_data[\"MSZoning_0\"] = encoded_MSZoning['MSZoning_0']\n",
        "transformed_data[\"MSZoning_1\"] = encoded_MSZoning['MSZoning_1']\n",
        "transformed_data[\"MSZoning_2\"] = encoded_MSZoning['MSZoning_2']\n",
        "transformed_data = transformed_data.drop(['MSZoning'], axis=1)"
      ],
      "metadata": {
        "id": "zh2ba2SlhMAf"
      },
      "execution_count": 1977,
      "outputs": []
    },
    {
      "cell_type": "code",
      "source": [
        "# Street - Binary Encoding\n",
        "Street = transformed_data[\"Street\"]\n",
        "\n",
        "transformed_data['encoded_Street'] = transformed_data['Street'].map({\n",
        "    \"Grvl\": 0,\n",
        "    \"Pave\": 1\n",
        "    })\n",
        "transformed_data = transformed_data.drop(['Street'], axis=1)"
      ],
      "metadata": {
        "id": "UHE9ruBB52Xm"
      },
      "execution_count": 1978,
      "outputs": []
    },
    {
      "cell_type": "code",
      "source": [
        "# Alley - Binary Encoding\n",
        "Alley = data[\"Alley\"]\n",
        "\n",
        "encoder = ce.BinaryEncoder(cols=['Alley'])\n",
        "encoded_Alley = encoder.fit_transform(Alley)\n",
        "transformed_data[\"Alley_0\"] = encoded_Alley['Alley_0']\n",
        "transformed_data[\"Alley_1\"] = encoded_Alley['Alley_1']\n",
        "\n",
        "transformed_data = transformed_data.drop(['Alley'], axis=1)"
      ],
      "metadata": {
        "id": "BTo8sc1u8j2y"
      },
      "execution_count": 1979,
      "outputs": []
    },
    {
      "cell_type": "code",
      "source": [
        "# LotShape - Label Encoding\n",
        "LotShape = transformed_data[\"LotShape\"]\n",
        "\n",
        "transformed_data['encoded_LotShape'] = transformed_data['LotShape'].map({\n",
        "    \"Reg\": 0,\n",
        "    \"IR1\": 1,\n",
        "    \"IR2\": 2,\n",
        "    \"IR3\": 3\n",
        "})\n",
        "\n",
        "transformed_data = transformed_data.drop(['LotShape'], axis=1)"
      ],
      "metadata": {
        "id": "79rPl3vz-pL1"
      },
      "execution_count": 1980,
      "outputs": []
    },
    {
      "cell_type": "code",
      "source": [
        "# LandContour - Label Encoding\n",
        "LandContour = transformed_data[\"LandContour\"]\n",
        "\n",
        "transformed_data['encoded_LandContour'] = transformed_data['LandContour'].map({\n",
        "    \"Low\": 1,\n",
        "    \"HLS\": 2,\n",
        "    \"Bnk\": 3,\n",
        "    \"Lvl\": 4})\n",
        "\n",
        "transformed_data = transformed_data.drop(['LandContour'], axis=1)"
      ],
      "metadata": {
        "id": "5g_jvTs9COh5"
      },
      "execution_count": 1981,
      "outputs": []
    },
    {
      "cell_type": "code",
      "source": [
        "# Utilities - Label Encoding\n",
        "Utilities = transformed_data[\"Utilities\"]\n",
        "\n",
        "transformed_data['encoded_Utilities'] = transformed_data['Utilities'].map({\n",
        "    \"ELO\": 0,\n",
        "    \"NoSeWa\": 1,\n",
        "    \"NoSewr\": 2,\n",
        "    \"AllPub\": 3})\n",
        "\n",
        "transformed_data = transformed_data.drop(['Utilities'], axis=1)"
      ],
      "metadata": {
        "id": "vVxiU6vyCz6d"
      },
      "execution_count": 1982,
      "outputs": []
    },
    {
      "cell_type": "code",
      "source": [
        "# LotConfig - Binary Encoding\n",
        "LotConfig = transformed_data[\"LotConfig\"]\n",
        "\n",
        "encoder = ce.BinaryEncoder(cols=['LotConfig'])\n",
        "encoded_LotConfig = encoder.fit_transform(LotConfig)\n",
        "transformed_data[\"LotConfig_0\"] = encoded_LotConfig['LotConfig_0']\n",
        "transformed_data[\"LotConfig_1\"] = encoded_LotConfig['LotConfig_1']\n",
        "transformed_data[\"LotConfig_2\"] = encoded_LotConfig['LotConfig_2']\n",
        "\n",
        "transformed_data = transformed_data.drop(['LotConfig'], axis=1)"
      ],
      "metadata": {
        "id": "eiG1RFoxDUJ-"
      },
      "execution_count": 1983,
      "outputs": []
    },
    {
      "cell_type": "code",
      "source": [
        "# LandSlope - Label Encoding\n",
        "LandSlope = transformed_data[\"LandSlope\"]\n",
        "\n",
        "transformed_data['encoded_LandSlope'] = transformed_data['LandSlope'].map({\n",
        "    \"Gtl\": 2,\n",
        "    \"Mod\": 1,\n",
        "    \"Sev\": 0})\n",
        "\n",
        "transformed_data = transformed_data.drop(['LandSlope'], axis=1)"
      ],
      "metadata": {
        "id": "jg4mBNVpErgj"
      },
      "execution_count": 1984,
      "outputs": []
    },
    {
      "cell_type": "code",
      "source": [
        "# Neighborhood - Binary Encoding\n",
        "Neighborhood = transformed_data[\"Neighborhood\"]\n",
        "\n",
        "encoder = ce.BinaryEncoder(cols=['Neighborhood'])\n",
        "encoded_Neighborhood = encoder.fit_transform(Neighborhood)\n",
        "\n",
        "transformed_data[\"Neighborhood_0\"] = encoded_Neighborhood['Neighborhood_0']\n",
        "transformed_data[\"Neighborhood_1\"] = encoded_Neighborhood['Neighborhood_1']\n",
        "transformed_data[\"Neighborhood_2\"] = encoded_Neighborhood['Neighborhood_2']\n",
        "transformed_data[\"Neighborhood_3\"] = encoded_Neighborhood['Neighborhood_3']\n",
        "transformed_data[\"Neighborhood_4\"] = encoded_Neighborhood['Neighborhood_4']\n",
        "\n",
        "transformed_data = transformed_data.drop(['Neighborhood'], axis=1)"
      ],
      "metadata": {
        "id": "EbRTiIYgGc-X"
      },
      "execution_count": 1985,
      "outputs": []
    },
    {
      "cell_type": "code",
      "source": [
        "# Condition1 - Binary Encoding\n",
        "Condition1 = transformed_data[\"Condition1\"]\n",
        "\n",
        "encoder = ce.BinaryEncoder(cols=['Condition1'])\n",
        "encoded_Condition1 = encoder.fit_transform(Condition1)\n",
        "transformed_data[\"Condition1_0\"] = encoded_Condition1['Condition1_0']\n",
        "transformed_data[\"Condition1_1\"] = encoded_Condition1['Condition1_1']\n",
        "transformed_data[\"Condition1_2\"] = encoded_Condition1['Condition1_2']\n",
        "transformed_data[\"Condition1_3\"] = encoded_Condition1['Condition1_3']\n",
        "\n",
        "transformed_data = transformed_data.drop(['Condition1'], axis=1)"
      ],
      "metadata": {
        "id": "0EF_5bNdHKjF"
      },
      "execution_count": 1986,
      "outputs": []
    },
    {
      "cell_type": "code",
      "source": [
        "# Condition2 - Binary Encoding\n",
        "Condition2 = transformed_data[\"Condition2\"]\n",
        "\n",
        "encoder = ce.BinaryEncoder(cols=['Condition2'])\n",
        "encoded_Condition2 = encoder.fit_transform(Condition2)\n",
        "transformed_data[\"Condition2_0\"] = encoded_Condition2['Condition2_0']\n",
        "transformed_data[\"Condition2_1\"] = encoded_Condition2['Condition2_1']\n",
        "transformed_data[\"Condition2_2\"] = encoded_Condition2['Condition2_2']\n",
        "\n",
        "transformed_data = transformed_data.drop(['Condition2'], axis=1)"
      ],
      "metadata": {
        "id": "oMRA_PFOISfd"
      },
      "execution_count": 1987,
      "outputs": []
    },
    {
      "cell_type": "code",
      "source": [
        "# BldgType - Binary Encoding\n",
        "BldgType = transformed_data[\"BldgType\"]\n",
        "\n",
        "encoder = ce.BinaryEncoder(cols=['BldgType'])\n",
        "encoded_BldgType = encoder.fit_transform(BldgType)\n",
        "transformed_data[\"BldgType_0\"] = encoded_BldgType['BldgType_0']\n",
        "transformed_data[\"BldgType_1\"] = encoded_BldgType['BldgType_1']\n",
        "transformed_data[\"BldgType_2\"] = encoded_BldgType['BldgType_2']\n",
        "\n",
        "transformed_data = transformed_data.drop(['BldgType'], axis=1)"
      ],
      "metadata": {
        "id": "9C9orqNYI9oY"
      },
      "execution_count": 1988,
      "outputs": []
    },
    {
      "cell_type": "code",
      "source": [
        "# HouseStyle - Label Encoding\n",
        "HouseStyle = transformed_data[\"HouseStyle\"]\n",
        "\n",
        "transformed_data['encoded_HouseStyle'] = transformed_data['HouseStyle'].map({\n",
        "    \"1Story\": 1,\n",
        "    \"1.5Fin\": 1.75,\n",
        "    \"1.5Unf\": 1.5,\n",
        "    \"2Story\": 2,\n",
        "    \"2.5Fin\": 2.75,\n",
        "    \"2.5Unf\": 2.5,\n",
        "    \"SFoyer\": 3,\n",
        "    \"SLvl\"  : 3.25\n",
        "    })\n",
        "\n",
        "transformed_data = transformed_data.drop(['HouseStyle'], axis=1)\n"
      ],
      "metadata": {
        "id": "vXMoxEV2Jfpw"
      },
      "execution_count": 1989,
      "outputs": []
    },
    {
      "cell_type": "code",
      "source": [
        "# RoofStyle - Binary Encoding\n",
        "RoofStyle = transformed_data[\"RoofStyle\"]\n",
        "\n",
        "encoder = ce.BinaryEncoder(cols=['RoofStyle'])\n",
        "encoded_RoofStyle = encoder.fit_transform(RoofStyle)\n",
        "transformed_data[\"RoofStyle_0\"] = encoded_RoofStyle['RoofStyle_0']\n",
        "transformed_data[\"RoofStyle_1\"] = encoded_RoofStyle['RoofStyle_1']\n",
        "transformed_data[\"RoofStyle_2\"] = encoded_RoofStyle['RoofStyle_2']\n",
        "\n",
        "transformed_data = transformed_data.drop(['RoofStyle'], axis=1)"
      ],
      "metadata": {
        "id": "BSYoSUU5KoyB"
      },
      "execution_count": 1990,
      "outputs": []
    },
    {
      "cell_type": "code",
      "source": [
        "# Roof Material - Binary Encoding\n",
        "RoofMatl = transformed_data[\"RoofMatl\"]\n",
        "\n",
        "encoder = ce.BinaryEncoder(cols=['RoofMatl'])\n",
        "encoded_RoofMatl = encoder.fit_transform(RoofMatl)\n",
        "transformed_data[\"RoofMatl_0\"] = encoded_RoofMatl['RoofMatl_0']\n",
        "transformed_data[\"RoofMatl_1\"] = encoded_RoofMatl['RoofMatl_1']\n",
        "transformed_data[\"RoofMatl_2\"] = encoded_RoofMatl['RoofMatl_2']\n",
        "\n",
        "\n",
        "transformed_data = transformed_data.drop(['RoofMatl'], axis=1)"
      ],
      "metadata": {
        "id": "jItDH_3cL1xF"
      },
      "execution_count": 1991,
      "outputs": []
    },
    {
      "cell_type": "code",
      "source": [
        "# Exterior1st - Binary Encoding\n",
        "Exterior1st = transformed_data[\"Exterior1st\"]\n",
        "\n",
        "encoder = ce.BinaryEncoder(cols=['Exterior1st'])\n",
        "encoded_Exterior1st = encoder.fit_transform(Exterior1st)\n",
        "transformed_data[\"Exterior1st_0\"] = encoded_Exterior1st['Exterior1st_0']\n",
        "transformed_data[\"Exterior1st_1\"] = encoded_Exterior1st['Exterior1st_1']\n",
        "transformed_data[\"Exterior1st_2\"] = encoded_Exterior1st['Exterior1st_2']\n",
        "transformed_data[\"Exterior1st_3\"] = encoded_Exterior1st['Exterior1st_3']\n",
        "\n",
        "transformed_data = transformed_data.drop(['Exterior1st'], axis=1)"
      ],
      "metadata": {
        "id": "URNAtXX7MUYa"
      },
      "execution_count": 1992,
      "outputs": []
    },
    {
      "cell_type": "code",
      "source": [
        "# Exterior2nd - Binary Encoding\n",
        "Exterior2nd = transformed_data[\"Exterior2nd\"]\n",
        "\n",
        "encoder = ce.BinaryEncoder(cols=['Exterior2nd'])\n",
        "encoded_Exterior2nd = encoder.fit_transform(Exterior2nd)\n",
        "transformed_data[\"Exterior2nd_0\"] = encoded_Exterior2nd['Exterior2nd_0']\n",
        "transformed_data[\"Exterior2nd_1\"] = encoded_Exterior2nd['Exterior2nd_1']\n",
        "transformed_data[\"Exterior2nd_2\"] = encoded_Exterior2nd['Exterior2nd_2']\n",
        "transformed_data[\"Exterior2nd_3\"] = encoded_Exterior2nd['Exterior2nd_3']\n",
        "\n",
        "transformed_data = transformed_data.drop(['Exterior2nd'], axis=1)"
      ],
      "metadata": {
        "id": "maD01p0fM5ng"
      },
      "execution_count": 1993,
      "outputs": []
    },
    {
      "cell_type": "code",
      "source": [
        "# MasVnrType - Binary Encoding\n",
        "MasVnrType = transformed_data[\"MasVnrType\"]\n",
        "\n",
        "encoder = ce.BinaryEncoder(cols=['MasVnrType'])\n",
        "encoded_MasVnrType = encoder.fit_transform(MasVnrType)\n",
        "transformed_data[\"MasVnrType_0\"] = encoded_MasVnrType['MasVnrType_0']\n",
        "transformed_data[\"MasVnrType_1\"] = encoded_MasVnrType['MasVnrType_1']\n",
        "transformed_data[\"MasVnrType_2\"] = encoded_MasVnrType['MasVnrType_2']\n",
        "\n",
        "transformed_data = transformed_data.drop(['MasVnrType'], axis=1)"
      ],
      "metadata": {
        "id": "ewusJEn2N9hg"
      },
      "execution_count": 1994,
      "outputs": []
    },
    {
      "cell_type": "code",
      "source": [
        "# ExterQual - Label Encoding\n",
        "ExterQual = transformed_data[\"ExterQual\"]\n",
        "\n",
        "transformed_data['encoded_ExterQual'] = transformed_data['ExterQual'].map({\n",
        "    \"Poor\": 0,\n",
        "    \"Fa\": 1,\n",
        "    \"TA\": 2,\n",
        "    \"Gd\": 3,\n",
        "    \"Ex\": 4})\n",
        "\n",
        "transformed_data = transformed_data.drop(['ExterQual'], axis=1)"
      ],
      "metadata": {
        "id": "PH0j4Bk1OavW"
      },
      "execution_count": 1995,
      "outputs": []
    },
    {
      "cell_type": "code",
      "source": [
        "# ExterCond - Label Encoding\n",
        "ExterCond = transformed_data[\"ExterCond\"]\n",
        "\n",
        "transformed_data['encoded_ExterCond'] = transformed_data['ExterCond'].map({\n",
        "    \"Po\": 0,\n",
        "    \"Fa\": 1,\n",
        "    \"TA\": 2,\n",
        "    \"Gd\": 3,\n",
        "    \"Ex\": 4})\n",
        "\n",
        "transformed_data = transformed_data.drop(['ExterCond'], axis=1)"
      ],
      "metadata": {
        "id": "yVJQ7PfQO6RZ"
      },
      "execution_count": 1996,
      "outputs": []
    },
    {
      "cell_type": "code",
      "source": [
        "# Foundation - Binary Encoding\n",
        "Foundation = transformed_data[\"Foundation\"]\n",
        "\n",
        "encoder = ce.BinaryEncoder(cols=['Foundation'])\n",
        "encoded_Foundation = encoder.fit_transform(Foundation)\n",
        "transformed_data[\"Foundation_0\"] = encoded_Foundation['Foundation_0']\n",
        "transformed_data[\"Foundation_1\"] = encoded_Foundation['Foundation_1']\n",
        "transformed_data[\"Foundation_2\"] = encoded_Foundation['Foundation_2']\n",
        "\n",
        "transformed_data = transformed_data.drop(['Foundation'], axis=1)"
      ],
      "metadata": {
        "id": "9CJYDQTbPHFn"
      },
      "execution_count": 1997,
      "outputs": []
    },
    {
      "cell_type": "code",
      "source": [
        "# BsmtQual - Label Encoding\n",
        "BsmtQual = transformed_data[\"BsmtQual\"]\n",
        "\n",
        "transformed_data['encoded_BsmtQual'] = transformed_data['BsmtQual'].map({\n",
        "    \"NA\": -1,\n",
        "    \"Po\": 0,\n",
        "    \"Fa\": 1,\n",
        "    \"TA\": 2,\n",
        "    \"Gd\": 3,\n",
        "    \"Ex\": 4\n",
        "    })\n",
        "\n",
        "transformed_data = transformed_data.drop(['BsmtQual'], axis=1)"
      ],
      "metadata": {
        "id": "pcW9AeNuPak5"
      },
      "execution_count": 1998,
      "outputs": []
    },
    {
      "cell_type": "code",
      "source": [
        "# BsmtCond - Label Encoding\n",
        "BsmtCond = transformed_data[\"BsmtCond\"]\n",
        "\n",
        "transformed_data['encoded_BsmtCond'] = transformed_data['BsmtCond'].map({\n",
        "    \"NA\": -1,\n",
        "    \"Po\": 0,\n",
        "    \"Fa\": 1,\n",
        "    \"TA\": 2,\n",
        "    \"Gd\": 3,\n",
        "    \"Ex\": 4\n",
        "    })\n",
        "\n",
        "transformed_data = transformed_data.drop(['BsmtCond'], axis=1)"
      ],
      "metadata": {
        "id": "co9Cns61Pxc2"
      },
      "execution_count": 1999,
      "outputs": []
    },
    {
      "cell_type": "code",
      "source": [
        "# BsmtExposure - Label Encoding\n",
        "BsmtExposure = transformed_data[\"BsmtExposure\"]\n",
        "\n",
        "transformed_data['encoded_BsmtExposure'] = transformed_data['BsmtExposure'].map({\n",
        "    \"NA\": -1,\n",
        "    \"No\": 0,\n",
        "    \"Mn\": 1,\n",
        "    \"Av\": 2,\n",
        "    \"Gd\": 3,\n",
        "    })\n",
        "\n",
        "transformed_data = transformed_data.drop(['BsmtExposure'], axis=1)"
      ],
      "metadata": {
        "id": "52z9-XHNQOW_"
      },
      "execution_count": 2000,
      "outputs": []
    },
    {
      "cell_type": "code",
      "source": [
        "# BsmtFinType1 - Label Encoding\n",
        "BsmtFinType1 = transformed_data[\"BsmtFinType1\"]\n",
        "\n",
        "transformed_data['encoded_BsmtFinType1'] = transformed_data['BsmtFinType1'].map({\n",
        "    \"NA\" : -2,\n",
        "    \"Unf\": -1,\n",
        "    \"LwQ\": 0,\n",
        "    \"Rec\": 1,\n",
        "    \"BLQ\": 2,\n",
        "    \"ALQ\": 3,\n",
        "    \"GLQ\": 4\n",
        "    })\n",
        "\n",
        "transformed_data = transformed_data.drop(['BsmtFinType1'], axis=1)"
      ],
      "metadata": {
        "id": "FOZFMAzGQi9W"
      },
      "execution_count": 2001,
      "outputs": []
    },
    {
      "cell_type": "code",
      "source": [
        "# BsmtFinType2 - Label Encoding\n",
        "BsmtFinType2 = transformed_data[\"BsmtFinType2\"]\n",
        "\n",
        "transformed_data['encoded_BsmtFinType2'] = transformed_data['BsmtFinType2'].map({\n",
        "    \"NA\" : -2,\n",
        "    \"Unf\": -1,\n",
        "    \"LwQ\": 0,\n",
        "    \"Rec\": 1,\n",
        "    \"BLQ\": 2,\n",
        "    \"ALQ\": 3,\n",
        "    \"GLQ\": 4\n",
        "    })\n",
        "\n",
        "transformed_data = transformed_data.drop(['BsmtFinType2'], axis=1)"
      ],
      "metadata": {
        "id": "MVM1bHbzRp9A"
      },
      "execution_count": 2002,
      "outputs": []
    },
    {
      "cell_type": "code",
      "source": [
        "# Heating - Binary Encoding\n",
        "Heating = transformed_data[\"Heating\"]\n",
        "\n",
        "encoder = ce.BinaryEncoder(cols=['Heating'])\n",
        "encoded_Heating = encoder.fit_transform(Heating)\n",
        "transformed_data[\"Heating_0\"] = encoded_Heating['Heating_0']\n",
        "transformed_data[\"Heating_1\"] = encoded_Heating['Heating_1']\n",
        "transformed_data[\"Heating_2\"] = encoded_Heating['Heating_2']\n",
        "\n",
        "transformed_data = transformed_data.drop(['Heating'], axis=1)"
      ],
      "metadata": {
        "id": "qbFbaZ5ASAUy"
      },
      "execution_count": 2003,
      "outputs": []
    },
    {
      "cell_type": "code",
      "source": [
        "# HeatingQC - Label Encoding\n",
        "HeatingQC = transformed_data[\"HeatingQC\"]\n",
        "\n",
        "transformed_data['encoded_HeatingQC'] = transformed_data['HeatingQC'].map({\n",
        "    \"Po\" : -1,\n",
        "    \"Fa\": 0,\n",
        "    \"TA\": 1,\n",
        "    \"Gd\": 2,\n",
        "    \"Ex\": 3\n",
        "    })\n",
        "\n",
        "transformed_data = transformed_data.drop(['HeatingQC'], axis=1)"
      ],
      "metadata": {
        "id": "cdfi_u5OSdTA"
      },
      "execution_count": 2004,
      "outputs": []
    },
    {
      "cell_type": "code",
      "source": [
        "# CentralAir - Label Encoding\n",
        "CentralAir = transformed_data[\"CentralAir\"]\n",
        "\n",
        "transformed_data['encoded_CentralAir'] = transformed_data['CentralAir'].map({\n",
        "   \"Y\": 1,\n",
        "   \"N\": 0\n",
        "    })\n",
        "\n",
        "transformed_data = transformed_data.drop(['CentralAir'], axis=1)"
      ],
      "metadata": {
        "id": "yjhVqolDSxFM"
      },
      "execution_count": 2005,
      "outputs": []
    },
    {
      "cell_type": "code",
      "source": [
        "# Electrical - Label Encoding\n",
        "Electrical = transformed_data[\"Electrical\"]\n",
        "\n",
        "transformed_data['encoded_Electrical'] = transformed_data['Electrical'].map({\n",
        "   \"Mix\": -1,\n",
        "   \"FuseP\": 0,\n",
        "   \"FuseF\": 1,\n",
        "   \"FuseA\": 2,\n",
        "   \"SBrkr\": 3\n",
        "    })\n",
        "\n",
        "transformed_data = transformed_data.drop(['Electrical'], axis=1)"
      ],
      "metadata": {
        "id": "ZATQeERGTDfb"
      },
      "execution_count": 2006,
      "outputs": []
    },
    {
      "cell_type": "code",
      "source": [
        "# KitchenQual - Label Encoding\n",
        "KitchenQual = transformed_data[\"KitchenQual\"]\n",
        "\n",
        "transformed_data['encoded_KitchenQual'] = transformed_data['KitchenQual'].map({\n",
        "   \"Ex\": 3,\n",
        "   \"Gd\": 2,\n",
        "   \"TA\": 1,\n",
        "   \"Fa\": -1,\n",
        "   \"Po\": -2\n",
        "    })\n",
        "\n",
        "transformed_data = transformed_data.drop(['KitchenQual'], axis=1)"
      ],
      "metadata": {
        "id": "GqRozOZNTia8"
      },
      "execution_count": 2007,
      "outputs": []
    },
    {
      "cell_type": "code",
      "source": [
        "# Functional - Label Encoding\n",
        "Functional = transformed_data[\"Functional\"]\n",
        "\n",
        "transformed_data['encoded_Functional'] = transformed_data['Functional'].map({\n",
        "   \"Typ\": 1,\n",
        "   \"Min1\": -1,\n",
        "   \"Min2\": -2,\n",
        "   \"Mod\": -3,\n",
        "   \"Maj1\": -4,\n",
        "   \"Maj2\": -5,\n",
        "   \"Sev\": -6,\n",
        "   \"Sal\": -7\n",
        "    })\n",
        "\n",
        "transformed_data = transformed_data.drop(['Functional'], axis=1)"
      ],
      "metadata": {
        "id": "8flvStn9T68Q"
      },
      "execution_count": 2008,
      "outputs": []
    },
    {
      "cell_type": "code",
      "source": [
        "# FireplaceQu - Label Encoding\n",
        "FireplaceQu = transformed_data[\"FireplaceQu\"]\n",
        "\n",
        "transformed_data['encoded_FireplaceQu'] = transformed_data['FireplaceQu'].map({\n",
        "    \"NA\" : -2,\n",
        "    \"Po\": -1,\n",
        "    \"Fa\": 0,\n",
        "    \"TA\": 1,\n",
        "    \"Gd\": 2,\n",
        "    \"Ex\": 3\n",
        "    })\n",
        "\n",
        "transformed_data = transformed_data.drop(['FireplaceQu'], axis=1)"
      ],
      "metadata": {
        "id": "OMZTd0tBUaFb"
      },
      "execution_count": 2009,
      "outputs": []
    },
    {
      "cell_type": "code",
      "source": [
        "# GarageType - Label Encoding\n",
        "GarageType = transformed_data[\"GarageType\"]\n",
        "\n",
        "transformed_data['encoded_GarageType'] = transformed_data['GarageType'].map({\n",
        "    \"NA\" : -1,\n",
        "    \"Detchd\": 1,\n",
        "    \"CarPort\": 2,\n",
        "    \"BuiltIn\": 3,\n",
        "    \"Basment\": 4,\n",
        "    \"Attchd\": 5,\n",
        "    \"2Types\": 6\n",
        "    })\n",
        "\n",
        "transformed_data = transformed_data.drop(['GarageType'], axis=1)"
      ],
      "metadata": {
        "id": "bVUxd6w-U0H6"
      },
      "execution_count": 2010,
      "outputs": []
    },
    {
      "cell_type": "code",
      "source": [
        "# GarageFinish - Label Encoding\n",
        "\n",
        "GarageFinish = transformed_data[\"GarageFinish\"]\n",
        "\n",
        "transformed_data['encoded_GarageFinish'] = transformed_data['GarageFinish'].map({\n",
        "    \"NA\" : -1,\n",
        "    \"Unf\": 0,\n",
        "    \"RFn\": 1,\n",
        "    \"Fin\": 2\n",
        "    })\n",
        "\n",
        "transformed_data = transformed_data.drop(['GarageFinish'], axis=1)"
      ],
      "metadata": {
        "id": "pos8q9_lVOtX"
      },
      "execution_count": 2011,
      "outputs": []
    },
    {
      "cell_type": "code",
      "source": [
        "# GarageQual - Label Encoding\n",
        "GarageQual = transformed_data[\"GarageQual\"]\n",
        "\n",
        "transformed_data['encoded_GarageQual'] = transformed_data['GarageQual'].map({\n",
        "    \"NA\": -1,\n",
        "    \"Po\": 0,\n",
        "    \"Fa\": 1,\n",
        "    \"TA\": 2,\n",
        "    \"Gd\": 3,\n",
        "    \"Ex\": 4\n",
        "    })\n",
        "\n",
        "transformed_data = transformed_data.drop(['GarageQual'], axis=1)"
      ],
      "metadata": {
        "id": "MeDieSF5Vg9v"
      },
      "execution_count": 2012,
      "outputs": []
    },
    {
      "cell_type": "code",
      "source": [
        "# GarageCond - Label Encoding\n",
        "GarageCond = transformed_data[\"GarageCond\"]\n",
        "\n",
        "transformed_data['encoded_GarageCond'] = transformed_data['GarageCond'].map({\n",
        "    \"NA\": -1,\n",
        "    \"Po\": 0,\n",
        "    \"Fa\": 1,\n",
        "    \"TA\": 2,\n",
        "    \"Gd\": 3,\n",
        "    \"Ex\": 4\n",
        "    })\n",
        "\n",
        "transformed_data = transformed_data.drop(['GarageCond'], axis=1)"
      ],
      "metadata": {
        "id": "emk8OMJoVyYH"
      },
      "execution_count": 2013,
      "outputs": []
    },
    {
      "cell_type": "code",
      "source": [
        "# PavedDrive - Label Encoding\n",
        "PavedDrive = transformed_data[\"PavedDrive\"]\n",
        "\n",
        "transformed_data['encoded_PavedDrive'] = transformed_data['PavedDrive'].map({\n",
        "    \"N\": 0,\n",
        "    \"P\": 1,\n",
        "    \"Y\": 2,\n",
        "    })\n",
        "\n",
        "transformed_data = transformed_data.drop(['PavedDrive'], axis=1)"
      ],
      "metadata": {
        "id": "CPL8DTBBV8Dx"
      },
      "execution_count": 2014,
      "outputs": []
    },
    {
      "cell_type": "code",
      "source": [
        "# PoolQC - Label Encoding\n",
        "PoolQC = transformed_data[\"PoolQC\"]\n",
        "\n",
        "transformed_data['encoded_PoolQC'] = transformed_data['PoolQC'].map({\n",
        "    \"NA\": 0,\n",
        "    \"Fa\": 2,\n",
        "    \"TA\": 3,\n",
        "    \"Gd\": 4,\n",
        "    \"Ex\": 5\n",
        "    })\n",
        "\n",
        "transformed_data = transformed_data.drop(['PoolQC'], axis=1)"
      ],
      "metadata": {
        "id": "aFkk6NqTWSDE"
      },
      "execution_count": 2015,
      "outputs": []
    },
    {
      "cell_type": "code",
      "source": [
        "# Fence - Label Encoding\n",
        "Fence = transformed_data[\"Fence\"]\n",
        "\n",
        "transformed_data['encoded_Fence'] = transformed_data['Fence'].map({\n",
        "    \"NA\": 0,\n",
        "    \"MnWw\": 2,\n",
        "    \"GdWo\": 3,\n",
        "    \"MnPrv\": 4,\n",
        "    \"GdPrv\": 5\n",
        "    })\n",
        "\n",
        "transformed_data = transformed_data.drop(['Fence'], axis=1)"
      ],
      "metadata": {
        "id": "I2G_3VryWnWw"
      },
      "execution_count": 2016,
      "outputs": []
    },
    {
      "cell_type": "code",
      "source": [
        "# MiscFeature - Binary Encoding\n",
        "\n",
        "MiscFeature = transformed_data[\"MiscFeature\"]\n",
        "\n",
        "encoder = ce.BinaryEncoder(cols=['MiscFeature'])\n",
        "encoded_MiscFeature = encoder.fit_transform(MiscFeature)\n",
        "transformed_data[\"MiscFeature_0\"] = encoded_MiscFeature['MiscFeature_0']\n",
        "transformed_data[\"MiscFeature_1\"] = encoded_MiscFeature['MiscFeature_1']\n",
        "transformed_data[\"MiscFeature_2\"] = encoded_MiscFeature['MiscFeature_2']\n",
        "\n",
        "transformed_data = transformed_data.drop(['MiscFeature'], axis=1)"
      ],
      "metadata": {
        "id": "C35MM2qDW7No"
      },
      "execution_count": 2017,
      "outputs": []
    },
    {
      "cell_type": "code",
      "source": [
        "# SaleType - Binary Encoding\n",
        "SaleType = transformed_data[\"SaleType\"]\n",
        "\n",
        "encoder = ce.BinaryEncoder(cols=['SaleType'])\n",
        "encoded_SaleType = encoder.fit_transform(SaleType)\n",
        "transformed_data[\"SaleType_0\"] = encoded_SaleType['SaleType_0']\n",
        "transformed_data[\"SaleType_1\"] = encoded_SaleType['SaleType_1']\n",
        "transformed_data[\"SaleType_2\"] = encoded_SaleType['SaleType_2']\n",
        "transformed_data[\"SaleType_3\"] = encoded_SaleType['SaleType_3']\n",
        "\n",
        "\n",
        "transformed_data = transformed_data.drop(['SaleType'], axis=1)"
      ],
      "metadata": {
        "id": "VqoFTCVVXfde"
      },
      "execution_count": 2018,
      "outputs": []
    },
    {
      "cell_type": "code",
      "source": [
        "# SaleCondition - Binary Encoding\n",
        "SaleCondition = transformed_data[\"SaleCondition\"]\n",
        "\n",
        "encoder = ce.BinaryEncoder(cols=['SaleCondition'])\n",
        "encoded_SaleCondition = encoder.fit_transform(SaleCondition)\n",
        "transformed_data[\"SaleCondition_0\"] = encoded_SaleCondition[\"SaleCondition_0\"]\n",
        "transformed_data[\"SaleCondition_1\"] = encoded_SaleCondition[\"SaleCondition_1\"]\n",
        "transformed_data[\"SaleCondition_2\"] = encoded_SaleCondition[\"SaleCondition_2\"]\n",
        "\n",
        "transformed_data = transformed_data.drop(['SaleCondition'], axis=1)"
      ],
      "metadata": {
        "id": "S8x0DZO3YBDs"
      },
      "execution_count": 2019,
      "outputs": []
    },
    {
      "cell_type": "markdown",
      "source": [
        "# Modelling and Model Tuning\n"
      ],
      "metadata": {
        "id": "KdkAG83ej5au"
      }
    },
    {
      "cell_type": "markdown",
      "source": [
        "Standardize all the columns that were not binary-encoded."
      ],
      "metadata": {
        "id": "4nfyqrs9ZX1J"
      }
    },
    {
      "cell_type": "code",
      "source": [
        "# Do not standardize \"SalePrice\"\n",
        "columns_to_standardize = transformed_data.drop([\"SalePrice\", \"MSSubClass_0\", \"MSSubClass_1\", \"MSSubClass_2\", \"MSSubClass_3\", \"MSZoning_0\", \"MSZoning_1\", \"MSZoning_2\", \"Alley_0\", \"Alley_1\", \"LotConfig_0\", \"LotConfig_1\", \"LotConfig_2\", \"Neighborhood_0\", \"Neighborhood_1\", \"Neighborhood_2\", \"Neighborhood_3\", \"Neighborhood_4\", \"Condition1_0\", \"Condition1_1\", \"Condition1_2\", \"Condition1_3\", \"Condition2_0\", \"Condition2_1\", \"Condition2_2\", \"BldgType_0\", \"BldgType_1\", \"BldgType_2\", \"RoofStyle_0\", \"RoofStyle_1\", \"RoofStyle_2\", \"RoofMatl_0\", \"RoofMatl_1\", \"RoofMatl_2\", \"Exterior1st_0\", \"Exterior1st_1\", \"Exterior1st_2\", \"Exterior1st_3\", \"Exterior2nd_0\", \"Exterior2nd_1\", \"Exterior2nd_2\", \"Exterior2nd_3\", \"MasVnrType_0\", \"MasVnrType_1\", \"MasVnrType_2\", \"Foundation_0\", \"Foundation_1\", \"Foundation_2\", \"Heating_0\", \"Heating_1\", \"Heating_2\", \"MiscFeature_0\", \"MiscFeature_1\", \"MiscFeature_2\", \"SaleType_0\", \"SaleType_1\", \"SaleType_2\", \"SaleType_3\", \"SaleCondition_0\", \"SaleCondition_1\", \"SaleCondition_2\"], axis = 1).columns\n",
        "\n",
        "scaler = StandardScaler()\n",
        "transformed_data[columns_to_standardize] = scaler.fit_transform(transformed_data[columns_to_standardize])"
      ],
      "metadata": {
        "id": "nhhU4sqFZXg7"
      },
      "execution_count": 2020,
      "outputs": []
    },
    {
      "cell_type": "markdown",
      "source": [
        "## Standard Linear Regression"
      ],
      "metadata": {
        "id": "I4BL1__t2Ab-"
      }
    },
    {
      "cell_type": "code",
      "source": [
        "# Split data set for calculating Test MSE\n",
        "def split_data(X, Y):\n",
        "    global X_train, X_test, Y_train, Y_test\n",
        "    return train_test_split(X, Y, test_size=0.2, random_state=64)"
      ],
      "metadata": {
        "id": "Cub3w-xmhlrW"
      },
      "execution_count": 1604,
      "outputs": []
    },
    {
      "cell_type": "code",
      "source": [
        "# OLS\n",
        "def run(X_train, X_test, Y_train, Y_test):\n",
        "    # Fit OLS model with intercept\n",
        "    ols_sm = sm.OLS(Y_train, sm.add_constant(X_train))\n",
        "    ols_sm_results = ols_sm.fit()\n",
        "    print(ols_sm_results.summary())\n",
        "\n",
        "    # Make predictions\n",
        "    Y_train_pred = ols_sm_results.predict(sm.add_constant(X_train))\n",
        "    train_mse = mean_squared_error(Y_train, Y_train_pred)\n",
        "    train_r2 = r2_score(Y_train, Y_train_pred)\n",
        "\n",
        "    Y_test_pred = ols_sm_results.predict(sm.add_constant(X_test))\n",
        "    test_mse = mean_squared_error(Y_test, Y_test_pred)\n",
        "    test_r2 = r2_score(Y_test, Y_test_pred)\n",
        "\n",
        "    print(f\"Root Train Mean Squared Error MSE: {sqrt(train_mse):.4f}\")\n",
        "    print(f\"Train R-squared                  : {train_r2:.4f}\")\n",
        "    print(f\"Root Test Mean Squared Error MSE : {sqrt(test_mse):.4f}\")\n",
        "    print(f\"Test R-squared                   : {test_r2:.4f}\")\n",
        "    return train_mse, train_r2, test_mse, test_r2"
      ],
      "metadata": {
        "id": "AE9f2hi86Evt"
      },
      "execution_count": 1606,
      "outputs": []
    },
    {
      "cell_type": "code",
      "source": [
        "X = transformed_data.drop(columns=['SalePrice'])\n",
        "Y = transformed_data[\"SalePrice\"]\n",
        "X_train, X_test, Y_train, Y_test = split_data(X, Y)\n",
        "\n",
        "run(X_train, X_test, Y_train, Y_test)"
      ],
      "metadata": {
        "colab": {
          "base_uri": "https://localhost:8080/"
        },
        "id": "NkoHomiQ7Nfg",
        "outputId": "0a5450fb-0577-48a0-e0b2-86bc52308ec3"
      },
      "execution_count": 1607,
      "outputs": [
        {
          "output_type": "stream",
          "name": "stdout",
          "text": [
            "                            OLS Regression Results                            \n",
            "==============================================================================\n",
            "Dep. Variable:              SalePrice   R-squared:                       0.924\n",
            "Model:                            OLS   Adj. R-squared:                  0.911\n",
            "Method:                 Least Squares   F-statistic:                     69.40\n",
            "Date:                Wed, 16 Oct 2024   Prob (F-statistic):          3.58e-312\n",
            "Time:                        01:40:29   Log-Likelihood:                -9035.7\n",
            "No. Observations:                 800   AIC:                         1.831e+04\n",
            "Df Residuals:                     680   BIC:                         1.887e+04\n",
            "Df Model:                         119                                         \n",
            "Covariance Type:            nonrobust                                         \n",
            "========================================================================================\n",
            "                           coef    std err          t      P>|t|      [0.025      0.975]\n",
            "----------------------------------------------------------------------------------------\n",
            "Unnamed: 0            -130.9077    810.020     -0.162      0.872   -1721.349    1459.533\n",
            "Id                      21.1700    820.322      0.026      0.979   -1589.498    1631.838\n",
            "LotFrontage           2341.8269    961.172      2.436      0.015     454.605    4229.049\n",
            "LotArea               4040.4090   1036.631      3.898      0.000    2005.026    6075.792\n",
            "OverallQual           1.465e+04   1610.458      9.099      0.000    1.15e+04    1.78e+04\n",
            "OverallCond           6998.0856   1154.430      6.062      0.000    4731.409    9264.762\n",
            "YearBuilt             9216.9631   2658.440      3.467      0.001    3997.226    1.44e+04\n",
            "YearRemodAdd          -972.4592   1386.174     -0.702      0.483   -3694.154    1749.236\n",
            "MasVnrArea            3251.5966   1276.757      2.547      0.011     744.737    5758.456\n",
            "BsmtFinSF1            8300.6809   1162.904      7.138      0.000    6017.368    1.06e+04\n",
            "BsmtFinSF2            1488.8209   1226.327      1.214      0.225    -919.022    3896.664\n",
            "BsmtUnfSF            -1496.2127    979.419     -1.528      0.127   -3419.261     426.836\n",
            "TotalBsmtSF           7809.0121   1504.845      5.189      0.000    4854.311    1.08e+04\n",
            "1stFlrSF              6967.8221   1688.390      4.127      0.000    3652.737    1.03e+04\n",
            "2ndFlrSF              1.171e+04   1521.706      7.693      0.000    8719.010    1.47e+04\n",
            "LowQualFinSF         -1450.2975    950.175     -1.526      0.127   -3315.927     415.332\n",
            "GrLivArea             1.497e+04   1400.182     10.694      0.000    1.22e+04    1.77e+04\n",
            "BsmtFullBath           651.3691   1249.124      0.521      0.602   -1801.234    3103.972\n",
            "BsmtHalfBath          -237.3270    919.486     -0.258      0.796   -2042.700    1568.046\n",
            "FullBath             -1818.6515   1484.210     -1.225      0.221   -4732.836    1095.533\n",
            "HalfBath               882.1466   1289.184      0.684      0.494   -1649.113    3413.406\n",
            "BedroomAbvGr         -3718.2719   1375.195     -2.704      0.007   -6418.410   -1018.134\n",
            "KitchenAbvGr         -3236.5732   1896.978     -1.706      0.088   -6961.212     488.065\n",
            "TotRmsAbvGrd          3956.0370   1882.903      2.101      0.036     259.036    7653.038\n",
            "Fireplaces            1853.6853   1854.529      1.000      0.318   -1787.606    5494.977\n",
            "GarageYrBlt           2381.8157   1703.886      1.398      0.163    -963.694    5727.325\n",
            "GarageCars            5449.1305   2002.745      2.721      0.007    1516.823    9381.438\n",
            "GarageArea            2383.8839   2004.869      1.189      0.235   -1552.593    6320.361\n",
            "WoodDeckSF            2610.3177    918.651      2.841      0.005     806.585    4414.050\n",
            "OpenPorchSF           2769.1854    966.181      2.866      0.004     872.130    4666.241\n",
            "EnclosedPorch          243.1558    934.691      0.260      0.795   -1592.071    2078.383\n",
            "3SsnPorch              402.8374    787.725      0.511      0.609   -1143.828    1949.503\n",
            "ScreenPorch           2034.5383    914.304      2.225      0.026     239.340    3829.736\n",
            "PoolArea              3.069e+06   1.44e+06      2.130      0.034     2.4e+05     5.9e+06\n",
            "MiscVal               6254.4267   6437.657      0.972      0.332   -6385.648    1.89e+04\n",
            "MoSold                -366.7371    816.376     -0.449      0.653   -1969.658    1236.184\n",
            "YrSold                -632.3036    829.477     -0.762      0.446   -2260.948     996.341\n",
            "MSSubClass_0         -4068.1236   3774.365     -1.078      0.281   -1.15e+04    3342.687\n",
            "MSSubClass_1         -1638.4831   4138.103     -0.396      0.692   -9763.477    6486.511\n",
            "MSSubClass_2         -9744.0905   4780.936     -2.038      0.042   -1.91e+04    -356.919\n",
            "MSSubClass_3         -4884.2552   3619.031     -1.350      0.178    -1.2e+04    2221.564\n",
            "MSZoning_0           -4239.5492   7736.300     -0.548      0.584   -1.94e+04     1.1e+04\n",
            "MSZoning_1            1649.2696   5148.713      0.320      0.749   -8460.016    1.18e+04\n",
            "MSZoning_2            4245.0034   5538.384      0.766      0.444   -6629.385    1.51e+04\n",
            "encoded_Street        1396.5464    818.024      1.707      0.088    -209.610    3002.702\n",
            "Alley_0              -6328.9201   5695.320     -1.111      0.267   -1.75e+04    4853.605\n",
            "Alley_1              -5170.5398   7180.549     -0.720      0.472   -1.93e+04    8928.172\n",
            "encoded_LotShape       235.4004    963.724      0.244      0.807   -1656.831    2127.632\n",
            "encoded_LandContour  -1453.5379   1153.959     -1.260      0.208   -3719.289     812.213\n",
            "encoded_Utilities     8.729e+06   4.08e+06      2.141      0.033    7.22e+05    1.67e+07\n",
            "LotConfig_0           4412.3986   5691.514      0.775      0.438   -6762.654    1.56e+04\n",
            "LotConfig_1          -3262.9737   4322.213     -0.755      0.451   -1.17e+04    5223.513\n",
            "LotConfig_2          -1790.4194   4617.297     -0.388      0.698   -1.09e+04    7275.453\n",
            "encoded_LandSlope      910.7928   1251.207      0.728      0.467   -1545.900    3367.486\n",
            "Neighborhood_0        1.424e+04   2855.613      4.987      0.000    8633.810    1.98e+04\n",
            "Neighborhood_1        4966.6211   2016.400      2.463      0.014    1007.504    8925.739\n",
            "Neighborhood_2         664.1483   2033.286      0.327      0.744   -3328.125    4656.421\n",
            "Neighborhood_3        -939.1966   2178.681     -0.431      0.667   -5216.946    3338.553\n",
            "Neighborhood_4       -2016.1904   2590.400     -0.778      0.437   -7102.333    3069.953\n",
            "Condition1_0         -3.487e+04   1.01e+04     -3.460      0.001   -5.47e+04   -1.51e+04\n",
            "Condition1_1         -1.594e+04   4481.926     -3.556      0.000   -2.47e+04   -7138.206\n",
            "Condition1_2         -9037.8301   3394.665     -2.662      0.008   -1.57e+04   -2372.545\n",
            "Condition1_3         -1.254e+04   5763.670     -2.175      0.030   -2.39e+04   -1221.040\n",
            "Condition2_0          1.079e+04    4.1e+04      0.263      0.793   -6.98e+04    9.14e+04\n",
            "Condition2_1          -1.43e+04   2.31e+04     -0.619      0.536   -5.96e+04     3.1e+04\n",
            "Condition2_2         -3.057e+04   3.25e+04     -0.942      0.347   -9.43e+04    3.32e+04\n",
            "BldgType_0            1804.4538   8976.054      0.201      0.841   -1.58e+04    1.94e+04\n",
            "BldgType_1            -1.76e+04   5167.928     -3.405      0.001   -2.77e+04   -7449.991\n",
            "BldgType_2            1474.4204   5241.880      0.281      0.779   -8817.795    1.18e+04\n",
            "encoded_HouseStyle   -1636.0382   1661.501     -0.985      0.325   -4898.326    1626.250\n",
            "RoofStyle_0           1.339e+04   1.15e+04      1.163      0.245   -9212.743     3.6e+04\n",
            "RoofStyle_1           1.331e+04   1.11e+04      1.194      0.233   -8580.252    3.52e+04\n",
            "RoofStyle_2            1.02e+04   1.12e+04      0.914      0.361   -1.17e+04    3.21e+04\n",
            "RoofMatl_0           -3667.7961   2.47e+04     -0.148      0.882   -5.22e+04    4.49e+04\n",
            "RoofMatl_1            5115.6250   1.22e+04      0.419      0.675   -1.89e+04    2.91e+04\n",
            "RoofMatl_2           -1.581e+04   1.26e+04     -1.260      0.208   -4.05e+04    8835.610\n",
            "Exterior1st_0         8112.9209   5415.063      1.498      0.135   -2519.331    1.87e+04\n",
            "Exterior1st_1        -4125.3231   4218.620     -0.978      0.328   -1.24e+04    4157.763\n",
            "Exterior1st_2        -2296.0759   3157.244     -0.727      0.467   -8495.194    3903.043\n",
            "Exterior1st_3        -8070.6261   2283.951     -3.534      0.000   -1.26e+04   -3586.183\n",
            "Exterior2nd_0         5836.1238   2.51e+04      0.232      0.817   -4.35e+04    5.52e+04\n",
            "Exterior2nd_1        -3722.5433   4533.473     -0.821      0.412   -1.26e+04    5178.743\n",
            "Exterior2nd_2        -1356.8518   3470.214     -0.391      0.696   -8170.474    5456.771\n",
            "Exterior2nd_3          292.3529   2615.011      0.112      0.911   -4842.112    5426.818\n",
            "MasVnrType_0          1.437e+04   9634.752      1.491      0.136   -4550.662    3.33e+04\n",
            "MasVnrType_1          2342.1969   2675.424      0.875      0.382   -2910.887    7595.281\n",
            "MasVnrType_2          1.059e+04   8943.591      1.184      0.237   -6972.776    2.81e+04\n",
            "encoded_ExterQual     5325.2920   1466.340      3.632      0.000    2446.193    8204.391\n",
            "encoded_ExterCond    -2082.4744    968.531     -2.150      0.032   -3984.144    -180.804\n",
            "Foundation_0          4551.5103   9117.324      0.499      0.618   -1.33e+04    2.25e+04\n",
            "Foundation_1         -7700.7580   4226.777     -1.822      0.069    -1.6e+04     598.344\n",
            "Foundation_2         -5351.9049   3691.303     -1.450      0.148   -1.26e+04    1895.816\n",
            "encoded_BsmtQual      2461.3816   1764.614      1.395      0.164   -1003.365    5926.128\n",
            "encoded_BsmtCond     -3471.1713   1432.369     -2.423      0.016   -6283.569    -658.774\n",
            "encoded_BsmtExposure  5783.2422   1061.896      5.446      0.000    3698.253    7868.231\n",
            "encoded_BsmtFinType1   -10.6861   1299.887     -0.008      0.993   -2562.961    2541.589\n",
            "encoded_BsmtFinType2   367.6606   1325.823      0.277      0.782   -2235.538    2970.859\n",
            "Heating_0             1.187e+04   1.07e+04      1.112      0.267   -9089.064    3.28e+04\n",
            "Heating_1            -1.724e+04   1.65e+04     -1.045      0.296   -4.96e+04    1.51e+04\n",
            "Heating_2            -8705.2236   1.66e+04     -0.525      0.600   -4.13e+04    2.39e+04\n",
            "encoded_HeatingQC     -104.0881   1107.475     -0.094      0.925   -2278.570    2070.394\n",
            "encoded_CentralAir     -63.9323   1203.408     -0.053      0.958   -2426.773    2298.909\n",
            "encoded_Electrical   -1489.6353    965.468     -1.543      0.123   -3385.293     406.022\n",
            "encoded_KitchenQual   4057.1295   1315.417      3.084      0.002    1474.363    6639.896\n",
            "encoded_Functional    4275.3033    908.005      4.708      0.000    2492.473    6058.133\n",
            "encoded_FireplaceQu   -353.2474   1842.519     -0.192      0.848   -3970.958    3264.463\n",
            "encoded_GarageType   -2894.4950   1276.471     -2.268      0.024   -5400.792    -388.198\n",
            "encoded_GarageFinish  -559.5270   1288.206     -0.434      0.664   -3088.866    1969.812\n",
            "encoded_GarageQual   -2484.0188   3387.934     -0.733      0.464   -9136.088    4168.050\n",
            "encoded_GarageCond     327.4232   3495.726      0.094      0.925   -6536.290    7191.137\n",
            "encoded_PavedDrive     -12.6946   1050.619     -0.012      0.990   -2075.541    2050.152\n",
            "encoded_PoolQC       -5.202e+06   2.43e+06     -2.144      0.032   -9.97e+06   -4.39e+05\n",
            "encoded_Fence         -192.1094    912.254     -0.211      0.833   -1983.283    1599.064\n",
            "MiscFeature_0         -2.12e+05   2.28e+05     -0.928      0.354   -6.61e+05    2.37e+05\n",
            "MiscFeature_1         -1.83e+05   1.92e+05     -0.953      0.341    -5.6e+05    1.94e+05\n",
            "MiscFeature_2         -1.79e+05   1.84e+05     -0.971      0.332   -5.41e+05    1.83e+05\n",
            "SaleType_0            1.144e+04   1.15e+04      0.999      0.318    -1.1e+04    3.39e+04\n",
            "SaleType_1           -7853.0561   6948.911     -1.130      0.259   -2.15e+04    5790.845\n",
            "SaleType_2            1.206e+04   6296.585      1.915      0.056    -303.546    2.44e+04\n",
            "SaleType_3           -7766.6485   6668.613     -1.165      0.245   -2.09e+04    5326.899\n",
            "SaleCondition_0      -2294.0622   8466.069     -0.271      0.786   -1.89e+04    1.43e+04\n",
            "SaleCondition_1       1569.5344   7591.412      0.207      0.836   -1.33e+04    1.65e+04\n",
            "SaleCondition_2       1.218e+04   8740.595      1.393      0.164   -4983.639    2.93e+04\n",
            "==============================================================================\n",
            "Omnibus:                      111.471   Durbin-Watson:                   1.922\n",
            "Prob(Omnibus):                  0.000   Jarque-Bera (JB):             1096.636\n",
            "Skew:                          -0.208   Prob(JB):                    7.39e-239\n",
            "Kurtosis:                       8.721   Cond. No.                     1.52e+16\n",
            "==============================================================================\n",
            "\n",
            "Notes:\n",
            "[1] Standard Errors assume that the covariance matrix of the errors is correctly specified.\n",
            "[2] The smallest eigenvalue is 4.85e-29. This might indicate that there are\n",
            "strong multicollinearity problems or that the design matrix is singular.\n",
            "Root Train Mean Squared Error MSE: 19451.9062\n",
            "Train R-squared                  : 0.9239\n",
            "Root Test Mean Squared Error MSE : 20415846.5602\n",
            "Test R-squared                   : -74120.7038\n"
          ]
        },
        {
          "output_type": "execute_result",
          "data": {
            "text/plain": [
              "(378376654.6605702, 0.9239273016380819, 416806790771153.75, -74120.7038287763)"
            ]
          },
          "metadata": {},
          "execution_count": 1607
        }
      ]
    },
    {
      "cell_type": "markdown",
      "source": [
        "This means we are having an overfitting problem. First we check the collinearity using VIF"
      ],
      "metadata": {
        "id": "0glJIqPD64Hv"
      }
    },
    {
      "cell_type": "markdown",
      "source": [
        "### Collinearity"
      ],
      "metadata": {
        "id": "e5KGWryyxv0M"
      }
    },
    {
      "cell_type": "code",
      "source": [
        "collinearity = sm.add_constant(transformed_data.drop('SalePrice', axis=1))\n",
        "\n",
        "# Calculate and print VIF for each feature\n",
        "for i, col in enumerate(collinearity.columns):\n",
        "    if col == 'const':\n",
        "        continue  # Skip the constant term\n",
        "    # Calculate VIF\n",
        "    vif_value = vif(collinearity.values, i)\n",
        "    print(f\"{col} : {vif_value:.2f}\")\n"
      ],
      "metadata": {
        "colab": {
          "base_uri": "https://localhost:8080/"
        },
        "id": "rueCMOSbxhvU",
        "outputId": "3f34d81e-cd92-4d79-eb81-e6d44160de0c"
      },
      "execution_count": 1608,
      "outputs": [
        {
          "output_type": "stream",
          "name": "stdout",
          "text": [
            "Unnamed: 0 : 1.14\n",
            "Id : 1.15\n",
            "LotFrontage : 1.52\n",
            "LotArea : 2.09\n",
            "OverallQual : 4.55\n",
            "OverallCond : 2.38\n",
            "YearBuilt : 12.24\n",
            "YearRemodAdd : 3.15\n",
            "MasVnrArea : 2.94\n",
            "BsmtFinSF1 : inf\n"
          ]
        },
        {
          "output_type": "stream",
          "name": "stderr",
          "text": [
            "/usr/local/lib/python3.10/dist-packages/statsmodels/stats/outliers_influence.py:197: RuntimeWarning: divide by zero encountered in scalar divide\n",
            "  vif = 1. / (1. - r_squared_i)\n"
          ]
        },
        {
          "output_type": "stream",
          "name": "stdout",
          "text": [
            "BsmtFinSF2 : inf\n",
            "BsmtUnfSF : inf\n",
            "TotalBsmtSF : inf\n",
            "1stFlrSF : inf\n",
            "2ndFlrSF : inf\n",
            "LowQualFinSF : inf\n",
            "GrLivArea : inf\n",
            "BsmtFullBath : 2.79\n",
            "BsmtHalfBath : 1.42\n",
            "FullBath : 3.63\n",
            "HalfBath : 2.79\n",
            "BedroomAbvGr : 3.10\n",
            "KitchenAbvGr : 4.09\n",
            "TotRmsAbvGrd : 5.86\n",
            "Fireplaces : 5.30\n",
            "GarageYrBlt : 4.49\n",
            "GarageCars : 7.15\n",
            "GarageArea : 6.93\n",
            "WoodDeckSF : 1.45\n",
            "OpenPorchSF : 1.56\n",
            "EnclosedPorch : 1.51\n",
            "3SsnPorch : 1.11\n",
            "ScreenPorch : 1.31\n",
            "PoolArea : 9.85\n",
            "MiscVal : 3.95\n",
            "MoSold : 1.17\n",
            "YrSold : 1.20\n",
            "MSSubClass_0 : 3.60\n",
            "MSSubClass_1 : 4.98\n",
            "MSSubClass_2 : 9.23\n",
            "MSSubClass_3 : 5.26\n",
            "MSZoning_0 : 1.41\n",
            "MSZoning_1 : 7.43\n",
            "MSZoning_2 : 7.16\n",
            "encoded_Street : 1.38\n",
            "Alley_0 : 3.71\n",
            "Alley_1 : 3.47\n",
            "encoded_LotShape : 1.58\n",
            "encoded_LandContour : 2.22\n",
            "encoded_Utilities : 1.23\n",
            "LotConfig_0 : 3.24\n",
            "LotConfig_1 : 5.70\n",
            "LotConfig_2 : 6.90\n",
            "encoded_LandSlope : 2.57\n",
            "Neighborhood_0 : 1.86\n",
            "Neighborhood_1 : 1.67\n",
            "Neighborhood_2 : 1.72\n",
            "Neighborhood_3 : 1.98\n",
            "Neighborhood_4 : 2.88\n",
            "Condition1_0 : 1.10\n",
            "Condition1_1 : 1.62\n",
            "Condition1_2 : 1.56\n",
            "Condition1_3 : 1.87\n",
            "Condition2_0 : 3.11\n",
            "Condition2_1 : 4.56\n",
            "Condition2_2 : 6.14\n",
            "BldgType_0 : 5.97\n",
            "BldgType_1 : 5.21\n",
            "BldgType_2 : 2.93\n",
            "encoded_HouseStyle : 4.67\n",
            "RoofStyle_0 : 1.66\n",
            "RoofStyle_1 : 29.34\n",
            "RoofStyle_2 : 29.08\n",
            "RoofMatl_0 : 1.24\n",
            "RoofMatl_1 : 1.48\n",
            "RoofMatl_2 : 2.20\n",
            "Exterior1st_0 : 3.46\n",
            "Exterior1st_1 : 6.71\n",
            "Exterior1st_2 : 3.43\n",
            "Exterior1st_3 : 2.09\n",
            "Exterior2nd_0 : 1.31\n",
            "Exterior2nd_1 : 2.96\n",
            "Exterior2nd_2 : 4.78\n",
            "Exterior2nd_3 : 2.78\n",
            "MasVnrType_0 : 13.45\n",
            "MasVnrType_1 : 3.06\n",
            "MasVnrType_2 : 12.82\n",
            "encoded_ExterQual : 3.74\n",
            "encoded_ExterCond : 1.54\n",
            "Foundation_0 : 2.20\n",
            "Foundation_1 : 6.97\n",
            "Foundation_2 : 5.39\n",
            "encoded_BsmtQual : 5.24\n",
            "encoded_BsmtCond : 3.26\n",
            "encoded_BsmtExposure : 1.99\n",
            "encoded_BsmtFinType1 : 2.88\n",
            "encoded_BsmtFinType2 : 3.40\n",
            "Heating_0 : 1.79\n",
            "Heating_1 : 8.04\n",
            "Heating_2 : 8.59\n",
            "encoded_HeatingQC : 2.18\n",
            "encoded_CentralAir : 2.32\n",
            "encoded_Electrical : 1.58\n",
            "encoded_KitchenQual : 2.87\n",
            "encoded_Functional : 1.43\n",
            "encoded_FireplaceQu : 5.31\n",
            "encoded_GarageType : 2.86\n",
            "encoded_GarageFinish : 2.89\n",
            "encoded_GarageQual : 17.66\n",
            "encoded_GarageCond : 18.68\n",
            "encoded_PavedDrive : 1.78\n",
            "encoded_PoolQC : 9.83\n",
            "encoded_Fence : 1.34\n",
            "MiscFeature_0 : 4.06\n",
            "MiscFeature_1 : 84.13\n",
            "MiscFeature_2 : 77.29\n",
            "SaleType_0 : 1.35\n",
            "SaleType_1 : 3.50\n",
            "SaleType_2 : 5.59\n",
            "SaleType_3 : 8.18\n",
            "SaleCondition_0 : 8.70\n",
            "SaleCondition_1 : 9.47\n",
            "SaleCondition_2 : 10.92\n"
          ]
        }
      ]
    },
    {
      "cell_type": "markdown",
      "source": [
        "This shows that the data has severe multicollinearity. First we deal with the `inf` ones, which means Perfect Multicollinearity.\n",
        "\n",
        "TotalBsmtSF = BsmtFinSF1 + BsmtFinSF2 + BsmtUnfSF2\n",
        "\n",
        "GrLivArea = 1stFlrSF + 2ndFlrSF + LowQualFinSF"
      ],
      "metadata": {
        "id": "oAa2AsIMW0eO"
      }
    },
    {
      "cell_type": "code",
      "source": [
        "# Perfect Multicollinearity\n",
        "transformed_data = transformed_data.drop(['BsmtFinSF1', 'BsmtFinSF2', 'BsmtUnfSF', '1stFlrSF', '2ndFlrSF', 'LowQualFinSF'], axis=1)"
      ],
      "metadata": {
        "id": "ifov2SZ879bO"
      },
      "execution_count": 2021,
      "outputs": []
    },
    {
      "cell_type": "code",
      "source": [
        "# High Multicollinearity\n",
        "transformed_data = transformed_data.drop(['RoofStyle_1', 'MasVnrType_0', 'encoded_GarageCond', 'MiscFeature_1', 'SaleCondition_2'], axis=1)"
      ],
      "metadata": {
        "id": "slcdb4AO-vUT"
      },
      "execution_count": 2022,
      "outputs": []
    },
    {
      "cell_type": "markdown",
      "source": [
        "## Forward Selection"
      ],
      "metadata": {
        "id": "OYR7bIFDQOwd"
      }
    },
    {
      "cell_type": "code",
      "source": [
        "def processSubset(feature_set):\n",
        "    # Fit model on feature_set and calculate RSS\n",
        "    model = sm.OLS(Y,X[list(feature_set)])\n",
        "    regr = model.fit()\n",
        "    RSS = regr.ssr\n",
        "    return {'model': regr, 'RSS': RSS}\n",
        "\n",
        "def forward(predictors):\n",
        "\n",
        "    # Pull out predictors we still need to process\n",
        "    remaining_predictors = [p for p in X.columns if p not in predictors]\n",
        "\n",
        "    results = []\n",
        "\n",
        "    for p in remaining_predictors:\n",
        "        results.append(processSubset(predictors+[p]))\n",
        "\n",
        "    # Wrap everything up in a nice dataframe\n",
        "    models = pd.DataFrame(results)\n",
        "\n",
        "    # Choose the model with the highest RSS\n",
        "    best_model = models.loc[models['RSS'].argmin()]\n",
        "\n",
        "    # Return the best model, along with some other useful information about the model\n",
        "    return best_model"
      ],
      "metadata": {
        "id": "_tPPexURs9qj"
      },
      "execution_count": 1611,
      "outputs": []
    },
    {
      "cell_type": "code",
      "source": [
        "# Forward Selection\n",
        "X = transformed_data.drop(columns=['SalePrice'])\n",
        "Y = transformed_data[\"SalePrice\"]\n",
        "X_train, X_test, Y_train, Y_test = split_data(X, Y)\n",
        "models2 = pd.DataFrame(columns=['RSS', 'model'])\n",
        "\n",
        "predictors = []\n",
        "\n",
        "for i in range(1,len(X_train.columns)+1):\n",
        "    models2.loc[i] = forward(predictors)\n",
        "    predictors = models2.loc[i]['model'].model.exog_names\n",
        "\n",
        "bic_f = [m.bic for m in models2.model]\n",
        "\n",
        "# Find the index of the model with the lowest BIC\n",
        "best_model_index = np.array(bic_f).argmin()\n",
        "\n",
        "# Extract the best model\n",
        "best_model = models2.loc[best_model_index]['model']\n",
        "\n",
        "# Get the selected predictors (excluding 'const' if necessary)\n",
        "selected_predictors = [p for p in best_model.model.exog_names if p != 'const']\n",
        "\n",
        "# Print the selected predictors\n",
        "print(\"Selected predictors:\")\n",
        "for predictor in selected_predictors:\n",
        "    print(predictor)"
      ],
      "metadata": {
        "colab": {
          "base_uri": "https://localhost:8080/"
        },
        "id": "XqZHpEA2dOtW",
        "outputId": "9a0e8b84-624d-4c59-e4df-21fb00375037"
      },
      "execution_count": 1612,
      "outputs": [
        {
          "output_type": "stream",
          "name": "stdout",
          "text": [
            "Selected predictors:\n",
            "Condition2_2\n",
            "OverallQual\n",
            "GrLivArea\n",
            "GarageCars\n",
            "MSZoning_2\n",
            "encoded_BsmtExposure\n",
            "encoded_KitchenQual\n",
            "Condition2_0\n",
            "encoded_HouseStyle\n",
            "encoded_PoolQC\n",
            "Condition2_1\n",
            "BsmtFullBath\n",
            "SaleType_2\n",
            "Neighborhood_0\n",
            "MSSubClass_3\n",
            "BldgType_2\n",
            "OverallCond\n",
            "encoded_BsmtQual\n",
            "LotArea\n",
            "encoded_ExterQual\n",
            "ScreenPorch\n",
            "Condition1_3\n",
            "WoodDeckSF\n",
            "Alley_1\n",
            "encoded_GarageQual\n",
            "encoded_FireplaceQu\n",
            "encoded_Functional\n",
            "SaleType_3\n",
            "RoofMatl_2\n"
          ]
        }
      ]
    },
    {
      "cell_type": "markdown",
      "source": [
        "These are the predictors selected by forward selection, the forward selection stops at when a new variable is added to the current model, it doesn't improve the R^2. So through these 29 predictors, we get the largest R^2 possible through forward selection. But that doesn't mean the selected predictors will also give low test mse."
      ],
      "metadata": {
        "id": "g5Cy34nReKZy"
      }
    },
    {
      "cell_type": "code",
      "source": [
        "# Forward-selected variables' performance\n",
        "X = transformed_data[selected_predictors]\n",
        "Y = transformed_data[\"SalePrice\"]\n",
        "X_train, X_test, Y_train, Y_test = split_data(X, Y)\n",
        "\n",
        "run(X_train, X_test, Y_train, Y_test)"
      ],
      "metadata": {
        "colab": {
          "base_uri": "https://localhost:8080/"
        },
        "id": "0_zqT_ro7c7q",
        "outputId": "f0b8f9d8-96f5-4842-bfd3-4a921e3bcac5"
      },
      "execution_count": 1613,
      "outputs": [
        {
          "output_type": "stream",
          "name": "stdout",
          "text": [
            "                            OLS Regression Results                            \n",
            "==============================================================================\n",
            "Dep. Variable:              SalePrice   R-squared:                       0.883\n",
            "Model:                            OLS   Adj. R-squared:                  0.878\n",
            "Method:                 Least Squares   F-statistic:                     199.6\n",
            "Date:                Wed, 16 Oct 2024   Prob (F-statistic):               0.00\n",
            "Time:                        01:43:43   Log-Likelihood:                -9209.3\n",
            "No. Observations:                 800   AIC:                         1.848e+04\n",
            "Df Residuals:                     770   BIC:                         1.862e+04\n",
            "Df Model:                          29                                         \n",
            "Covariance Type:            nonrobust                                         \n",
            "========================================================================================\n",
            "                           coef    std err          t      P>|t|      [0.025      0.975]\n",
            "----------------------------------------------------------------------------------------\n",
            "const                   1.3e+05   3.66e+04      3.554      0.000    5.82e+04    2.02e+05\n",
            "Condition2_2          1.078e+04   3.53e+04      0.306      0.760   -5.85e+04       8e+04\n",
            "OverallQual           1.849e+04   1650.626     11.204      0.000    1.53e+04    2.17e+04\n",
            "GrLivArea             2.653e+04   1434.250     18.497      0.000    2.37e+04    2.93e+04\n",
            "GarageCars            8882.8691   1467.194      6.054      0.000    6002.695    1.18e+04\n",
            "MSZoning_2            7890.0775   2904.197      2.717      0.007    2188.995    1.36e+04\n",
            "encoded_BsmtExposure  7763.5022   1066.855      7.277      0.000    5669.213    9857.791\n",
            "encoded_KitchenQual   4209.1985   1358.362      3.099      0.002    1542.666    6875.731\n",
            "Condition2_0          1.685e+04   4.33e+04      0.389      0.698   -6.82e+04    1.02e+05\n",
            "encoded_HouseStyle   -6855.7244    977.728     -7.012      0.000   -8775.053   -4936.396\n",
            "encoded_PoolQC       -3389.2756   3357.904     -1.009      0.313   -9981.008    3202.457\n",
            "Condition2_1          1.972e+04   2.54e+04      0.776      0.438   -3.02e+04    6.96e+04\n",
            "BsmtFullBath          6480.1220    965.072      6.715      0.000    4585.638    8374.606\n",
            "SaleType_2            2.703e+04   4997.916      5.408      0.000    1.72e+04    3.68e+04\n",
            "Neighborhood_0        1.068e+04   2681.008      3.983      0.000    5415.252    1.59e+04\n",
            "MSSubClass_3           1.13e+04   2167.413      5.211      0.000    7040.392    1.55e+04\n",
            "BldgType_2            1.156e+04   3836.358      3.013      0.003    4028.395    1.91e+04\n",
            "OverallCond           4014.5115    965.300      4.159      0.000    2119.580    5909.443\n",
            "encoded_BsmtQual      4280.9466   1266.878      3.379      0.001    1794.002    6767.891\n",
            "LotArea               4303.1810    890.699      4.831      0.000    2554.695    6051.667\n",
            "encoded_ExterQual     7871.3586   1471.637      5.349      0.000    4982.462    1.08e+04\n",
            "ScreenPorch           2554.1122    977.622      2.613      0.009     634.991    4473.233\n",
            "Condition1_3          4315.5546   5296.390      0.815      0.415   -6081.522    1.47e+04\n",
            "WoodDeckSF            2515.4543    979.025      2.569      0.010     593.580    4437.328\n",
            "Alley_1               3408.3709   5049.292      0.675      0.500   -6503.640    1.33e+04\n",
            "encoded_GarageQual   -2986.6027   1138.867     -2.622      0.009   -5222.256    -750.950\n",
            "encoded_FireplaceQu   2341.9738   1083.480      2.162      0.031     215.050    4468.898\n",
            "encoded_Functional    3660.1349    930.287      3.934      0.000    1833.934    5486.335\n",
            "SaleType_3            1956.9858   4467.336      0.438      0.661   -6812.616    1.07e+04\n",
            "RoofMatl_2            1825.1123   9040.868      0.202      0.840   -1.59e+04    1.96e+04\n",
            "==============================================================================\n",
            "Omnibus:                       67.488   Durbin-Watson:                   1.905\n",
            "Prob(Omnibus):                  0.000   Jarque-Bera (JB):              364.657\n",
            "Skew:                           0.026   Prob(JB):                     6.54e-80\n",
            "Kurtosis:                       6.307   Cond. No.                         197.\n",
            "==============================================================================\n",
            "\n",
            "Notes:\n",
            "[1] Standard Errors assume that the covariance matrix of the errors is correctly specified.\n",
            "Root Train Mean Squared Error MSE: 24165.0181\n",
            "Train R-squared                  : 0.8826\n",
            "Root Test Mean Squared Error MSE : 45302.1064\n",
            "Test R-squared                   : 0.6350\n"
          ]
        },
        {
          "output_type": "execute_result",
          "data": {
            "text/plain": [
              "(583948101.3410578, 0.8825971231967705, 2052280847.4634926, 0.6350382083081771)"
            ]
          },
          "metadata": {},
          "execution_count": 1613
        }
      ]
    },
    {
      "cell_type": "markdown",
      "source": [
        "Then we draw the graph that shows how test mse and training mse changes as more and more variables get added to the model."
      ],
      "metadata": {
        "id": "eDTTviWw_pf6"
      }
    },
    {
      "cell_type": "code",
      "source": [
        "X = transformed_data[selected_predictors]\n",
        "Y = transformed_data[\"SalePrice\"]\n",
        "X_train, X_test, y_train, y_test = split_data(X, Y)\n",
        "\n",
        "def processSubset(feature_set, X_train, y_train, X_test, y_test):\n",
        "    model = sm.OLS(y_train, X_train[list(feature_set)])\n",
        "    regr = model.fit()\n",
        "\n",
        "    train_predictions = regr.predict(X_train[list(feature_set)])\n",
        "    train_mse = ((train_predictions - y_train) ** 2).mean()\n",
        "\n",
        "    test_predictions = regr.predict(X_test[list(feature_set)])\n",
        "    test_mse = ((test_predictions - y_test) ** 2).mean()\n",
        "\n",
        "    return {'model': regr, 'train_mse': train_mse, 'test_mse': test_mse}\n",
        "\n",
        "def forward(predictors, X_train, y_train, X_test, y_test):\n",
        "    remaining_predictors = [p for p in X_train.columns if p not in predictors]\n",
        "\n",
        "    results = []\n",
        "\n",
        "    for p in remaining_predictors:\n",
        "        results.append(processSubset(predictors + [p], X_train, y_train, X_test, y_test))\n",
        "\n",
        "    models = pd.DataFrame(results)\n",
        "\n",
        "    best_model = models.loc[models['test_mse'].argmin()]\n",
        "\n",
        "    return best_model\n",
        "\n",
        "models_train = pd.DataFrame(columns=['train_mse', 'test_mse', 'model'])\n",
        "\n",
        "predictors = []\n",
        "\n",
        "# Forward selection loop\n",
        "for i in range(1, len(X.columns) + 1):\n",
        "    best_model = forward(predictors, X_train, y_train, X_test, y_test)\n",
        "    models_train.loc[i] = best_model\n",
        "    predictors = best_model['model'].model.exog_names\n",
        "\n",
        "plt.figure(figsize=(10, 6))\n",
        "plt.plot(models_train['train_mse'], label='Training MSE', marker='o')\n",
        "plt.plot(models_train['test_mse'], label='Test MSE', marker='o')\n",
        "\n",
        "min_index = models_train['test_mse'].argmin()\n",
        "min_test_mse = models_train['test_mse'].min()\n",
        "\n",
        "plt.plot(min_index, min_test_mse, 'ro', markersize=10, label='Lowest Test MSE')\n",
        "\n",
        "plt.xlabel('# Predictors')\n",
        "plt.ylabel('MSE')\n",
        "plt.title('Forward Selection: Training and Test MSE')\n",
        "plt.legend()\n",
        "plt.grid()\n",
        "plt.show()"
      ],
      "metadata": {
        "colab": {
          "base_uri": "https://localhost:8080/",
          "height": 582
        },
        "id": "kLlgKp6SgR6s",
        "outputId": "fbfc019b-3c97-462f-9118-a5f9889ebdb6"
      },
      "execution_count": 1614,
      "outputs": [
        {
          "output_type": "display_data",
          "data": {
            "text/plain": [
              "<Figure size 1000x600 with 1 Axes>"
            ],
            "image/png": "[encoded data removed]"
          },
          "metadata": {}
        }
      ]
    },
    {
      "cell_type": "markdown",
      "source": [
        "The lowest test mse occurs at when there are 17 predictors in the model."
      ],
      "metadata": {
        "id": "f_h0qetAhG9k"
      }
    },
    {
      "cell_type": "code",
      "source": [
        "forward_best_predictors = models_train.loc[min_index, 'model'].model.exog_names\n",
        "print(f\"Predictors at the lowest test MSE: {forward_best_predictors}\")"
      ],
      "metadata": {
        "colab": {
          "base_uri": "https://localhost:8080/"
        },
        "id": "WU1UKH3JoiFC",
        "outputId": "c056546e-32dc-470d-fd5b-44a9fe4c9f50"
      },
      "execution_count": 1615,
      "outputs": [
        {
          "output_type": "stream",
          "name": "stdout",
          "text": [
            "Predictors at the lowest test MSE: ['BldgType_2', 'OverallQual', 'Condition1_3', 'GarageCars', 'Alley_1', 'Neighborhood_0', 'MSSubClass_3', 'BsmtFullBath', 'ScreenPorch', 'encoded_KitchenQual', 'encoded_GarageQual', 'OverallCond', 'encoded_BsmtQual', 'encoded_HouseStyle', 'Condition2_0', 'SaleType_2', 'MSZoning_2']\n"
          ]
        }
      ]
    },
    {
      "cell_type": "code",
      "source": [
        "X = transformed_data[forward_best_predictors]\n",
        "Y = transformed_data[\"SalePrice\"]\n",
        "X_train, X_test, Y_train, Y_test = split_data(X, Y)\n",
        "\n",
        "run(X_train, X_test, Y_train, Y_test)"
      ],
      "metadata": {
        "colab": {
          "base_uri": "https://localhost:8080/"
        },
        "id": "c8q5YP_e71PW",
        "outputId": "b5375dfa-0a3e-489c-ef25-1e1d44c85163"
      },
      "execution_count": 1617,
      "outputs": [
        {
          "output_type": "stream",
          "name": "stdout",
          "text": [
            "                            OLS Regression Results                            \n",
            "==============================================================================\n",
            "Dep. Variable:              SalePrice   R-squared:                       0.792\n",
            "Model:                            OLS   Adj. R-squared:                  0.787\n",
            "Method:                 Least Squares   F-statistic:                     175.1\n",
            "Date:                Wed, 16 Oct 2024   Prob (F-statistic):          8.78e-253\n",
            "Time:                        01:45:08   Log-Likelihood:                -9438.1\n",
            "No. Observations:                 800   AIC:                         1.891e+04\n",
            "Df Residuals:                     782   BIC:                         1.900e+04\n",
            "Df Model:                          17                                         \n",
            "Covariance Type:            nonrobust                                         \n",
            "=======================================================================================\n",
            "                          coef    std err          t      P>|t|      [0.025      0.975]\n",
            "---------------------------------------------------------------------------------------\n",
            "const                1.546e+05   1.01e+04     15.236      0.000    1.35e+05    1.74e+05\n",
            "BldgType_2           1.161e+04   5034.716      2.306      0.021    1726.523    2.15e+04\n",
            "OverallQual           3.34e+04   1862.454     17.935      0.000    2.97e+04    3.71e+04\n",
            "Condition1_3        -1.083e+04   6475.515     -1.673      0.095   -2.35e+04    1877.966\n",
            "GarageCars           1.942e+04   1838.459     10.561      0.000    1.58e+04     2.3e+04\n",
            "Alley_1             -6232.4412   6630.816     -0.940      0.348   -1.92e+04    6783.865\n",
            "Neighborhood_0       2.616e+04   3391.173      7.713      0.000    1.95e+04    3.28e+04\n",
            "MSSubClass_3          1.51e+04   2818.916      5.356      0.000    9564.116    2.06e+04\n",
            "BsmtFullBath         7674.9513   1215.846      6.312      0.000    5288.243    1.01e+04\n",
            "ScreenPorch          3493.5701   1207.488      2.893      0.004    1123.268    5863.872\n",
            "encoded_KitchenQual  6943.4431   1634.893      4.247      0.000    3734.145    1.02e+04\n",
            "encoded_GarageQual  -7468.6459   1470.134     -5.080      0.000   -1.04e+04   -4582.769\n",
            "OverallCond          3639.3275   1238.425      2.939      0.003    1208.296    6070.359\n",
            "encoded_BsmtQual     5997.7799   1591.407      3.769      0.000    2873.844    9121.716\n",
            "encoded_HouseStyle   -376.3585   1181.990     -0.318      0.750   -2696.607    1943.890\n",
            "Condition2_0         6523.2104   3.31e+04      0.197      0.844   -5.85e+04    7.16e+04\n",
            "SaleType_2           2.413e+04   4371.222      5.520      0.000    1.55e+04    3.27e+04\n",
            "MSZoning_2           1.542e+04   3776.678      4.083      0.000    8008.430    2.28e+04\n",
            "==============================================================================\n",
            "Omnibus:                       58.272   Durbin-Watson:                   1.972\n",
            "Prob(Omnibus):                  0.000   Jarque-Bera (JB):              129.649\n",
            "Skew:                           0.427   Prob(JB):                     7.03e-29\n",
            "Kurtosis:                       4.778   Cond. No.                         64.6\n",
            "==============================================================================\n",
            "\n",
            "Notes:\n",
            "[1] Standard Errors assume that the covariance matrix of the errors is correctly specified.\n",
            "Root Train Mean Squared Error MSE: 32165.5148\n",
            "Train R-squared                  : 0.7920\n",
            "Root Test Mean Squared Error MSE : 41236.0643\n",
            "Test R-squared                   : 0.6976\n"
          ]
        },
        {
          "output_type": "execute_result",
          "data": {
            "text/plain": [
              "(1034620339.709846, 0.7919893839844392, 1700412998.1033387, 0.6976116718280205)"
            ]
          },
          "metadata": {},
          "execution_count": 1617
        }
      ]
    },
    {
      "cell_type": "markdown",
      "source": [
        "To further improve the test mse, we can add interaction terms"
      ],
      "metadata": {
        "id": "QdpSarWvAjca"
      }
    },
    {
      "cell_type": "code",
      "source": [
        "X = transformed_data[forward_best_predictors]\n",
        "Y = transformed_data[\"SalePrice\"]\n",
        "lowest_test_mse = np.inf\n",
        "X_best = X.copy()  # Keep a copy of X that contains the best set of features\n",
        "\n",
        "def test_joint(X, Y):\n",
        "    X_train, X_test, Y_train, Y_test = split_data(X, Y)\n",
        "    model = sm.OLS(Y_train, sm.add_constant(X_train))\n",
        "    model = model.fit()\n",
        "    Y_test_pred = model.predict(sm.add_constant(X_test))\n",
        "    test_mse = mean_squared_error(Y_test, Y_test_pred)\n",
        "    return test_mse\n",
        "\n",
        "for i in X.columns:\n",
        "    for j in X.columns:\n",
        "        joint_feature_name = f'{i}_{j}'\n",
        "        X_temp = X_best.copy()  # Work on a copy of the best feature set\n",
        "        X_temp[joint_feature_name] = X[i] * X[j]  # Create the joint feature\n",
        "        test_mse = test_joint(X_temp, Y)\n",
        "\n",
        "        # If the test MSE improves, keep the joint feature\n",
        "        if test_mse < lowest_test_mse:\n",
        "            X_best[joint_feature_name] = X[i] * X[j]  # Add the joint feature to the best set\n",
        "            lowest_test_mse = test_mse  # Update the lowest test MSE\n",
        "            print(f\"New lowest test MSE with {joint_feature_name}: {lowest_test_mse}\")\n",
        "        else:\n",
        "            print(f\"No improvement with {joint_feature_name}, skipping.\")\n",
        "            X_temp.drop(columns=[joint_feature_name], inplace=True)  # Remove the joint feature\n",
        "\n",
        "# Final model evaluation with the best set of joint features\n",
        "X_train, X_test, Y_train, Y_test = split_data(X_best, Y)\n",
        "\n",
        "run(X_train, X_test, Y_train, Y_test)"
      ],
      "metadata": {
        "colab": {
          "base_uri": "https://localhost:8080/"
        },
        "id": "QjyPEMvLD-3a",
        "outputId": "fb762015-f935-448f-d3f9-9d1956c103c5"
      },
      "execution_count": 1960,
      "outputs": [
        {
          "output_type": "stream",
          "name": "stdout",
          "text": [
            "New lowest test MSE with BldgType_2_BldgType_2: 1700412998.103338\n",
            "No improvement with BldgType_2_OverallQual, skipping.\n",
            "No improvement with BldgType_2_Condition1_3, skipping.\n",
            "No improvement with BldgType_2_GarageCars, skipping.\n",
            "New lowest test MSE with BldgType_2_Alley_1: 1698928116.387635\n",
            "New lowest test MSE with BldgType_2_Neighborhood_0: 1698852197.5110633\n",
            "No improvement with BldgType_2_MSSubClass_3, skipping.\n",
            "New lowest test MSE with BldgType_2_BsmtFullBath: 1698394399.2065399\n",
            "New lowest test MSE with BldgType_2_ScreenPorch: 1693735666.3069043\n",
            "No improvement with BldgType_2_encoded_KitchenQual, skipping.\n",
            "No improvement with BldgType_2_encoded_GarageQual, skipping.\n",
            "No improvement with BldgType_2_OverallCond, skipping.\n",
            "No improvement with BldgType_2_encoded_BsmtQual, skipping.\n",
            "New lowest test MSE with BldgType_2_encoded_HouseStyle: 1693052826.489588\n",
            "No improvement with BldgType_2_Condition2_0, skipping.\n",
            "No improvement with BldgType_2_SaleType_2, skipping.\n",
            "No improvement with BldgType_2_MSZoning_2, skipping.\n",
            "No improvement with OverallQual_BldgType_2, skipping.\n",
            "New lowest test MSE with OverallQual_OverallQual: 1592935366.7612782\n",
            "New lowest test MSE with OverallQual_Condition1_3: 1552786887.506239\n",
            "New lowest test MSE with OverallQual_GarageCars: 1420509895.6782541\n",
            "New lowest test MSE with OverallQual_Alley_1: 1419865878.7870593\n",
            "New lowest test MSE with OverallQual_Neighborhood_0: 1414952854.5580795\n",
            "No improvement with OverallQual_MSSubClass_3, skipping.\n",
            "No improvement with OverallQual_BsmtFullBath, skipping.\n",
            "No improvement with OverallQual_ScreenPorch, skipping.\n",
            "No improvement with OverallQual_encoded_KitchenQual, skipping.\n",
            "No improvement with OverallQual_encoded_GarageQual, skipping.\n",
            "New lowest test MSE with OverallQual_OverallCond: 1398575249.7449563\n",
            "New lowest test MSE with OverallQual_encoded_BsmtQual: 1394002309.8296564\n",
            "New lowest test MSE with OverallQual_encoded_HouseStyle: 1392990911.4796972\n",
            "No improvement with OverallQual_Condition2_0, skipping.\n",
            "No improvement with OverallQual_SaleType_2, skipping.\n",
            "No improvement with OverallQual_MSZoning_2, skipping.\n",
            "No improvement with Condition1_3_BldgType_2, skipping.\n",
            "New lowest test MSE with Condition1_3_OverallQual: 1392990911.4796948\n",
            "No improvement with Condition1_3_Condition1_3, skipping.\n",
            "New lowest test MSE with Condition1_3_GarageCars: 1387981932.213063\n",
            "No improvement with Condition1_3_Alley_1, skipping.\n",
            "New lowest test MSE with Condition1_3_Neighborhood_0: 1386421422.6145203\n",
            "New lowest test MSE with Condition1_3_MSSubClass_3: 1385739284.6822245\n",
            "New lowest test MSE with Condition1_3_BsmtFullBath: 1380770954.2820623\n",
            "New lowest test MSE with Condition1_3_ScreenPorch: 1380427476.0111184\n",
            "No improvement with Condition1_3_encoded_KitchenQual, skipping.\n",
            "No improvement with Condition1_3_encoded_GarageQual, skipping.\n",
            "No improvement with Condition1_3_OverallCond, skipping.\n",
            "No improvement with Condition1_3_encoded_BsmtQual, skipping.\n",
            "No improvement with Condition1_3_encoded_HouseStyle, skipping.\n",
            "No improvement with Condition1_3_Condition2_0, skipping.\n",
            "No improvement with Condition1_3_SaleType_2, skipping.\n",
            "No improvement with Condition1_3_MSZoning_2, skipping.\n",
            "No improvement with GarageCars_BldgType_2, skipping.\n",
            "No improvement with GarageCars_OverallQual, skipping.\n",
            "No improvement with GarageCars_Condition1_3, skipping.\n",
            "New lowest test MSE with GarageCars_GarageCars: 1379283309.6664171\n",
            "No improvement with GarageCars_Alley_1, skipping.\n",
            "New lowest test MSE with GarageCars_Neighborhood_0: 1376338266.4583905\n",
            "New lowest test MSE with GarageCars_MSSubClass_3: 1361978247.4297895\n",
            "New lowest test MSE with GarageCars_BsmtFullBath: 1353945082.823937\n",
            "No improvement with GarageCars_ScreenPorch, skipping.\n",
            "No improvement with GarageCars_encoded_KitchenQual, skipping.\n",
            "No improvement with GarageCars_encoded_GarageQual, skipping.\n",
            "No improvement with GarageCars_OverallCond, skipping.\n",
            "No improvement with GarageCars_encoded_BsmtQual, skipping.\n",
            "New lowest test MSE with GarageCars_encoded_HouseStyle: 1351052260.9381058\n",
            "No improvement with GarageCars_Condition2_0, skipping.\n",
            "New lowest test MSE with GarageCars_SaleType_2: 1342447751.339051\n",
            "New lowest test MSE with GarageCars_MSZoning_2: 1341465421.123058\n",
            "No improvement with Alley_1_BldgType_2, skipping.\n",
            "New lowest test MSE with Alley_1_OverallQual: 1341465421.1230574\n",
            "New lowest test MSE with Alley_1_Condition1_3: 1341465421.1230571\n",
            "No improvement with Alley_1_GarageCars, skipping.\n",
            "No improvement with Alley_1_Alley_1, skipping.\n",
            "No improvement with Alley_1_Neighborhood_0, skipping.\n",
            "No improvement with Alley_1_MSSubClass_3, skipping.\n",
            "No improvement with Alley_1_BsmtFullBath, skipping.\n",
            "New lowest test MSE with Alley_1_ScreenPorch: 1340923528.1826208\n",
            "No improvement with Alley_1_encoded_KitchenQual, skipping.\n",
            "New lowest test MSE with Alley_1_encoded_GarageQual: 1339321958.684702\n",
            "No improvement with Alley_1_OverallCond, skipping.\n",
            "New lowest test MSE with Alley_1_encoded_BsmtQual: 1336453150.125722\n",
            "No improvement with Alley_1_encoded_HouseStyle, skipping.\n",
            "No improvement with Alley_1_Condition2_0, skipping.\n",
            "New lowest test MSE with Alley_1_SaleType_2: 1336453150.1257207\n",
            "New lowest test MSE with Alley_1_MSZoning_2: 1332316650.765975\n",
            "No improvement with Neighborhood_0_BldgType_2, skipping.\n",
            "No improvement with Neighborhood_0_OverallQual, skipping.\n",
            "New lowest test MSE with Neighborhood_0_Condition1_3: 1332316650.7659726\n",
            "No improvement with Neighborhood_0_GarageCars, skipping.\n",
            "No improvement with Neighborhood_0_Alley_1, skipping.\n",
            "No improvement with Neighborhood_0_Neighborhood_0, skipping.\n",
            "New lowest test MSE with Neighborhood_0_MSSubClass_3: 1315898651.4418252\n",
            "New lowest test MSE with Neighborhood_0_BsmtFullBath: 1307288999.7786376\n",
            "No improvement with Neighborhood_0_ScreenPorch, skipping.\n",
            "No improvement with Neighborhood_0_encoded_KitchenQual, skipping.\n",
            "No improvement with Neighborhood_0_encoded_GarageQual, skipping.\n",
            "No improvement with Neighborhood_0_OverallCond, skipping.\n",
            "No improvement with Neighborhood_0_encoded_BsmtQual, skipping.\n",
            "New lowest test MSE with Neighborhood_0_encoded_HouseStyle: 1293142525.7086298\n",
            "No improvement with Neighborhood_0_Condition2_0, skipping.\n",
            "No improvement with Neighborhood_0_SaleType_2, skipping.\n",
            "New lowest test MSE with Neighborhood_0_MSZoning_2: 1293033220.8799098\n",
            "No improvement with MSSubClass_3_BldgType_2, skipping.\n",
            "No improvement with MSSubClass_3_OverallQual, skipping.\n",
            "No improvement with MSSubClass_3_Condition1_3, skipping.\n",
            "No improvement with MSSubClass_3_GarageCars, skipping.\n",
            "No improvement with MSSubClass_3_Alley_1, skipping.\n",
            "No improvement with MSSubClass_3_Neighborhood_0, skipping.\n",
            "New lowest test MSE with MSSubClass_3_MSSubClass_3: 1293033220.8799088\n",
            "No improvement with MSSubClass_3_BsmtFullBath, skipping.\n",
            "New lowest test MSE with MSSubClass_3_ScreenPorch: 1282218743.0591424\n",
            "No improvement with MSSubClass_3_encoded_KitchenQual, skipping.\n",
            "New lowest test MSE with MSSubClass_3_encoded_GarageQual: 1280531071.4536338\n",
            "No improvement with MSSubClass_3_OverallCond, skipping.\n",
            "No improvement with MSSubClass_3_encoded_BsmtQual, skipping.\n",
            "New lowest test MSE with MSSubClass_3_encoded_HouseStyle: 1277224480.3744192\n",
            "No improvement with MSSubClass_3_Condition2_0, skipping.\n",
            "No improvement with MSSubClass_3_SaleType_2, skipping.\n",
            "No improvement with MSSubClass_3_MSZoning_2, skipping.\n",
            "New lowest test MSE with BsmtFullBath_BldgType_2: 1277224480.3744187\n",
            "No improvement with BsmtFullBath_OverallQual, skipping.\n",
            "New lowest test MSE with BsmtFullBath_Condition1_3: 1277224480.3744173\n",
            "New lowest test MSE with BsmtFullBath_GarageCars: 1277224480.3744168\n",
            "No improvement with BsmtFullBath_Alley_1, skipping.\n",
            "No improvement with BsmtFullBath_Neighborhood_0, skipping.\n",
            "No improvement with BsmtFullBath_MSSubClass_3, skipping.\n",
            "No improvement with BsmtFullBath_BsmtFullBath, skipping.\n",
            "No improvement with BsmtFullBath_ScreenPorch, skipping.\n",
            "No improvement with BsmtFullBath_encoded_KitchenQual, skipping.\n",
            "No improvement with BsmtFullBath_encoded_GarageQual, skipping.\n",
            "No improvement with BsmtFullBath_OverallCond, skipping.\n",
            "No improvement with BsmtFullBath_encoded_BsmtQual, skipping.\n",
            "New lowest test MSE with BsmtFullBath_encoded_HouseStyle: 1259707927.6268663\n",
            "New lowest test MSE with BsmtFullBath_Condition2_0: 1259707927.6268656\n",
            "No improvement with BsmtFullBath_SaleType_2, skipping.\n",
            "No improvement with BsmtFullBath_MSZoning_2, skipping.\n",
            "New lowest test MSE with ScreenPorch_BldgType_2: 1259707927.6268644\n",
            "No improvement with ScreenPorch_OverallQual, skipping.\n",
            "New lowest test MSE with ScreenPorch_Condition1_3: 1259707927.6268637\n",
            "No improvement with ScreenPorch_GarageCars, skipping.\n",
            "No improvement with ScreenPorch_Alley_1, skipping.\n",
            "New lowest test MSE with ScreenPorch_Neighborhood_0: 1256270263.6570218\n",
            "New lowest test MSE with ScreenPorch_MSSubClass_3: 1256270263.6570199\n",
            "No improvement with ScreenPorch_BsmtFullBath, skipping.\n",
            "No improvement with ScreenPorch_ScreenPorch, skipping.\n",
            "New lowest test MSE with ScreenPorch_encoded_KitchenQual: 1251559152.8947604\n",
            "No improvement with ScreenPorch_encoded_GarageQual, skipping.\n",
            "New lowest test MSE with ScreenPorch_OverallCond: 1233609215.727273\n",
            "New lowest test MSE with ScreenPorch_encoded_BsmtQual: 1232145713.0055974\n",
            "No improvement with ScreenPorch_encoded_HouseStyle, skipping.\n",
            "New lowest test MSE with ScreenPorch_Condition2_0: 1232145713.0055954\n",
            "No improvement with ScreenPorch_SaleType_2, skipping.\n",
            "New lowest test MSE with ScreenPorch_MSZoning_2: 1230142980.09371\n",
            "No improvement with encoded_KitchenQual_BldgType_2, skipping.\n",
            "New lowest test MSE with encoded_KitchenQual_OverallQual: 1229384058.51474\n",
            "No improvement with encoded_KitchenQual_Condition1_3, skipping.\n",
            "No improvement with encoded_KitchenQual_GarageCars, skipping.\n",
            "No improvement with encoded_KitchenQual_Alley_1, skipping.\n",
            "New lowest test MSE with encoded_KitchenQual_Neighborhood_0: 1228576409.761027\n",
            "No improvement with encoded_KitchenQual_MSSubClass_3, skipping.\n",
            "No improvement with encoded_KitchenQual_BsmtFullBath, skipping.\n",
            "No improvement with encoded_KitchenQual_ScreenPorch, skipping.\n",
            "New lowest test MSE with encoded_KitchenQual_encoded_KitchenQual: 1223559789.987522\n",
            "New lowest test MSE with encoded_KitchenQual_encoded_GarageQual: 1223503925.7205553\n",
            "No improvement with encoded_KitchenQual_OverallCond, skipping.\n",
            "New lowest test MSE with encoded_KitchenQual_encoded_BsmtQual: 1220230996.632599\n",
            "New lowest test MSE with encoded_KitchenQual_encoded_HouseStyle: 1219763836.1179907\n",
            "No improvement with encoded_KitchenQual_Condition2_0, skipping.\n",
            "No improvement with encoded_KitchenQual_SaleType_2, skipping.\n",
            "New lowest test MSE with encoded_KitchenQual_MSZoning_2: 1219693478.9028866\n",
            "No improvement with encoded_GarageQual_BldgType_2, skipping.\n",
            "No improvement with encoded_GarageQual_OverallQual, skipping.\n",
            "New lowest test MSE with encoded_GarageQual_Condition1_3: 1219693478.9028852\n",
            "New lowest test MSE with encoded_GarageQual_GarageCars: 1216548452.517917\n",
            "New lowest test MSE with encoded_GarageQual_Alley_1: 1216548452.5179136\n",
            "No improvement with encoded_GarageQual_Neighborhood_0, skipping.\n",
            "No improvement with encoded_GarageQual_MSSubClass_3, skipping.\n",
            "No improvement with encoded_GarageQual_BsmtFullBath, skipping.\n",
            "No improvement with encoded_GarageQual_ScreenPorch, skipping.\n",
            "No improvement with encoded_GarageQual_encoded_KitchenQual, skipping.\n",
            "New lowest test MSE with encoded_GarageQual_encoded_GarageQual: 1214256030.1741157\n",
            "No improvement with encoded_GarageQual_OverallCond, skipping.\n",
            "No improvement with encoded_GarageQual_encoded_BsmtQual, skipping.\n",
            "No improvement with encoded_GarageQual_encoded_HouseStyle, skipping.\n",
            "No improvement with encoded_GarageQual_Condition2_0, skipping.\n",
            "No improvement with encoded_GarageQual_SaleType_2, skipping.\n",
            "No improvement with encoded_GarageQual_MSZoning_2, skipping.\n",
            "No improvement with OverallCond_BldgType_2, skipping.\n",
            "New lowest test MSE with OverallCond_OverallQual: 1214256030.174114\n",
            "No improvement with OverallCond_Condition1_3, skipping.\n",
            "No improvement with OverallCond_GarageCars, skipping.\n",
            "No improvement with OverallCond_Alley_1, skipping.\n",
            "No improvement with OverallCond_Neighborhood_0, skipping.\n",
            "No improvement with OverallCond_MSSubClass_3, skipping.\n",
            "No improvement with OverallCond_BsmtFullBath, skipping.\n",
            "No improvement with OverallCond_ScreenPorch, skipping.\n",
            "No improvement with OverallCond_encoded_KitchenQual, skipping.\n",
            "No improvement with OverallCond_encoded_GarageQual, skipping.\n",
            "New lowest test MSE with OverallCond_OverallCond: 1209489879.420175\n",
            "No improvement with OverallCond_encoded_BsmtQual, skipping.\n",
            "No improvement with OverallCond_encoded_HouseStyle, skipping.\n",
            "No improvement with OverallCond_Condition2_0, skipping.\n",
            "No improvement with OverallCond_SaleType_2, skipping.\n",
            "New lowest test MSE with OverallCond_MSZoning_2: 1209086395.2411668\n",
            "No improvement with encoded_BsmtQual_BldgType_2, skipping.\n",
            "No improvement with encoded_BsmtQual_OverallQual, skipping.\n",
            "No improvement with encoded_BsmtQual_Condition1_3, skipping.\n",
            "No improvement with encoded_BsmtQual_GarageCars, skipping.\n",
            "New lowest test MSE with encoded_BsmtQual_Alley_1: 1209086395.2411642\n",
            "No improvement with encoded_BsmtQual_Neighborhood_0, skipping.\n",
            "No improvement with encoded_BsmtQual_MSSubClass_3, skipping.\n",
            "No improvement with encoded_BsmtQual_BsmtFullBath, skipping.\n",
            "No improvement with encoded_BsmtQual_ScreenPorch, skipping.\n",
            "New lowest test MSE with encoded_BsmtQual_encoded_KitchenQual: 1209086395.241161\n",
            "No improvement with encoded_BsmtQual_encoded_GarageQual, skipping.\n",
            "No improvement with encoded_BsmtQual_OverallCond, skipping.\n",
            "New lowest test MSE with encoded_BsmtQual_encoded_BsmtQual: 1206312153.893457\n",
            "No improvement with encoded_BsmtQual_encoded_HouseStyle, skipping.\n",
            "No improvement with encoded_BsmtQual_Condition2_0, skipping.\n",
            "No improvement with encoded_BsmtQual_SaleType_2, skipping.\n",
            "New lowest test MSE with encoded_BsmtQual_MSZoning_2: 1205646727.2464259\n",
            "New lowest test MSE with encoded_HouseStyle_BldgType_2: 1202666388.9828196\n",
            "No improvement with encoded_HouseStyle_OverallQual, skipping.\n",
            "No improvement with encoded_HouseStyle_Condition1_3, skipping.\n",
            "No improvement with encoded_HouseStyle_GarageCars, skipping.\n",
            "No improvement with encoded_HouseStyle_Alley_1, skipping.\n",
            "No improvement with encoded_HouseStyle_Neighborhood_0, skipping.\n",
            "No improvement with encoded_HouseStyle_MSSubClass_3, skipping.\n",
            "No improvement with encoded_HouseStyle_BsmtFullBath, skipping.\n",
            "No improvement with encoded_HouseStyle_ScreenPorch, skipping.\n",
            "No improvement with encoded_HouseStyle_encoded_KitchenQual, skipping.\n",
            "No improvement with encoded_HouseStyle_encoded_GarageQual, skipping.\n",
            "No improvement with encoded_HouseStyle_OverallCond, skipping.\n",
            "No improvement with encoded_HouseStyle_encoded_BsmtQual, skipping.\n",
            "No improvement with encoded_HouseStyle_encoded_HouseStyle, skipping.\n",
            "No improvement with encoded_HouseStyle_Condition2_0, skipping.\n",
            "New lowest test MSE with encoded_HouseStyle_SaleType_2: 1188854384.672819\n",
            "New lowest test MSE with encoded_HouseStyle_MSZoning_2: 1188079228.9144182\n",
            "No improvement with Condition2_0_BldgType_2, skipping.\n",
            "New lowest test MSE with Condition2_0_OverallQual: 1187879749.6586409\n",
            "No improvement with Condition2_0_Condition1_3, skipping.\n",
            "No improvement with Condition2_0_GarageCars, skipping.\n",
            "No improvement with Condition2_0_Alley_1, skipping.\n",
            "No improvement with Condition2_0_Neighborhood_0, skipping.\n",
            "No improvement with Condition2_0_MSSubClass_3, skipping.\n",
            "No improvement with Condition2_0_BsmtFullBath, skipping.\n",
            "No improvement with Condition2_0_ScreenPorch, skipping.\n",
            "No improvement with Condition2_0_encoded_KitchenQual, skipping.\n",
            "No improvement with Condition2_0_encoded_GarageQual, skipping.\n",
            "No improvement with Condition2_0_OverallCond, skipping.\n",
            "New lowest test MSE with Condition2_0_encoded_BsmtQual: 1187838870.6159577\n",
            "No improvement with Condition2_0_encoded_HouseStyle, skipping.\n",
            "No improvement with Condition2_0_Condition2_0, skipping.\n",
            "No improvement with Condition2_0_SaleType_2, skipping.\n",
            "No improvement with Condition2_0_MSZoning_2, skipping.\n",
            "New lowest test MSE with SaleType_2_BldgType_2: 1182470146.5972824\n",
            "No improvement with SaleType_2_OverallQual, skipping.\n",
            "No improvement with SaleType_2_Condition1_3, skipping.\n",
            "No improvement with SaleType_2_GarageCars, skipping.\n",
            "No improvement with SaleType_2_Alley_1, skipping.\n",
            "No improvement with SaleType_2_Neighborhood_0, skipping.\n",
            "No improvement with SaleType_2_MSSubClass_3, skipping.\n",
            "No improvement with SaleType_2_BsmtFullBath, skipping.\n",
            "No improvement with SaleType_2_ScreenPorch, skipping.\n",
            "No improvement with SaleType_2_encoded_KitchenQual, skipping.\n",
            "No improvement with SaleType_2_encoded_GarageQual, skipping.\n",
            "No improvement with SaleType_2_OverallCond, skipping.\n",
            "No improvement with SaleType_2_encoded_BsmtQual, skipping.\n",
            "No improvement with SaleType_2_encoded_HouseStyle, skipping.\n",
            "No improvement with SaleType_2_Condition2_0, skipping.\n",
            "No improvement with SaleType_2_SaleType_2, skipping.\n",
            "New lowest test MSE with SaleType_2_MSZoning_2: 1178667689.5542784\n",
            "No improvement with MSZoning_2_BldgType_2, skipping.\n",
            "No improvement with MSZoning_2_OverallQual, skipping.\n",
            "No improvement with MSZoning_2_Condition1_3, skipping.\n",
            "No improvement with MSZoning_2_GarageCars, skipping.\n",
            "New lowest test MSE with MSZoning_2_Alley_1: 1178667689.5542758\n",
            "New lowest test MSE with MSZoning_2_Neighborhood_0: 1178667689.5542753\n",
            "No improvement with MSZoning_2_MSSubClass_3, skipping.\n",
            "New lowest test MSE with MSZoning_2_BsmtFullBath: 1177975375.463363\n",
            "New lowest test MSE with MSZoning_2_ScreenPorch: 1177975375.4633608\n",
            "No improvement with MSZoning_2_encoded_KitchenQual, skipping.\n",
            "No improvement with MSZoning_2_encoded_GarageQual, skipping.\n",
            "No improvement with MSZoning_2_OverallCond, skipping.\n",
            "New lowest test MSE with MSZoning_2_encoded_BsmtQual: 1177975375.46336\n",
            "New lowest test MSE with MSZoning_2_encoded_HouseStyle: 1177975375.463358\n",
            "No improvement with MSZoning_2_Condition2_0, skipping.\n",
            "No improvement with MSZoning_2_SaleType_2, skipping.\n",
            "No improvement with MSZoning_2_MSZoning_2, skipping.\n",
            "                            OLS Regression Results                            \n",
            "==============================================================================\n",
            "Dep. Variable:              SalePrice   R-squared:                       0.849\n",
            "Model:                            OLS   Adj. R-squared:                  0.833\n",
            "Method:                 Least Squares   F-statistic:                     52.74\n",
            "Date:                Wed, 16 Oct 2024   Prob (F-statistic):          5.28e-247\n",
            "Time:                        03:00:23   Log-Likelihood:                -9309.8\n",
            "No. Observations:                 800   AIC:                         1.878e+04\n",
            "Df Residuals:                     722   BIC:                         1.914e+04\n",
            "Df Model:                          77                                         \n",
            "Covariance Type:            nonrobust                                         \n",
            "===========================================================================================================\n",
            "                                              coef    std err          t      P>|t|      [0.025      0.975]\n",
            "-----------------------------------------------------------------------------------------------------------\n",
            "const                                    9.158e+04    1.7e+04      5.386      0.000    5.82e+04    1.25e+05\n",
            "BldgType_2                               6376.3995   1.18e+04      0.541      0.589   -1.68e+04    2.95e+04\n",
            "OverallQual                             -4407.4196   1.33e+04     -0.331      0.741   -3.05e+04    2.17e+04\n",
            "Condition1_3                             2.767e+04   1.65e+04      1.674      0.094   -4773.814    6.01e+04\n",
            "GarageCars                               2.673e+04   1.58e+04      1.690      0.091   -4319.197    5.78e+04\n",
            "Alley_1                                   3.81e+04   1.69e+04      2.259      0.024    4994.036    7.12e+04\n",
            "Neighborhood_0                           1.994e+04   2.87e+04      0.695      0.488   -3.64e+04    7.63e+04\n",
            "MSSubClass_3                             1.013e+04   1.21e+04      0.840      0.401   -1.36e+04    3.38e+04\n",
            "BsmtFullBath                              1.71e+04   9138.295      1.871      0.062    -843.911     3.5e+04\n",
            "ScreenPorch                               1.38e+04   1.29e+04      1.074      0.283   -1.14e+04     3.9e+04\n",
            "encoded_KitchenQual                      6658.2251   4024.645      1.654      0.098   -1243.180    1.46e+04\n",
            "encoded_GarageQual                       1.103e+04   4070.212      2.710      0.007    3038.118     1.9e+04\n",
            "OverallCond                              7432.9846   2801.247      2.653      0.008    1933.423    1.29e+04\n",
            "encoded_BsmtQual                        -1058.0519   1.04e+04     -0.102      0.919   -2.15e+04    1.94e+04\n",
            "encoded_HouseStyle                       -335.9901   6185.156     -0.054      0.957   -1.25e+04    1.18e+04\n",
            "Condition2_0                            -2185.2484   9659.701     -0.226      0.821   -2.11e+04    1.68e+04\n",
            "SaleType_2                               2.977e+04    1.3e+04      2.289      0.022    4232.914    5.53e+04\n",
            "MSZoning_2                              -4851.0975   1.58e+04     -0.308      0.758   -3.58e+04    2.61e+04\n",
            "BldgType_2_BldgType_2                    6376.3995   1.18e+04      0.541      0.589   -1.68e+04    2.95e+04\n",
            "BldgType_2_Alley_1                      -2247.4918   2.41e+04     -0.093      0.926   -4.96e+04    4.51e+04\n",
            "BldgType_2_Neighborhood_0                6011.6041   1.36e+04      0.441      0.659   -2.08e+04    3.28e+04\n",
            "BldgType_2_BsmtFullBath                 -2213.8104   2351.042     -0.942      0.347   -6829.505    2401.885\n",
            "BldgType_2_ScreenPorch                   3465.3807   5179.563      0.669      0.504   -6703.422    1.36e+04\n",
            "BldgType_2_encoded_HouseStyle             890.6709   2819.218      0.316      0.752   -4644.174    6425.516\n",
            "OverallQual_OverallQual                  6034.0061   1818.524      3.318      0.001    2463.780    9604.232\n",
            "OverallQual_Condition1_3                 1.109e+04   5298.892      2.093      0.037     687.006    2.15e+04\n",
            "OverallQual_GarageCars                   6476.7656   1825.261      3.548      0.000    2893.312    1.01e+04\n",
            "OverallQual_Alley_1                      5621.6925   4041.174      1.391      0.165   -2312.162    1.36e+04\n",
            "OverallQual_Neighborhood_0               4539.5400   4442.819      1.022      0.307   -4182.847    1.33e+04\n",
            "OverallQual_OverallCond                  1329.9563    711.089      1.870      0.062     -66.093    2726.006\n",
            "OverallQual_encoded_BsmtQual            -1147.7401   2303.170     -0.498      0.618   -5669.451    3373.970\n",
            "OverallQual_encoded_HouseStyle          -1328.1612   1723.569     -0.771      0.441   -4711.966    2055.644\n",
            "Condition1_3_OverallQual                 1.109e+04   5298.892      2.093      0.037     687.006    2.15e+04\n",
            "Condition1_3_GarageCars                 -1.343e+04   1.55e+04     -0.867      0.386   -4.38e+04     1.7e+04\n",
            "Condition1_3_Neighborhood_0             -7705.8372   1.19e+04     -0.647      0.518   -3.11e+04    1.57e+04\n",
            "Condition1_3_MSSubClass_3               -8684.3039   2.43e+04     -0.357      0.721   -5.64e+04    3.91e+04\n",
            "Condition1_3_BsmtFullBath               -3782.9805   3681.285     -1.028      0.304    -1.1e+04    3444.322\n",
            "Condition1_3_ScreenPorch                -1438.2573   1923.260     -0.748      0.455   -5214.108    2337.593\n",
            "GarageCars_GarageCars                     184.7010   1490.030      0.124      0.901   -2740.607    3110.009\n",
            "GarageCars_Neighborhood_0               -7222.3214   4682.021     -1.543      0.123   -1.64e+04    1969.679\n",
            "GarageCars_MSSubClass_3                  2749.3477   3559.083      0.772      0.440   -4238.041    9736.736\n",
            "GarageCars_BsmtFullBath                  1287.3674    575.100      2.239      0.025     158.300    2416.435\n",
            "GarageCars_encoded_HouseStyle             940.9611   1532.918      0.614      0.540   -2068.548    3950.470\n",
            "GarageCars_SaleType_2                    9248.2807   4682.788      1.975      0.049      54.774    1.84e+04\n",
            "GarageCars_MSZoning_2                     605.5025   3837.240      0.158      0.875   -6927.979    8138.984\n",
            "Alley_1_OverallQual                      5621.6925   4041.174      1.391      0.165   -2312.162    1.36e+04\n",
            "Alley_1_Condition1_3                    -2.581e+04   1.67e+04     -1.547      0.122   -5.86e+04    6948.009\n",
            "Alley_1_ScreenPorch                     -1.174e+04   9236.866     -1.272      0.204   -2.99e+04    6389.373\n",
            "Alley_1_encoded_GarageQual              -1060.7020   2354.628     -0.450      0.653   -5683.438    3562.034\n",
            "Alley_1_encoded_BsmtQual                 6596.4955   5041.194      1.309      0.191   -3300.653    1.65e+04\n",
            "Alley_1_SaleType_2                       2.977e+04    1.3e+04      2.289      0.022    4232.914    5.53e+04\n",
            "Alley_1_MSZoning_2                       1.018e+04   7937.607      1.283      0.200   -5399.459    2.58e+04\n",
            "Neighborhood_0_Condition1_3             -7705.8372   1.19e+04     -0.647      0.518   -3.11e+04    1.57e+04\n",
            "Neighborhood_0_MSSubClass_3              2.098e+04   7078.179      2.964      0.003    7080.813    3.49e+04\n",
            "Neighborhood_0_BsmtFullBath              3607.5014   3561.879      1.013      0.311   -3385.375    1.06e+04\n",
            "Neighborhood_0_encoded_HouseStyle        5899.2303   3601.804      1.638      0.102   -1172.030     1.3e+04\n",
            "Neighborhood_0_MSZoning_2                1321.3943   5150.926      0.257      0.798   -8791.187    1.14e+04\n",
            "MSSubClass_3_MSSubClass_3                1.013e+04   1.21e+04      0.840      0.401   -1.36e+04    3.38e+04\n",
            "MSSubClass_3_ScreenPorch                 -881.1832   1637.373     -0.538      0.591   -4095.764    2333.397\n",
            "MSSubClass_3_encoded_GarageQual           183.1688   3092.575      0.059      0.953   -5888.345    6254.682\n",
            "MSSubClass_3_encoded_HouseStyle         -2870.4745   2992.265     -0.959      0.338   -8745.054    3004.105\n",
            "BsmtFullBath_BldgType_2                 -2213.8104   2351.042     -0.942      0.347   -6829.505    2401.885\n",
            "BsmtFullBath_Condition1_3               -3782.9805   3681.285     -1.028      0.304    -1.1e+04    3444.322\n",
            "BsmtFullBath_GarageCars                  1287.3674    575.100      2.239      0.025     158.300    2416.435\n",
            "BsmtFullBath_encoded_HouseStyle         -5142.7162   1055.170     -4.874      0.000   -7214.285   -3071.148\n",
            "BsmtFullBath_Condition2_0               -2415.7114   1.07e+04     -0.226      0.821   -2.34e+04    1.85e+04\n",
            "ScreenPorch_BldgType_2                   3465.3807   5179.563      0.669      0.504   -6703.422    1.36e+04\n",
            "ScreenPorch_Condition1_3                -1438.2573   1923.260     -0.748      0.455   -5214.108    2337.593\n",
            "ScreenPorch_Neighborhood_0               -787.5557   3537.950     -0.223      0.824   -7733.454    6158.342\n",
            "ScreenPorch_MSSubClass_3                 -881.1832   1637.373     -0.538      0.591   -4095.764    2333.397\n",
            "ScreenPorch_encoded_KitchenQual          1803.9777   2095.639      0.861      0.390   -2310.296    5918.252\n",
            "ScreenPorch_OverallCond                   539.9791   1362.763      0.396      0.692   -2135.471    3215.430\n",
            "ScreenPorch_encoded_BsmtQual            -3252.3714   2287.114     -1.422      0.155   -7742.560    1237.817\n",
            "ScreenPorch_Condition2_0                  566.8188   2505.573      0.226      0.821   -4352.261    5485.898\n",
            "ScreenPorch_MSZoning_2                  -1001.6951   3996.422     -0.251      0.802   -8847.691    6844.301\n",
            "encoded_KitchenQual_OverallQual         -1899.0200   2331.760     -0.814      0.416   -6476.860    2678.820\n",
            "encoded_KitchenQual_Neighborhood_0       2184.0897   4249.000      0.514      0.607   -6157.781    1.05e+04\n",
            "encoded_KitchenQual_encoded_KitchenQual  1179.4328   1002.171      1.177      0.240    -788.085    3146.951\n",
            "encoded_KitchenQual_encoded_GarageQual   -633.0298   1302.126     -0.486      0.627   -3189.435    1923.376\n",
            "encoded_KitchenQual_encoded_BsmtQual     1221.8299    818.695      1.492      0.136    -385.478    2829.137\n",
            "encoded_KitchenQual_encoded_HouseStyle   1194.9316   1625.442      0.735      0.462   -1996.226    4386.090\n",
            "encoded_KitchenQual_MSZoning_2          -1060.7511   4232.264     -0.251      0.802   -9369.766    7248.263\n",
            "encoded_GarageQual_Condition1_3         -6964.8080   4077.813     -1.708      0.088    -1.5e+04    1040.979\n",
            "encoded_GarageQual_GarageCars            3653.1396   3957.874      0.923      0.356   -4117.176    1.14e+04\n",
            "encoded_GarageQual_Alley_1              -1060.7020   2354.628     -0.450      0.653   -5683.438    3562.034\n",
            "encoded_GarageQual_encoded_GarageQual   -1956.3680   1966.111     -0.995      0.320   -5816.346    1903.610\n",
            "OverallCond_OverallQual                  1329.9563    711.089      1.870      0.062     -66.093    2726.006\n",
            "OverallCond_OverallCond                 -1503.6909    823.926     -1.825      0.068   -3121.269     113.887\n",
            "OverallCond_MSZoning_2                    648.2953   2819.958      0.230      0.818   -4888.002    6184.593\n",
            "encoded_BsmtQual_Alley_1                 6596.4955   5041.194      1.309      0.191   -3300.653    1.65e+04\n",
            "encoded_BsmtQual_encoded_KitchenQual     1221.8299    818.695      1.492      0.136    -385.478    2829.137\n",
            "encoded_BsmtQual_encoded_BsmtQual        1708.9171    838.521      2.038      0.042      62.687    3355.147\n",
            "encoded_BsmtQual_MSZoning_2             -1392.2844   2055.198     -0.677      0.498   -5427.162    2642.593\n",
            "encoded_HouseStyle_BldgType_2             890.6709   2819.218      0.316      0.752   -4644.174    6425.516\n",
            "encoded_HouseStyle_SaleType_2           -8386.7611   4432.013     -1.892      0.059   -1.71e+04     314.412\n",
            "encoded_HouseStyle_MSZoning_2            2035.4632   1848.839      1.101      0.271   -1594.278    5665.205\n",
            "Condition2_0_OverallQual                 1742.2482   7701.456      0.226      0.821   -1.34e+04    1.69e+04\n",
            "Condition2_0_encoded_BsmtQual            1199.9373   5304.219      0.226      0.821   -9213.597    1.16e+04\n",
            "SaleType_2_BldgType_2                   -2.408e+04   1.93e+04     -1.247      0.213    -6.2e+04    1.38e+04\n",
            "SaleType_2_MSZoning_2                   -2.822e+04   1.85e+04     -1.524      0.128   -6.46e+04    8127.644\n",
            "MSZoning_2_Alley_1                       1.018e+04   7937.607      1.283      0.200   -5399.459    2.58e+04\n",
            "MSZoning_2_Neighborhood_0                1321.3943   5150.926      0.257      0.798   -8791.187    1.14e+04\n",
            "MSZoning_2_BsmtFullBath                   721.2051   3804.602      0.190      0.850   -6748.200    8190.610\n",
            "MSZoning_2_ScreenPorch                  -1001.6951   3996.422     -0.251      0.802   -8847.691    6844.301\n",
            "MSZoning_2_encoded_BsmtQual             -1392.2844   2055.198     -0.677      0.498   -5427.162    2642.593\n",
            "MSZoning_2_encoded_HouseStyle            2035.4632   1848.839      1.101      0.271   -1594.278    5665.205\n",
            "==============================================================================\n",
            "Omnibus:                       84.410   Durbin-Watson:                   1.970\n",
            "Prob(Omnibus):                  0.000   Jarque-Bera (JB):              335.077\n",
            "Skew:                           0.416   Prob(JB):                     1.73e-73\n",
            "Kurtosis:                       6.060   Cond. No.                     3.95e+16\n",
            "==============================================================================\n",
            "\n",
            "Notes:\n",
            "[1] Standard Errors assume that the covariance matrix of the errors is correctly specified.\n",
            "[2] The smallest eigenvalue is 1.57e-29. This might indicate that there are\n",
            "strong multicollinearity problems or that the design matrix is singular.\n",
            "Root Train Mean Squared Error MSE: 27401.0815\n",
            "Train R-squared                  : 0.8490\n",
            "Root Test Mean Squared Error MSE : 34321.6459\n",
            "Test R-squared                   : 0.7905\n"
          ]
        },
        {
          "output_type": "execute_result",
          "data": {
            "text/plain": [
              "(750819266.7826964, 0.8490476436567835, 1177975375.463358, 0.7905179478094786)"
            ]
          },
          "metadata": {},
          "execution_count": 1960
        }
      ]
    },
    {
      "cell_type": "markdown",
      "source": [
        "This will cause high multicollinearity and much more noise in the model as there are many variables that are not statistically-important get added to the model because the lower the test mse, this is also overfitting. Next step would be drop unnecessary variables"
      ],
      "metadata": {
        "id": "79qVVF8_EGZU"
      }
    },
    {
      "cell_type": "code",
      "source": [
        "# Set thresholds for p-value and t-value\n",
        "p_value_threshold = 0.05\n",
        "t_value_threshold = 1.96\n",
        "\n",
        "# Add constant to the features\n",
        "X_best_const = sm.add_constant(X_best)\n",
        "\n",
        "# Fit the OLS model\n",
        "model = sm.OLS(Y, X_best_const).fit()\n",
        "\n",
        "# Get the p-values and t-values from the model summary\n",
        "p_values = model.pvalues\n",
        "t_values = model.tvalues\n",
        "\n",
        "# Iterate through the columns and drop based on p-value and t-value\n",
        "columns_to_drop = []\n",
        "\n",
        "for col in X_best_const.columns:\n",
        "    # Skip the intercept\n",
        "    if col == 'const':\n",
        "        continue\n",
        "    if p_values[col] > p_value_threshold and abs(t_values[col]) < t_value_threshold and col not in forward_best_predictors:\n",
        "        columns_to_drop.append(col)\n",
        "\n",
        "# Drop the columns\n",
        "X_best_filtered = X_best_const.drop(columns=columns_to_drop)\n",
        "# Refit the model with the remaining variables\n",
        "model_filtered = sm.OLS(Y, X_best_filtered).fit()\n",
        "\n",
        "# Check the summary of the new model\n",
        "print(model_filtered.summary())\n",
        "X_best_filtered = sm.add_constant(X_best_filtered)\n",
        "y_pred = model_filtered.predict(X_best_filtered)\n",
        "mse = mean_squared_error(Y, y_pred)\n",
        "print(f\"Root Test MSE: {sqrt(mse)}\")"
      ],
      "metadata": {
        "colab": {
          "base_uri": "https://localhost:8080/"
        },
        "id": "DQDmTv5bQfp2",
        "outputId": "f6b4b889-eb25-4d38-8e26-8b4896eeb6a0"
      },
      "execution_count": 1969,
      "outputs": [
        {
          "output_type": "stream",
          "name": "stdout",
          "text": [
            "                            OLS Regression Results                            \n",
            "==============================================================================\n",
            "Dep. Variable:              SalePrice   R-squared:                       0.829\n",
            "Model:                            OLS   Adj. R-squared:                  0.824\n",
            "Method:                 Least Squares   F-statistic:                     162.0\n",
            "Date:                Wed, 16 Oct 2024   Prob (F-statistic):               0.00\n",
            "Time:                        03:07:29   Log-Likelihood:                -11713.\n",
            "No. Observations:                1000   AIC:                         2.349e+04\n",
            "Df Residuals:                     970   BIC:                         2.363e+04\n",
            "Df Model:                          29                                         \n",
            "Covariance Type:            nonrobust                                         \n",
            "=====================================================================================================\n",
            "                                        coef    std err          t      P>|t|      [0.025      0.975]\n",
            "-----------------------------------------------------------------------------------------------------\n",
            "const                              1.422e+05   9042.436     15.722      0.000    1.24e+05     1.6e+05\n",
            "BldgType_2                         1.122e+04   4361.896      2.573      0.010    2663.328    1.98e+04\n",
            "OverallQual                       -1878.3022   6221.358     -0.302      0.763   -1.41e+04    1.03e+04\n",
            "Condition1_3                      -1.323e+04   6053.475     -2.185      0.029   -2.51e+04   -1349.143\n",
            "GarageCars                         1.757e+04   1679.548     10.462      0.000    1.43e+04    2.09e+04\n",
            "Alley_1                            1817.2471   5350.594      0.340      0.734   -8682.827    1.23e+04\n",
            "Neighborhood_0                     1.559e+04   3722.802      4.188      0.000    8284.329    2.29e+04\n",
            "MSSubClass_3                       1.028e+04   2685.063      3.828      0.000    5009.562    1.55e+04\n",
            "BsmtFullBath                       6366.5541   1016.470      6.263      0.000    4371.821    8361.287\n",
            "ScreenPorch                        4129.4492    965.857      4.275      0.000    2234.039    6024.860\n",
            "encoded_KitchenQual                6172.2359   1359.734      4.539      0.000    3503.877    8840.594\n",
            "encoded_GarageQual                  762.1420   1367.181      0.557      0.577   -1920.832    3445.116\n",
            "OverallCond                        8696.1686   1329.179      6.543      0.000    6087.771    1.13e+04\n",
            "encoded_BsmtQual                   9480.4607   1726.490      5.491      0.000    6092.376    1.29e+04\n",
            "encoded_HouseStyle                 3481.7028   1065.558      3.267      0.001    1390.638    5572.767\n",
            "Condition2_0                      -8430.1010   2.19e+04     -0.384      0.701   -5.15e+04    3.46e+04\n",
            "SaleType_2                         4324.6444   2092.609      2.067      0.039     218.082    8431.207\n",
            "MSZoning_2                         1.792e+04   3122.333      5.739      0.000    1.18e+04     2.4e+04\n",
            "OverallQual_OverallQual            4086.0839   1045.951      3.907      0.000    2033.497    6138.671\n",
            "OverallQual_Condition1_3           1.518e+04   3079.584      4.928      0.000    9131.590    2.12e+04\n",
            "OverallQual_GarageCars             9179.3538   1339.117      6.855      0.000    6551.454    1.18e+04\n",
            "OverallQual_OverallCond            2022.8347    563.915      3.587      0.000     916.201    3129.468\n",
            "Condition1_3_OverallQual           1.518e+04   3079.584      4.928      0.000    9131.590    2.12e+04\n",
            "GarageCars_Neighborhood_0         -3827.5967   2803.973     -1.365      0.173   -9330.149    1674.956\n",
            "GarageCars_BsmtFullBath            1704.1119    508.206      3.353      0.001     706.801    2701.423\n",
            "GarageCars_SaleType_2              6564.6623   3433.848      1.912      0.056    -173.965    1.33e+04\n",
            "Alley_1_SaleType_2                 4324.6444   2092.609      2.067      0.039     218.082    8431.207\n",
            "Neighborhood_0_MSSubClass_3        2.388e+04   5719.818      4.174      0.000    1.27e+04    3.51e+04\n",
            "BsmtFullBath_GarageCars            1704.1119    508.206      3.353      0.001     706.801    2701.423\n",
            "BsmtFullBath_encoded_HouseStyle   -4980.2063    930.034     -5.355      0.000   -6805.317   -3155.096\n",
            "OverallCond_OverallQual            2022.8347    563.915      3.587      0.000     916.201    3129.468\n",
            "OverallCond_OverallCond           -1590.2319    707.697     -2.247      0.025   -2979.025    -201.439\n",
            "encoded_BsmtQual_encoded_BsmtQual  1751.1846    540.450      3.240      0.001     690.598    2811.771\n",
            "encoded_HouseStyle_SaleType_2     -9053.7129   3755.513     -2.411      0.016   -1.64e+04   -1683.847\n",
            "==============================================================================\n",
            "Omnibus:                      120.446   Durbin-Watson:                   1.933\n",
            "Prob(Omnibus):                  0.000   Jarque-Bera (JB):              895.789\n",
            "Skew:                           0.250   Prob(JB):                    3.03e-195\n",
            "Kurtosis:                       7.610   Cond. No.                     1.87e+16\n",
            "==============================================================================\n",
            "\n",
            "Notes:\n",
            "[1] Standard Errors assume that the covariance matrix of the errors is correctly specified.\n",
            "[2] The smallest eigenvalue is 3.28e-29. This might indicate that there are\n",
            "strong multicollinearity problems or that the design matrix is singular.\n",
            "Root Test MSE: 29553.69498181561\n"
          ]
        }
      ]
    },
    {
      "cell_type": "markdown",
      "source": [
        "This is the best result we can get through this method, if we use this for the final test data, the rmse would be ()\n",
        "\n",
        "\n",
        "We can see that from the graph, as the predictors gets more than 17, the test mse woulnd't increase drastically\n",
        "\n",
        "and the training mse wouldn't drop drastically."
      ],
      "metadata": {
        "id": "K445b6fx7uIK"
      }
    },
    {
      "cell_type": "code",
      "source": [
        "T = transformed_data[forward_best_predictors]\n",
        "T['OverallQual_OverallQual'] = T['OverallQual'] * T['OverallQual']\n",
        "T['OverallQual_Condition1_3'] = T['OverallQual'] * T['Condition1_3']\n",
        "T['OverallQual_GarageCars'] = T['OverallQual'] * T['GarageCars']\n",
        "T['OverallQual_OverallCond'] = T['OverallQual'] * T['OverallCond']\n",
        "T['Condition1_3_OverallQual'] = T['Condition1_3'] * T['OverallQual']\n",
        "T['GarageCars_Neighborhood_0'] = T['GarageCars'] * T['Neighborhood_0']\n",
        "T['GarageCars_BsmtFullBath'] = T['GarageCars'] * T['BsmtFullBath']\n",
        "T['GarageCars_SaleType_2'] = T['GarageCars'] * T['SaleType_2']\n",
        "T['Alley_1_SaleType_2'] = T['Alley_1'] * T['SaleType_2']\n",
        "T['Neighborhood_0_MSSubClass_3'] = T['Neighborhood_0'] * T['MSSubClass_3']\n",
        "T['BsmtFullBath_GarageCars'] = T['BsmtFullBath'] * T['GarageCars']\n",
        "T['BsmtFullBath_encoded_HouseStyle'] = T['BsmtFullBath'] * T['encoded_HouseStyle']\n",
        "T['OverallCond_OverallQual'] = T['OverallCond'] * T['OverallQual']\n",
        "T['OverallCond_OverallCond'] = T['OverallCond'] * T['OverallCond']\n",
        "T['encoded_BsmtQual_encoded_BsmtQual'] = T['encoded_BsmtQual'] * T['encoded_BsmtQual']\n",
        "T['encoded_HouseStyle_SaleType_2'] = T['encoded_HouseStyle'] * T['SaleType_2']\n",
        "\n"
      ],
      "metadata": {
        "colab": {
          "base_uri": "https://localhost:8080/"
        },
        "id": "aRpGfsOAL3gJ",
        "outputId": "d1ae75ae-527f-457c-f3af-6447beaeeb7a"
      },
      "execution_count": 2023,
      "outputs": [
        {
          "output_type": "stream",
          "name": "stderr",
          "text": [
            "<ipython-input-2023-9769073d4610>:2: SettingWithCopyWarning: \n",
            "A value is trying to be set on a copy of a slice from a DataFrame.\n",
            "Try using .loc[row_indexer,col_indexer] = value instead\n",
            "\n",
            "See the caveats in the documentation: https://pandas.pydata.org/pandas-docs/stable/user_guide/indexing.html#returning-a-view-versus-a-copy\n",
            "  T['OverallQual_OverallQual'] = T['OverallQual'] * T['OverallQual']\n",
            "<ipython-input-2023-9769073d4610>:3: SettingWithCopyWarning: \n",
            "A value is trying to be set on a copy of a slice from a DataFrame.\n",
            "Try using .loc[row_indexer,col_indexer] = value instead\n",
            "\n",
            "See the caveats in the documentation: https://pandas.pydata.org/pandas-docs/stable/user_guide/indexing.html#returning-a-view-versus-a-copy\n",
            "  T['OverallQual_Condition1_3'] = T['OverallQual'] * T['Condition1_3']\n",
            "<ipython-input-2023-9769073d4610>:4: SettingWithCopyWarning: \n",
            "A value is trying to be set on a copy of a slice from a DataFrame.\n",
            "Try using .loc[row_indexer,col_indexer] = value instead\n",
            "\n",
            "See the caveats in the documentation: https://pandas.pydata.org/pandas-docs/stable/user_guide/indexing.html#returning-a-view-versus-a-copy\n",
            "  T['OverallQual_GarageCars'] = T['OverallQual'] * T['GarageCars']\n",
            "<ipython-input-2023-9769073d4610>:5: SettingWithCopyWarning: \n",
            "A value is trying to be set on a copy of a slice from a DataFrame.\n",
            "Try using .loc[row_indexer,col_indexer] = value instead\n",
            "\n",
            "See the caveats in the documentation: https://pandas.pydata.org/pandas-docs/stable/user_guide/indexing.html#returning-a-view-versus-a-copy\n",
            "  T['OverallQual_OverallCond'] = T['OverallQual'] * T['OverallCond']\n",
            "<ipython-input-2023-9769073d4610>:6: SettingWithCopyWarning: \n",
            "A value is trying to be set on a copy of a slice from a DataFrame.\n",
            "Try using .loc[row_indexer,col_indexer] = value instead\n",
            "\n",
            "See the caveats in the documentation: https://pandas.pydata.org/pandas-docs/stable/user_guide/indexing.html#returning-a-view-versus-a-copy\n",
            "  T['Condition1_3_OverallQual'] = T['Condition1_3'] * T['OverallQual']\n",
            "<ipython-input-2023-9769073d4610>:7: SettingWithCopyWarning: \n",
            "A value is trying to be set on a copy of a slice from a DataFrame.\n",
            "Try using .loc[row_indexer,col_indexer] = value instead\n",
            "\n",
            "See the caveats in the documentation: https://pandas.pydata.org/pandas-docs/stable/user_guide/indexing.html#returning-a-view-versus-a-copy\n",
            "  T['GarageCars_Neighborhood_0'] = T['GarageCars'] * T['Neighborhood_0']\n",
            "<ipython-input-2023-9769073d4610>:8: SettingWithCopyWarning: \n",
            "A value is trying to be set on a copy of a slice from a DataFrame.\n",
            "Try using .loc[row_indexer,col_indexer] = value instead\n",
            "\n",
            "See the caveats in the documentation: https://pandas.pydata.org/pandas-docs/stable/user_guide/indexing.html#returning-a-view-versus-a-copy\n",
            "  T['GarageCars_BsmtFullBath'] = T['GarageCars'] * T['BsmtFullBath']\n",
            "<ipython-input-2023-9769073d4610>:9: SettingWithCopyWarning: \n",
            "A value is trying to be set on a copy of a slice from a DataFrame.\n",
            "Try using .loc[row_indexer,col_indexer] = value instead\n",
            "\n",
            "See the caveats in the documentation: https://pandas.pydata.org/pandas-docs/stable/user_guide/indexing.html#returning-a-view-versus-a-copy\n",
            "  T['GarageCars_SaleType_2'] = T['GarageCars'] * T['SaleType_2']\n",
            "<ipython-input-2023-9769073d4610>:10: SettingWithCopyWarning: \n",
            "A value is trying to be set on a copy of a slice from a DataFrame.\n",
            "Try using .loc[row_indexer,col_indexer] = value instead\n",
            "\n",
            "See the caveats in the documentation: https://pandas.pydata.org/pandas-docs/stable/user_guide/indexing.html#returning-a-view-versus-a-copy\n",
            "  T['Alley_1_SaleType_2'] = T['Alley_1'] * T['SaleType_2']\n",
            "<ipython-input-2023-9769073d4610>:11: SettingWithCopyWarning: \n",
            "A value is trying to be set on a copy of a slice from a DataFrame.\n",
            "Try using .loc[row_indexer,col_indexer] = value instead\n",
            "\n",
            "See the caveats in the documentation: https://pandas.pydata.org/pandas-docs/stable/user_guide/indexing.html#returning-a-view-versus-a-copy\n",
            "  T['Neighborhood_0_MSSubClass_3'] = T['Neighborhood_0'] * T['MSSubClass_3']\n",
            "<ipython-input-2023-9769073d4610>:12: SettingWithCopyWarning: \n",
            "A value is trying to be set on a copy of a slice from a DataFrame.\n",
            "Try using .loc[row_indexer,col_indexer] = value instead\n",
            "\n",
            "See the caveats in the documentation: https://pandas.pydata.org/pandas-docs/stable/user_guide/indexing.html#returning-a-view-versus-a-copy\n",
            "  T['BsmtFullBath_GarageCars'] = T['BsmtFullBath'] * T['GarageCars']\n",
            "<ipython-input-2023-9769073d4610>:13: SettingWithCopyWarning: \n",
            "A value is trying to be set on a copy of a slice from a DataFrame.\n",
            "Try using .loc[row_indexer,col_indexer] = value instead\n",
            "\n",
            "See the caveats in the documentation: https://pandas.pydata.org/pandas-docs/stable/user_guide/indexing.html#returning-a-view-versus-a-copy\n",
            "  T['BsmtFullBath_encoded_HouseStyle'] = T['BsmtFullBath'] * T['encoded_HouseStyle']\n",
            "<ipython-input-2023-9769073d4610>:14: SettingWithCopyWarning: \n",
            "A value is trying to be set on a copy of a slice from a DataFrame.\n",
            "Try using .loc[row_indexer,col_indexer] = value instead\n",
            "\n",
            "See the caveats in the documentation: https://pandas.pydata.org/pandas-docs/stable/user_guide/indexing.html#returning-a-view-versus-a-copy\n",
            "  T['OverallCond_OverallQual'] = T['OverallCond'] * T['OverallQual']\n",
            "<ipython-input-2023-9769073d4610>:15: SettingWithCopyWarning: \n",
            "A value is trying to be set on a copy of a slice from a DataFrame.\n",
            "Try using .loc[row_indexer,col_indexer] = value instead\n",
            "\n",
            "See the caveats in the documentation: https://pandas.pydata.org/pandas-docs/stable/user_guide/indexing.html#returning-a-view-versus-a-copy\n",
            "  T['OverallCond_OverallCond'] = T['OverallCond'] * T['OverallCond']\n",
            "<ipython-input-2023-9769073d4610>:16: SettingWithCopyWarning: \n",
            "A value is trying to be set on a copy of a slice from a DataFrame.\n",
            "Try using .loc[row_indexer,col_indexer] = value instead\n",
            "\n",
            "See the caveats in the documentation: https://pandas.pydata.org/pandas-docs/stable/user_guide/indexing.html#returning-a-view-versus-a-copy\n",
            "  T['encoded_BsmtQual_encoded_BsmtQual'] = T['encoded_BsmtQual'] * T['encoded_BsmtQual']\n",
            "<ipython-input-2023-9769073d4610>:17: SettingWithCopyWarning: \n",
            "A value is trying to be set on a copy of a slice from a DataFrame.\n",
            "Try using .loc[row_indexer,col_indexer] = value instead\n",
            "\n",
            "See the caveats in the documentation: https://pandas.pydata.org/pandas-docs/stable/user_guide/indexing.html#returning-a-view-versus-a-copy\n",
            "  T['encoded_HouseStyle_SaleType_2'] = T['encoded_HouseStyle'] * T['SaleType_2']\n"
          ]
        }
      ]
    },
    {
      "cell_type": "code",
      "source": [
        "ols_sm = sm.OLS(Y, X_best_filtered)\n",
        "\n",
        "# fitted model and summary\n",
        "model = ols_sm.fit()\n",
        "model"
      ],
      "metadata": {
        "colab": {
          "base_uri": "https://localhost:8080/"
        },
        "id": "WMHhyX71oVrq",
        "outputId": "4c48bc53-73c1-493d-e986-fb0ba14aee84"
      },
      "execution_count": 1971,
      "outputs": [
        {
          "output_type": "execute_result",
          "data": {
            "text/plain": [
              "<statsmodels.regression.linear_model.RegressionResultsWrapper at 0x7c2ca747b2b0>"
            ]
          },
          "metadata": {},
          "execution_count": 1971
        }
      ]
    },
    {
      "cell_type": "code",
      "source": [
        "# Add a constant term to the prediction data\n",
        "predictions = model.predict(sm.add_constant(T))\n",
        "#convert the predictions to a LIST of POSITIVE INTEGERS (do not submit decimals!)\n",
        "list_predictions = predictions.tolist()\n",
        "rounded_list_predictions = [int(x) for x in list_predictions]\n",
        "print(rounded_list_predictions)"
      ],
      "metadata": {
        "colab": {
          "base_uri": "https://localhost:8080/"
        },
        "id": "d6JfVNW1uhVD",
        "outputId": "74be94de-ae59-4bf9-e86c-0ce51abbcbed"
      },
      "execution_count": 2024,
      "outputs": [
        {
          "output_type": "stream",
          "name": "stdout",
          "text": [
            "[172807, 141362, 96211, 196185, 129754, 260221, 66936, 135110, 137770, 170156, 145148, 289810, 230992, 176171, 145860, 394824, 123371, 222302, 212553, 147223, 136477, 214302, 196368, 177114, 107434, 108852, 185265, 184041, 177114, 110901, 110599, 112983, 302078, 159168, 156338, 195457, 88046, 157094, 200433, 185265, 162598, 131416, 185265, 158362, 148917, 106823, 129562, 201285, 214333, 164937, 208514, 116714, 111644, 189982, 166836, 195261, 113891, 224839, 173088, 110122, 138723, 154506, 192641, 129600, 212553, 203601, 212617, 208514, 264933, 105061, 212068, 241464, 87401, 209436, 173067, 201285, 93708, 176585, 95198, 145735, 123371, 214717, 288312, 236332, 127767, 214231, 230196, 156369, 238199, 177114, 197910, 209436, 305511, 125109, 177311, 108010, 97188, 269251, 155496, 88808, 230375, 152085, 304490, 195521, 152428, 145770, 201285, 160238, 230196, 326124, 224874, 201285, 82290, 128444, 119066, 126430, 127167, 209436, 268453, 328717, 232290, 217077, 321862, 156201, 113732, 231016, 226639, 131999, 162278, 113074, 230196, 218776, 203790, 274436, 115933, 205655, 261929, 168234, 324041, 144940, 129071, 173331, 120919, 279721, 147969, 123371, 201285, 155131, 228397, 161197, 230196, 198769, 133808, 148786, 145860, 437951, 207835, 132847, 372622, 130203, 241464, 259444, 128824, 168286, 138451, 202415, 276513, 116115, 108617, 192605, 162459, 262199, 142815, 115207, 138368, 175610, 262587, 138755, 214769, 122864, 406744, 156286, 160185, 132259, 263928, 131150, 124386, 183748, 183352, 131416, 151070, 256796, 214494, 167259, 157094, 115568, 211773, 338218, 249303, 168434, 153918, 77470, 145735, 304604, 126170, 230862, 191006, 160185, 247693, 110640, 111644, 151003, 174748, 341271, 226751, 212553, 231185, 123371, 107303, 184707, 195457, 187206, 231185, 160185, 361214, 212553, 111665, 165210, 201285, 193627, 80872, 279757, 190051, 123815, 148932, 162245, 177114, 167705, 219638, 194154, 239013, 201285, 191382, 145860, 115933, 209436, 217194, 131640, 109069, 190051, 178392, 201285, 164931, 140940, 163082, 192611, 164673, 168434, 157200, 153918, 115933, 177114, 113092, 243774, 202580, 162802, 115207, 141276, 140716, 140161, 165245, 85535, 122135, 123371, 292336, 160272, 104120, 165591, 209475, 91386, 198374, 201285, 292864, 329099, 95074, 212553, 324979, 164966, 157095, 147029, 162355, 112434, 197106, 100915, 126170, 228308, 230196, 181381, 182011, 191854, 150020, 219765, 125477, 161915, 205049, 154262, 311423, 148932, 353070, 253171, 95115, 209436, 279721, 97485, 114602, 208514, 180289, 238347, 228012, 231185, 107573, 187075, 130812, 128821, 128821, 168434, 189886, 229368, 197340, 158388, 165880, 115579, 93960, 109203, 115933, 292897, 144940, 224173, 165050, 249147, 120185, 205049, 201285, 124896, 132611, 177042, 320036, 182431, 109004, 189727, 197573, 147824, 128821, 117828, 143639, 189945, 137961, 218100, 177114, 246815, 136932, 111497, 190051, 239498, 188382, 276219, 108852, 201778, 164966, 130930, 126542, 135682, 137269, 191006, 172657, 209436, 259635, 206182, 154894, 123371, 209893, 163014, 249646, 205737, 163160, 113405, 100654, 101727, 156369, 153918, 321862, 300089, 198235, 147131, 188382, 231016, 126621, 208386, 260221, 111497, 74571, 260221, 128834, 153464, 123371, 230196, 206182, 227968, 212553, 213385, 288487, 218579, 153918, 166836, 180907, 123951, 241464, 150396, 219924, 144928, 107837, 123256, 361214, 122588, 131117, 108684, 165245, 208514, 241116, 161476, 96211, 321862, 195056, 159764, 217077, 176585, 345399, 406744, 106762, 132313, 296992, 168434, 225696, 185683, 142488, 133808]\n"
          ]
        }
      ]
    },
    {
      "cell_type": "markdown",
      "source": [
        "Result is 34587"
      ],
      "metadata": {
        "id": "qjfS7w35To-c"
      }
    }
  ]
}